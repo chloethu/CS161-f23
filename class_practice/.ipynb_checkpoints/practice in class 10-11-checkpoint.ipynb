{
 "cells": [
  {
   "cell_type": "markdown",
   "id": "c04b646b",
   "metadata": {},
   "source": [
    "# Functions"
   ]
  },
  {
   "cell_type": "code",
   "execution_count": 2,
   "id": "34fa5abd",
   "metadata": {},
   "outputs": [],
   "source": [
    "# basic example\n",
    "def say_hello():\n",
    "    \"\"\"Displays a greeting.\"\"\"\n",
    "    print('Hello!')"
   ]
  },
  {
   "cell_type": "code",
   "execution_count": 3,
   "id": "5a2371db",
   "metadata": {},
   "outputs": [
    {
     "name": "stdout",
     "output_type": "stream",
     "text": [
      "Hello!\n"
     ]
    }
   ],
   "source": [
    "say_hello()"
   ]
  },
  {
   "cell_type": "code",
   "execution_count": 4,
   "id": "033c504d",
   "metadata": {},
   "outputs": [],
   "source": [
    "def say_hello_name(name):\n",
    "    \"\"\"Greet by name\"\"\"\n",
    "    print(f\"Hello, {name}!\")"
   ]
  },
  {
   "cell_type": "code",
   "execution_count": 5,
   "id": "05795a0f",
   "metadata": {},
   "outputs": [
    {
     "name": "stdout",
     "output_type": "stream",
     "text": [
      "Hello, Chloe!\n"
     ]
    }
   ],
   "source": [
    "say_hello_name(\"Chloe\")"
   ]
  },
  {
   "cell_type": "code",
   "execution_count": 6,
   "id": "edca65ab",
   "metadata": {},
   "outputs": [
    {
     "name": "stdout",
     "output_type": "stream",
     "text": [
      "Hello, Sylvie!\n"
     ]
    }
   ],
   "source": [
    "say_hello_name('Sylvie')"
   ]
  },
  {
   "cell_type": "code",
   "execution_count": 7,
   "id": "f73f3c4c",
   "metadata": {},
   "outputs": [],
   "source": [
    "names = [\"Moze\", 'Chloe', \"Wendy\"]"
   ]
  },
  {
   "cell_type": "code",
   "execution_count": 10,
   "id": "003b37c7",
   "metadata": {},
   "outputs": [
    {
     "name": "stdout",
     "output_type": "stream",
     "text": [
      "Hello, Moze!\n",
      "Hello, Chloe!\n",
      "Hello, Wendy!\n"
     ]
    }
   ],
   "source": [
    "for name in names:\n",
    "    say_hello_name(name)"
   ]
  },
  {
   "cell_type": "code",
   "execution_count": 11,
   "id": "5d756200",
   "metadata": {},
   "outputs": [],
   "source": [
    "def describe_author(name, genre):\n",
    "    \"\"\"Describe an author by genre\"\"\"\n",
    "    print(f\"{name.title()} writes {genre}.\")"
   ]
  },
  {
   "cell_type": "code",
   "execution_count": 12,
   "id": "43194289",
   "metadata": {},
   "outputs": [
    {
     "name": "stdout",
     "output_type": "stream",
     "text": [
      "Gibbon writes history.\n"
     ]
    }
   ],
   "source": [
    "describe_author('gibbon', 'history')"
   ]
  },
  {
   "cell_type": "code",
   "execution_count": 13,
   "id": "69ca3416",
   "metadata": {},
   "outputs": [],
   "source": [
    "def format_name(first_name, last_name):\n",
    "    full_name = f\"{first_name.title()} {last_name.title()}\"\n",
    "    return full_name"
   ]
  },
  {
   "cell_type": "code",
   "execution_count": 14,
   "id": "1432e96a",
   "metadata": {},
   "outputs": [],
   "source": [
    "philosopher = format_name('friedrich', 'nietzsche')"
   ]
  },
  {
   "cell_type": "code",
   "execution_count": 15,
   "id": "7c4400b2",
   "metadata": {},
   "outputs": [
    {
     "name": "stdout",
     "output_type": "stream",
     "text": [
      "Friedrich Nietzsche\n"
     ]
    }
   ],
   "source": [
    "print(philosopher)"
   ]
  },
  {
   "cell_type": "code",
   "execution_count": null,
   "id": "6b60a2d3",
   "metadata": {},
   "outputs": [],
   "source": []
  }
 ],
 "metadata": {
  "kernelspec": {
   "display_name": "Python 3 (ipykernel)",
   "language": "python",
   "name": "python3"
  },
  "language_info": {
   "codemirror_mode": {
    "name": "ipython",
    "version": 3
   },
   "file_extension": ".py",
   "mimetype": "text/x-python",
   "name": "python",
   "nbconvert_exporter": "python",
   "pygments_lexer": "ipython3",
   "version": "3.11.4"
  }
 },
 "nbformat": 4,
 "nbformat_minor": 5
}
