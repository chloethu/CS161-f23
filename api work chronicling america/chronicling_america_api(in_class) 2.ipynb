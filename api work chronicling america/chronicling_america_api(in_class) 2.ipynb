{
 "cells": [
  {
   "cell_type": "markdown",
   "metadata": {
    "id": "lg1_EIHEETuB"
   },
   "source": [
    "# Chronicling America API\n",
    "\n",
    "[Chronicling America](https://chroniclingamerica.loc.gov/) is a collection of digitized American newspapers dating from 1777 to 1963 provided by the Library of Congress. The collection offers an application programming interface (API) which allows users to easily harvest large amounts of data.\n",
    "\n",
    "In this notebook we will search Chronicling America's API, gather the search results into a Pandas dataframe, clean the data, and save it as a csv file."
   ]
  },
  {
   "cell_type": "code",
   "execution_count": 1,
   "metadata": {
    "id": "q0-jsD68ELup"
   },
   "outputs": [],
   "source": [
    "# imports\n",
    "import requests\n",
    "import json\n",
    "import math\n",
    "import pandas as pd\n",
    "import spacy"
   ]
  },
  {
   "cell_type": "markdown",
   "metadata": {
    "id": "XQFGCgdRHpCb"
   },
   "source": [
    "##Chronicling America URLs\n",
    "\n",
    "If I search for a term, \"abolition\" for example, on https://chroniclingamerica.loc.gov/ I will get a results url that looks like this:\n",
    "\n",
    "https://chroniclingamerica.loc.gov/search/pages/results/?state=&date1=1770&date2=1963&proxtext=abolition&x=12&y=18&dateFilterType=yearRange&rows=20&searchType=basic\n",
    "\n",
    "These search results are human actionable, but not machine actionable. Chronicling America as an API that allows me to get machine actionable results if I add `&format=json`:\n",
    "\n",
    "https://chroniclingamerica.loc.gov/search/pages/results/?state=&date1=1770&date2=1963&proxtext=abolition&x=12&y=18&dateFilterType=yearRange&rows=20&searchType=basic&format=json\n",
    "\n",
    "If we examine the url we see that there are a number of search parameters:\n",
    "- `state=`\n",
    "- `date1=1770`\n",
    "- `date2=1963`\n",
    "- `proxtext=abolition`\n",
    "\n",
    "We can edit these values to modify our search. I change the parameters to limit our search:\n",
    "\n",
    "https://chroniclingamerica.loc.gov/search/pages/results/?state=Massachusetts&date1=1770&date2=1865&proxtext=abolition&x=20&y=8&dateFilterType=yearRange&rows=20&searchType=basic&format=json"
   ]
  },
  {
   "cell_type": "markdown",
   "metadata": {
    "id": "8x69VEy1KCpP"
   },
   "source": [
    "Now I can use the `requests` library to retrieve data from the url."
   ]
  },
  {
   "cell_type": "code",
   "execution_count": 2,
   "metadata": {
    "id": "uoseSCpoEghd"
   },
   "outputs": [],
   "source": [
    "# initial search\n",
    "url = 'https://chroniclingamerica.loc.gov/search/pages/results/?state=Massachusetts&date1=1770&date2=1865&proxtext=abolition&x=20&y=8&dateFilterType=yearRange&rows=20&searchType=basic&format=json'\n",
    "response = requests.get(url)\n",
    "raw = response.text\n",
    "results = json.loads(raw)"
   ]
  },
  {
   "cell_type": "markdown",
   "metadata": {
    "id": "g-IV4qxIKlXW"
   },
   "source": [
    "## Explore search results"
   ]
  },
  {
   "cell_type": "code",
   "execution_count": 3,
   "metadata": {
    "id": "Pg-9a2pIKTnO"
   },
   "outputs": [
    {
     "data": {
      "text/plain": [
       "dict_keys(['totalItems', 'endIndex', 'startIndex', 'itemsPerPage', 'items'])"
      ]
     },
     "execution_count": 3,
     "metadata": {},
     "output_type": "execute_result"
    }
   ],
   "source": [
    "# explore results\n",
    "results.keys()"
   ]
  },
  {
   "cell_type": "code",
   "execution_count": 4,
   "metadata": {
    "id": "jB1fHVUTEcLl"
   },
   "outputs": [
    {
     "name": "stdout",
     "output_type": "stream",
     "text": [
      "<class 'list'>\n"
     ]
    }
   ],
   "source": [
    "# explore items\n",
    "print(type(results['items']))"
   ]
  },
  {
   "cell_type": "code",
   "execution_count": 5,
   "metadata": {
    "id": "LduCA0d1Etzn"
   },
   "outputs": [
    {
     "name": "stdout",
     "output_type": "stream",
     "text": [
      "{'sequence': 2, 'county': ['Worcester'], 'edition': None, 'frequency': 'Daily (except Sunday)', 'id': '/lccn/sn83021203/1847-03-15/ed-1/seq-2/', 'subject': ['Massachusetts--Worcester.--fast--(OCoLC)fst01207904', 'Worcester (Mass.)--Newspapers.'], 'city': ['Worcester'], 'date': '18470315', 'title': 'The Daily spy. [volume]', 'end_year': 1850, 'note': ['Editor: John Milton Earle.', 'Index: Rice, F.P. Worcester newspaper index, 1783-1848.', 'Weekly ed.: Massachusetts spy (Worcester, Mass. : 1831).'], 'state': ['Massachusetts'], 'section_label': '', 'type': 'page', 'place_of_publication': 'Worcester [Mass.]', 'start_year': 1845, 'edition_label': '', 'publisher': 'John Milton Earle', 'language': ['English'], 'alt_title': [], 'lccn': 'sn83021203', 'country': 'Massachusetts', 'ocr_eng': 'srnr sails sue.\\nWORCESTER:\\nMONDAY, MARCH 15, 1847.\\nCol. Benton. The appointment of Col. Ben\\nton to the office of Major General, and his subse\\nquent refusal to accept the appointment, has\\ncaused much remark and speculation. His inor\\ndinate ambition, grasping at the whole command\\nof the armies of the country, with the power of\\ndeciding upon war or peace, and his equally in\\nordinate vanity, have been made alike conspicu\\nous by this event. The Baltimore correspondent\\nof the Boston Atlas, make the following remarks\\nupon the subject:\\nYou see that Major General Benton has backed\\nout! He insisted that he should have the whole\\nconduct of the Mexican war confided to him —\\nthat the negotiation for peace should be under his\\ncontrol —and that he should go forth from Wash\\nington with all the power the President could\\nconfer in him. Mr. Polk quailed under these ex\\ntraordinary demands—he hesitated—equivocated,\\nindeed, as is his wont—and then said he would\\nconsult the Cabinet. They were consulted, and\\nthey were unwilling to take the responsibility of\\nrecommending all that Gen Benton insisted he\\nshould have. Then caine a storm. The new\\nMajor General attacked Mr. Marcy in his office,\\nand those who saw Mr. Benton as he marched—\\nin cocked hat and with arms folded—up Pennsyl\\nvania Avenue, say it was military in the highest\\ndegree. Poor Mr. Marcy was confounded with\\nthe manner of his entrance into the war office,\\nand they say has not recovered from the conster\\nnation into which he was thrown, by what may\\nbe called a military charge, Major General Ben\\nton made upon him. And yet this was nothing\\nlike the entrance into the White House !\\nThe charge of Gen. Worth on the Bishop’s\\nPalace, at Monterey, was nothing, as a military\\ndisplay, compared to it. The august air, the\\nmeasured tread, the cocked hat, and the arms\\ncrossed on the breast, were all perfect in them\\nselves, and the entrance across the yard, through\\nthe vestibule and up the winding stars, sho wed\\na singleness and a fixedness of purpose, which\\nevinced the highest military skill. It will not\\ndo, after this, to question Mr Benton’s military\\ntactics; and though ho has ceased to be a Major\\nGeneral, and sunk down into “ plain Master Ben\\nton,” somebody must get out a picture of his\\nmarch into the White House ; and it it have the\\neffect of frightening the Mexicans only half as\\nmuch as it did Mr. Polk, the war may thencefor\\nward be considered at an end I\\nBut, coming back to the every day view of\\nthis affair, was there ever such an absurd scheme\\nundertaken by any government, as was this ol\\nmaking Mr. Benton Lieutenant General of the\\nUnited States Army, and Minister Plenipoten\\ntiary and Commissioner Extraordinary to Mexi\\nco .’ A man so vain that he can scarcely retrain\\nfrom speaking of his self-sufficiency for all things,\\non all occasions—of temper so uneven, that no\\nman feels sale of his friendship tor an hour, and\\nof spirits so uncompromising, that for whatever\\nhe may have suggested, he will cavil tor the\\nmost immaterial part as for the most material—\\nwhose whole spirit is so uncompromising that\\nthere is no accommodating it—how is it possible\\nfor such a man to accomplish any thing in bring\\ning about a peace with such a nation as Mexico,\\nwhere personal pride is their distinguishing and\\nhereditary characteristic ? We may hope, now\\nthat we‘have got clear of Mr. Benton, that Mr.\\nPolk will fall upon some other person, whose\\ngood sense and honorable desire to see the.differ\\neuces between the two countries accommodated,\\nmay secure us a peace—a peace honorable to\\nMexico as well as to ourselves, and stay the shed\\nding of blood, ana stop the fearful waste of blood\\nwhich is now going on.\\nEFThe Baltimore Patriot says: We hear from\\ngentlemen who were at Washington, Monday,\\nthat there is much dissatisfaction felt in the War\\nDepartment at the manner in which Major Gen\\neral Benton bore himself. Mr. Marcy was real\\nly at a loss how to conduct himself towards the\\n“august personage,” and even Mr. Polk could ill\\nconceal his uneasiness whenever the newiy made\\nGeneral entered the White House. Those who\\nhave seen him “marching” along Pennsylvania\\navenue, says it is a * sight” which would justily\\nall who are curious in such things to go to Wash\\nington to see. The “swagger,” the strut of con\\nquence, the patronizing air, and the grand dig\\nnity which are all blended in him, show that he\\nfeels he has united in his person all the “powers”\\nand all the “airs ” which belong or attach to a\\nhigh plenipotentiary. The Mexican Generals\\nhave a high reputution in such things, but from\\nwhat is said, it is very certain that Major Gener\\nal Benton is a match for them in all that consti\\ntutes pomposity. An interview between him and\\nAmpudia would be a rare sight.\\nA letter says: “You must not be surprised if\\nthere is a ‘fla e up’ between Gen. Benton and Mr\\nPolk. The former acts as it he were the Presi\\ndent, and the latter seems to be afraid of crossing\\nhim in any thing. *1 must have full powers, sir.\\nMy plan requires it, sir, and it must be carried\\nout just as it is set down.’ This is what is report\\ned the new Major General says to the President\\nand all other functionaries, and unless they all\\nyield to him, there is no getting along with him.\\nA Paradise for Thieves.—The St. Louis\\nRepublican has a correspondent in Mexico who\\nfurnishes from Saltillo, the following paragraph.\\nThe penitentiary at this place, containing about\\n70 convicts, is a gay, jolly place; the prisoners\\nare all well dressed playing cards, singing, danc\\ning and enjoying life in apparent indolence.\\nAnother City.—One of the articles in the\\nwarrant tor the annual town meeting in Lynn is\\n“to see if the town will vote to apply to the Leg\\nislature tor a city character!”\\nCambridge.—James D. Green, Esq. was\\non Thursday, re-elected Mayor of the city of\\nCambridge.\\nLoss of the British steamer Tweed.—\\nWe give some additional particulars, from the\\nN. Orleans Picayune, of the reported loss of the\\nTweed :\\nThere were fifty-five passengerson the Tweed,\\n•nd the officers and crew made seventy-five\\nihore. About sixty in all were drowned, but\\nthe account does not designate to which class\\nthey belonged, nor are any names mentioned.\\nThis account was derived from the supercargo\\not the vessel, who, with nine men, was saved, in\\n• boat belonging to the Tweed, and had arrived\\nat Sisal.\\nThe Tweed had, 1170 flask* ot quicksilver on\\nfiosfd, inti other merchandise.\\njttaaaacjiusfttß 3Lcgl«tatme.\\nSaturday, March 13.\\nSenate. Ihe Committee on Public Lands reported\\nleave to withdraw on the petitions cf Benjamin Pratt\\nand others for a grant of land in Maine, and J. E.\\nThompson and others for a law limitiag the quantity of\\nland a person shall own in this State,and said reports\\n\"ere accepted. ,\\nHouse. A perfect avalanche of morning business\\nprecipitated itself upon the Speaker’stable, in the form\\nof petitions, orders and reports from CSmmitlees.\\nA Committee was appointed to consider when the\\npresent session may be brought to a clise.\\nThe bills to increase the capital stock of the Lancas\\nter Mills ;to authorize the Old Colony Railroad Co.; to\\nextend that Road in the city of Boston, to incorporate\\nthe Cochituate Fire Insurance Conipauy—and the re\\nsolve ou the petition of the town of Ludlow, were sever\\nally passed to be enacted.\\nReports were made from Committees—By Mr. Bell\\nof Boston, from the Committee on the judiciary ; leave\\nto withdraw on the petition of the town of Southbridge\\nand others.\\nBy Mr. Kellogg, of Pittsfield, from die same Com\\nmittee, resolution providing for an amendment of the\\nConstitution, providing for a change in the day of the\\nState general election.\\nBy Mr. Carter of Springfield, from the Committee\\non Towns, under instructions of the House, bill to incor\\nporate the town of Mtlrose. “\\nMr. Benton. Tue Washington correspondent of the\\nNew York Express says—“ that Mr Benton, the late\\nMajor General, his addressed a circular to the members\\nof the twenty ninth Congress, giving the co r> spnudunce\\nbetween himself, the President of the United States, and\\nthe Adjutant General, growing out of the commission\\ntendered Mr. Benton as Major General. Mr. Polk re\\nplies to Mr, Benton\\'s application to be placed in com\\nmand of the army in with the declaration, that\\nhaving searched the laws of the United States for prece\\ndent or authority, he finds none which will allow him to\\nplace Colonel Bemon in such command. Th’S is given\\nas, and appears to be the true cause of not jaccepting\\nMr. Benton’s proposition. Mr. Benton responds to this\\nwith all due courtesy and kindness, by iuforiiing the\\nPresident that he has sent in his resignation to the Ad\\njutant General, Jones, in order that there might be no\\nhindrance to the immediate appointment of a successor\\nto take his place ” This is dated on Tuesday.\\nEF We request the attention of our readers to the\\nnotice ol the beaut ful Exhibition, at Brinley Hall. TH IS\\nEVENING. A friend of ours writes us from Spring\\nfield, that me exhibition was very successful in that\\nplace, and he speak- of it in terms of warm commenda\\ntion. The schools visited it in a body, and every body\\nwas highly gratified with the exh.bmon. We understand\\nthat it far excels any thing of the kind that has ever be\\nfore been got up in this country.\\nHappily Expressed. During the debate in the\\nSenate on the bill for the relief of lieland. General Cass\\nalluded to the suggestions which had been made to con\\nvey the national offerings to Jlelaud in otic ot our ships\\nol war. “It would be,” said the Senator, a a beautiful\\ntribute to the advancing spirit of the age. The messen\\nger of dea h would thus become a messenger of life : the\\nagents ol destruction, agents of preseivalion; and our\\neagle, which has flown above them, and earned our\\narms to die very coast of Ireland, would become\\nthe signal of hope, where it has been the signal of de\\nfianee. I shall lend the bill my support with great plea\\nsure.”\\nIF The Doughfaces are already receiving their re\\nwnd. A son ot Senator Cass is appointed Major of\\nDragoons; and a son of Vice President Dallas is ap\\npointed as an attache io the legation in France.\\nSingle Combat — I’he Fitchburg Tribune capitally\\nremarks, on the proposition that Mr Polk and Santa\\nAna settle the Mexican war by a personal combat-—\\n“I he idea i* a good one. Let a champ clos be formed,\\nand let the nation whose champion shall go down, give\\nup beat. It would be a splendid contest—wooden leg\\nagainst wooden head.”\\nEnormous Pa v. The Boston Journal speaks thus\\nofPo\\'k\\'s (riend : ‘Mr Polk made Santa Ana Commander\\nui-Lhief of the army ot Mexico. Athough we aio wil\\n-Ing :o admit that ‘ the laborer is worthy of his hire,”\\nset three millions of dollars is surely an e ormous com\\npensation, for commanding even a Mexican army for\\none year P\\nMagnetic Telegraph. The N Orleans Chamber\\nof Commerce has unanimously agree I to construct a tel\\negraph line from dial city to Washington, and appropri\\nated $120,000 lor its construction.\\nSingular Movement. What all the excitement\\nfor the la-l fifty years cpuld not bring about fur the Ro\\nman Catholics, the changes in the Government church,\\nunder Dr. Pusey have very tranquilly and surprisingly\\nintroduced It is slated in an English paper \\'hat the\\nEucharist was carried through the streets by the Catho\\nlies, with lights blazing m procession, to visit the death\\nbed of on* of the faithful, ’f’he people stood uncovered\\nas il passed. Such an event has not occurred iu England\\nsince the reformation. In Cadiolic countries these cere\\nmonies aic common.\\nIT The Relief Committee in New York have dec It\\ntied the use of the frigate Macedonian, for me transmis\\nsion of their contributions for the relief of the Irish. The\\ntotal amount received is $75,130. <\\nTTy I he Philadelphia North American ol Fri\\nday morning, says :\\n“ I he Hon. Lewis Cass, who arrived in our\\ncity yesterday, says that he left Mr. Buchanan at\\nBaltimore in the morning. From a conversation\\nwith him he learned that despatches had been\\nreceived at Washington from Gen. Taylor, dated\\nthirty-six hours after the supposed battle, and\\nthere is nothing in reference to an actual collis\\nion.”\\nLtF* It is said that many ot the liquor sellers\\nin this city,since the decision in the License case,\\ncontemplate giving up their business; among\\nothers, Peter B. Brigham, ot Concert Hall.\\n[Botton Whig.\\nEF* We understand that the decision of the\\nSupietne Court of the United States, affirming\\nthe constitutionality ot the License Laws ol Mas\\nsachusetts, has already had the effect of inducing\\nsome of the most extensive retailers of spirituous\\nliquors, in our city, to give up that business.\\nSalem Gageite.\\n(For the Massachusetts Spy.)\\nOUR “ENTANGLING ALLIANCE” WITH\\nSLAVERY.\\nThirty-five years ago, Felix Grundy said, in the U.\\nS. House of Representatives, iu a discussion of the sub\\nject of our Fore\\'gu Relations, “Some how or other\\nFrance has twisted a knot about our necks, which can\\nnot be unloosed ; it must be cut.” What point of argu\\nment was based on this proposition, or what inference\\nwan deduced from the premises, memory does not recal.\\n* * * However that might be, or whatever\\nthe facts might be, it matters but little now. All we are\\nconcerned to consider is, the application of the text, sub\\nstituting slavery for France, to the present stale of our\\ndomestic lelations.\\nFrom time out of mind to this generation, our South\\nern task masters nave been riding over our backs rough\\nshod, and noosing us about at will, with scarcely a note\\nof remonstrance or word of complaint. It is true when\\nMissouri was admitted into the Union—when that fa\\nmous and fatal compromise was achieved—a manly re\\nsistance to the slavery clause in the constitution of the\\nnew State, was made by many Northern members of\\nCongress, by all the Connecticut delegation, and a large\\nmajority of members from all the tree States. For\\nweeks tire question was discussed with ability and\\nwarmth, the balance preponderating in favor of Free\\ndom, and the constitution of Missouri would have been\\nfinally rejected, despite the blustering threats of dissolu\\nlion, so freely thrown out by Southern members, hut lor\\nthe defection ol some No. them doughfaces, as John\\nRandolph appropriately termed them. Some wer -\\nfrightened out of their propriety by \\'be bugbear threat\\nof dissolution. Others thought n would be undemocrat\\nic to oppose a measure so jirgemiv pressed b» the r\\nSoulht rn brethren ; and a few were detected in the\\ngame ot log-rolling. Ma-sarhusetts was disgraced in\\nth- vo\\'csof three of her repress ntatn’es, one from the\\nWestern part ot the Stale, one from the Eastern part,\\nana one from Cunibei land District Maine. When the\\nfinal vote was taken, Mr Randolph fixed his searching\\neyes on the member from Portland, and exclaimed, “we\\nccept the treason, but detest the traitor.” It will be\\nrecollected that Maine, having previously agreed on the\\ntemrs ol separation from Massachusetts proper, applied\\nat this same session of Congress, in 1820- 21, lor ad.nis\\nlion into the Union ; and some over zealous advocates\\nof its early admission, had been betrayed into the lolly\\nof voting m favor of Missouri, slavery and all. for the\\nsake of a quid pro quo. Hence the wilheiiug rebukv of\\nMr Randolph. The way in which this trio of •• dough\\nfaces \" have been neglec ed ai d relinked by their con\\nsliiueiits for twenty six years, should be a caution to\\nsome modern re reams iu the same position. Th le is\\na choice specimen oi humbuggery connected with this\\nfamous -‘Missouri comprom se \\' worth j tilling on record\\nbut which must be dele, red lor the present.\\n1 h s was the first open, nndisgmst d noose thrown over\\nIhe necks of the free .--tales, by Slav ry. Ever s n<e,\\nwe ha< e been led as lam -s to the s aughter, and requtr\\ned to bleed freely on the altar of thi- Moloch. Year by\\nyear, the knot rias become more stringent, while we, like\\nshe p before tiieir shearer-, halve been dumb, or spaniel\\nlike whined out “ lay cm Mac Duff.” I’he more shame\\nbelong- to us tor this, \\'nasmtich as all the wh le we had\\nihe stall in our own bauds Every measure, designed\\nor the ben fit of th peculiar institution lias been per\\nm fed io go by d fault, or consummated I y t :e votes ol\\nNo lle rn locoes. Even ti e annexation o Texas, tlial\\n-‘er nce.itrauon of vilUni.es” was, at la-t rather feebly\\nres sled be our prominent I higs, and wee med wiih\\n-houis ol triumph by the large body or toein dem\\nocrats. How did this happen, when, but < i .lit montos\\nprevious, all parties. and ai. men ai \\'he N rlh, (except\\na very few Calhoun ami Tyler men, and a very tew\\nTexan scrip holders.) repudiated such a mea-ure in the\\nstrongest term-, as uncon-ti niirmal and murage us?\\nThe great change was wrought and the irue s int in\\nfused into the minds of ihe corruptible democracy, at\\nihe famous Baltimore Democratic Convention, in the\\nsummer of 1844 Here a Gordian ki.oi was adroitly\\nand most effectually twisted a k>ui the m ess of the\\nWestern an I Norliiern in mbers, winch hev < ould net\\nthe unloose nor cut ; and-acn was left io hiju-i Ins\\nown collar as best he c uld. Rewards for onedie. ee\\nwere offered by the Southern dictators, to the disap\\npointed a* d disrffcc ed members, ar cordmg to ill. ir va\\nrious wans and capacities; io the U esiern gen) men\\nihe\\' whole ol Oregon,” and funds lor improving .heir\\nlakes and rivers. I’he Yankees who cr d not a straw\\nfor Oregon, chose for then p rtmn such offices as could\\nbe spaced for such sort of se. riles— ■ ami so th: y wrap\\nped it up.” From this august a—emf\\'lv was first ou d\\ned out the new party watch word, “Folk and T. xas,”\\nthroughout the North and East.\\nIl the young hig .mmded democrats of Massachusetts,\\n(ami there are many such,) k ew the terms ol sal- , tm l\\nthe precise, specified consideration, tor which Manus\\nMorton, George Bancroft sod 1 II Wright then and\\nthere bargameri ami sold them in a body to the Soutli\\nern slaveholiu r«, io serve and aid them in the work of\\naim x dion and io <Io ami peilorm ill mime ol service\\nfor mem Ilie said slavt ho-der*, as sfiou d from tmie to\\ntime be prescribed io them ihrough their coinm s-ioned\\n>u r aherns. ihe said Morion. Ba cioft. and Virgin il\\nthey knew all die p rlculars o> tual bargain ol sale\\nthey wouid “< ui Im kuoi.”\\nAn ai cou.d ol die use ami progress of the annexation\\nmama, in Niw England, embrac n: die secret nisiory\\noi Ilie B rltmiore Uonveutiou in 1814. would form an in\\nleresiiug chapter in the annals oi knot tiristina.\\nAller aiinex.it.on cam the destruction oi the tar ff of\\n’42, and tue present atrocious war against Mexico, Ure\\nlast tuiist of the knot.\\nA gieal mis ast that was ol James G. Birney, that\\nJames K l’o k was pre erable to Henry Clay as a can\\nd dale lor I e Tresidonc,, lor the reasou th. t he posses\\nsed les* lale- t- and utlueuce, ami ilieieicne less power\\nlodoevil. Never has any m nin this coumry, in any\\nstation, accou pirlied a mne cn die evil m lue same\\n*p ce o| lime, wlm h lias been perpetrated by Presideot\\nP->‘k sni e nec.i ne into olfi e. Verily , one’ si ner de\\nstioys much g< od.\\nIl is said the darke st pari of night is just before the\\nbre.k ul day. bo it may p\\'O-em be n our political\\nhorizon. W e may hope, iul tear win pr. d mmale\\n< oiur<s-h sa jmimed a.id th coiiniiy is left status\\nante bellum, oily as Pat says a tin.u ami t me* wmsi i.\\nNo measure has I’d u adr-pl. d to pui a se p Io ihe\\nwar. and none prteiri io prml ci is। ml Ad ..im-ira\\nlion Senators and K- prese t dives could nm agree,\\nscarce y a.iy two-I t..em i re ard o is origm is\\ncause, or obji c . No one »eemed In ilimk ol any iI th\\nmany reasons presented h> Mr P. Ik in In* open ng M. s\\nsig toCollgress All, mr vev-, ~r most ol nori party,\\nagreed in one Unni, m which ihey were jo md by some\\nclose-calculating vV Ing*, vz. to 1 carry mi lm- war with\\nvigT.” a d\\' hglir i out’—meaning, il tney have any\\nin auin oex eemmater Mexico ailhoul cau-e and wpu\\nout bject.\\nVV e ae, bey nd question, the greatest nation on earth\\nSlid mean he nsl ol ihewmld .nd Mexico in partn u\\nlar, hail know it. We are die finest people on earth,\\nand mean io ext rpate ihe s mi-savage Mexicans, who\\ninulishly a .oiished * avert w thout < ur leave, and make\\nroom to stretch oit m— o leng hen ihe cords ami\\nstrengthen lue siakes of our model iusinuiion. We\\nare, undoubtedly, lie most wise, just, and enbg. tened\\npeople mat ever lived, and are proving our claim to\\nthese trai s erf character by a t lolat on ol every maxim ol\\ncommon just ce and huui.inity. Ai dwe l ate yet to\\nh am that it is easier getting into t ouble than to get\\nout; easier contracting a national debt than paying it;\\nand easier to defy the wrath ol the Almighty than to\\navert his judgments.\\nMany members of Hie laie Congress did well—nobly\\n—but Hudson excelled them all He early took a\\nlofty, independent, consisteiil sta id against the »ar,\\nana then comerred not with expediency or prejudice\\nX.\\nPopulation of Sr Louis.—The census oi\\nthe lity ot St. Louis just taken shows an increase,\\nin two years, of eleven thousand five hundred\\nand sixty-eight souls; in 1840,—36^1)2; in 1847,\\n...<7;838.\\nJOSEPH JOHN GURNEY.\\nThe death of this distinguished Philanthropist,\\nthe tidings of which reached us by the last Brit\\nish steamer, deserves more than a passing notice\\nfrom the friends of the slave in this country —\\nHe was born at Earlham, near Norwich, Eng\\nland, in the year 1788. and was in the 59th year\\nof his age at his death. Mr. Gurney was a meme\\nber of the Society of Friends. He was a schcU\\ner of no mean accomplishments, a man possessing\\nan unusual share ot varied and practical know\\nledge, of great wealth, of dignified manners and\\ncommanding person, all of which were made to\\nminister to an active benevolence in evfry de\\npartment of Christian reform. His exertions in\\nthe cause of humanity took a wide range. The\\nreformation of prison discipline—the modification\\nand humanization of the criminal code—the dif\\nfusion of general education—the distribution of\\nthe Scriptures—the cause of universal peace—\\nthe promotion of temperance—the improvement\\nof the poor laws—the abolition of the slave trade\\nand of slavery,—all found in him a steady, ac\\ntive, able and munificent friend. He was the\\nearly advocate of West India emancipation, and\\nshared in the counsels and labors of its first pa\\ntrons, Clarkson, Wilberforce, Buxton, Brougham,\\nMclntosh, Macaulay, Stephen, Suffield, Sturge,\\nand their associates. As early as 1824, he caiis\\nod a public meeting to be convened in the Coun\\nty of Norfolk, where he resided, over which the\\nHigh Sheriff presided, and on which occasion he\\ndelivered an able speech ; and in opposition to\\nsome of the nobility of the shire, procured a pe\\ntition to be adopted calling upon Parliament for\\n“the immediate mitigation, and with as little de\\nlay as possible, the final and entire abolition of\\nBi itish and Colonial Slavery.” The same year\\nhe attended and addressed a general meeting of\\nthe friends ot the cause in Freemason\\'s Hall,\\nLondon, at which Wilberforce, Mclntosh, Bi oug\\nham, Buxton, Denman, and Lushington, were\\nhis associates. Although in the early p.ut of his\\ncareer, he advocated the doctrine ol gradual\\nemancipation, as did all the other friends of the\\ncause, yet he was found among the first to adopt\\nthe grand principle, that “immediate and uncon\\nditional abolition is the right of the slave and the\\nduty ot the master,”—which ever after was the\\nrallying cry of British Abolitionists. During the\\nexci’ing and eventful years from 1830 to 1834,.\\nwinch immediately preceded and resulted in die\\nabolition of slavery, and the substitution therefor\\not the apprenticeship, Mr. Gurney was ever lore\\nmost with tongue, pen and purse, to carry for\\nward the work. VV hen the friends ot the slave\\nsaw that the opcation ot the new system was\\ncruelly oppressive to the negroes, and was but\\nlittle belter than slivery under a milder name,\\nour deceased tiiend buckled on his armor again,\\nand, joining the b .nd led by Joseph Sturge, broke\\nground against it an I demanded its total demoli\\ntion. And, alter a brief, but severe struggle, he\\nhad the gratification of seeing complete freedom\\ngranted to the West India bondmen, on the first\\nof August, 1841. The warm heart and enquir\\ning mind of Mr. Gurney piompted him to visit\\nthe objects ot his solicitude iu their own sea gut\\nhotues, and witness with his own ejes “the hor\\nrors ol abolition.” Accordingly, he spent the\\nwinter ot 1839 in visiting the freedmen ol the\\nvarious West India Islands. Returning to Eu\\nrope, he took this country in his way, and spent\\nthe Spring and Summer momhs ot 1840 in trav\\nelling thii\\'iigh the Unit.d States, preaching to\\ncongregations in the cities and laige towns, and\\nholding private consultations with influential\\nslaveholders and abolitionists, li was during this\\ntour that he published his little volume ol “ Fa\\nmiliar and Friendly letters to Heqry Clay, ot\\nKentucky,” desciibing the beneficial results\\nwhich had followed emancipa i r in the West In\\ndies, and uruing the adoption of the same course\\nin regard to American Slav. ry. Af\\'er hisreturn\\nto England, he travelled on t ie Continent ot Eu\\nrope, visiting France, Holland, Denmark and\\nSweeden, at various periods, and urging upon\\nl he soveieiins a> d leading statesmen of those\\ncountries the wis o n and duty ot abolishing their\\ncolonial slavery. In one of these visits, in 1842,\\nwe believe, he was accompanied by his disting\\nuished sister, Mrs. Fry ; and in addition to the\\narm slavery purposes ot their tour, they spent\\nmuch time in promoting the object which during\\nher remarkable lite, was so near her heart ex\\nploring the prisons of the old world, and admin\\nistering instruction and consolation to the prison\\ners.\\nMr. Gurney’s last visit to the continent, was,\\nwe believe, in 1844. The results ol his labors\\nare seen iu the agitation ot the abolition cause in\\nnearly all the governments of Europe which hold\\nColonial slaves. But we have given a very im\\nperfect sketch of .the philanthropic labors ot this\\nexcellent man ; ‘br. though he was a prominent\\nactor in the anti-slavery conflicts, his hand was\\nnever withdrawn from those other humane enter\\nprises which enlisted his youthful energies. Ev\\nery Rood cause, and especially every reform\\nwhich tended to elevate and improve the depress\\ned classes of his country men, found in him a con\\nstatit advocate Nor was lie fess distinguished\\nfor his private and home charities, than for his\\nmore public and imposing labors. He fed the\\nfiunm y and clothed the naked at hi* own door —\\nHi* princely wealth he distributed with a liberal\\nhand in works of charity and mercy. His catho\\nlic spirit, and. though a Friend in doctrine, garb\\nand speech, his fieedom from sect, i inn bigotry,\\nendeared him to Christians of all\\nit is doubled whether he had an enemy in hi* na\\ntive country. The remains of this beautiful\\nspecimen of the fine Christian gentleman were\\nattended to (heir final resting place by the larg.\\nest concourse of sympathizing and admiring\\nfriends which ever convened on any similar oc\\ncasion in the county of Norfolk Emancipator.\\nMilitary Appointments. The Washing,\\nton correspondent of the North American, re\\nlates the following inci lent to show how little\\nqualification has been taken into account in con\\nferring the highest grades ol military appoint*\\nments, and by what singular processes they have\\nbeen made :\\nMr. Enos D. Hopping of New York, cam*\\nhere recently, soliciting an appointment of Capt.\\nin one of the new regiments. He doubtless act\\ned on the principle which has been generally\\npursued, of asking more than was expected, and\\nwould have been content with a Lieutenancy.\\nIn the contest tor the line officers ot the New\\nYork Regiment, the “Old Hunkers” and “barn\\nburners” became fiercely excited against each\\nother, and some wag ot a fellow recommended\\nthis unknown and unheard ot Mr. Hopping to\\nput himseli forward as a compromise candidate.\\nThis difficulty became reconciled by a distribu\\ntion ol the spoils, and the struggle was resumed\\non the Brigadier General, when to the surprise\\noi every body, the President nominated sod the', 'batch': 'mb_circe_ver01', 'title_normal': 'daily spy.', 'url': 'https://chroniclingamerica.loc.gov/lccn/sn83021203/1847-03-15/ed-1/seq-2.json', 'place': ['Massachusetts--Worcester--Worcester'], 'page': ''}\n"
     ]
    }
   ],
   "source": [
    "# expore first item\n",
    "print(results['items'][0])"
   ]
  },
  {
   "cell_type": "code",
   "execution_count": 6,
   "metadata": {
    "id": "kIcPNqHuKtJA"
   },
   "outputs": [
    {
     "name": "stdout",
     "output_type": "stream",
     "text": [
      "totalItems: 1130\n",
      "endIndex: 20\n",
      "startIndex: 1\n",
      "itemsPerPage: 20\n",
      "Length and type of items: 20 <class 'list'>\n"
     ]
    }
   ],
   "source": [
    "print('totalItems:', results['totalItems'])\n",
    "print('endIndex:', results['endIndex'])\n",
    "print('startIndex:', results['startIndex'])\n",
    "print('itemsPerPage:', results['itemsPerPage'])\n",
    "print('Length and type of items:', len(results['items']), type(results['items']))"
   ]
  },
  {
   "cell_type": "markdown",
   "metadata": {
    "id": "cxWJPQfUK5pA"
   },
   "source": [
    "The Chronicling America API returned 1,130 results. However, it will only display 20 at a time by default. I can add a new parameter `page=` to cycle through all the results, but first I need to know how many pages there will be. I can find this out by dividing `totalItems` (1,130) by `itemsPerPage` (20) and then round-up using `math.ceil`."
   ]
  },
  {
   "cell_type": "code",
   "execution_count": 7,
   "metadata": {
    "id": "OmJIDL1lKy0g"
   },
   "outputs": [
    {
     "name": "stdout",
     "output_type": "stream",
     "text": [
      "57\n"
     ]
    }
   ],
   "source": [
    "# find total amount of pages\n",
    "total_pages = math.ceil(results['totalItems'] / results['itemsPerPage'])\n",
    "print(total_pages)"
   ]
  },
  {
   "cell_type": "markdown",
   "metadata": {
    "id": "zd-xCf-JFprY"
   },
   "source": [
    "## Gather search results"
   ]
  },
  {
   "cell_type": "markdown",
   "metadata": {
    "id": "-Gca6IQYUEVx"
   },
   "source": [
    "Now that I know how many pages there will be, I can use a for loop to iterate through each result page and then each item on each result page. I then gather the data I want from each item: newspaper title, city, date, and text.\n",
    "\n",
    "Notice in the code below I placed the url string in parentheses () so that I could break it up over multiple lines making it easier to read.\n",
    "\n",
    "Also, for the sake of this demonstration, I am only iterating over 10 pages. For the full results the for loop should begin: `for i in range(1, total_pages+1)` (the `+1` is necessary becase the second number in the range function is exclusive)."
   ]
  },
  {
   "cell_type": "code",
   "execution_count": 8,
   "metadata": {
    "id": "C0pZe96qBP_J"
   },
   "outputs": [],
   "source": [
    "# create empty list for data\n",
    "data = []"
   ]
  },
  {
   "cell_type": "code",
   "execution_count": 9,
   "metadata": {
    "id": "pg63qYBuBVU3"
   },
   "outputs": [],
   "source": [
    "# set search parameters\n",
    "start_date = '1770'\n",
    "end_date = '1865'\n",
    "search_term = 'abolition'\n",
    "state = 'Massachusetts'"
   ]
  },
  {
   "cell_type": "code",
   "execution_count": 10,
   "metadata": {
    "id": "Upp6d0I9UDy6"
   },
   "outputs": [
    {
     "name": "stdout",
     "output_type": "stream",
     "text": [
      "page 1 status code: 200\n",
      "page 2 status code: 200\n",
      "page 3 status code: 200\n",
      "page 4 status code: 200\n",
      "page 5 status code: 200\n",
      "page 6 status code: 200\n",
      "page 7 status code: 200\n",
      "page 8 status code: 200\n",
      "page 9 status code: 200\n",
      "page 10 status code: 200\n"
     ]
    }
   ],
   "source": [
    "# loop through search results and collect data\n",
    "for i in range(1, 11):  # for sake of time I'm doing only 10, you will want to put total_pages+1\n",
    "    url = (f'https://chroniclingamerica.loc.gov/search/pages/results/?state={state}&date1={start_date}'\n",
    "           f'&date2={end_date}&proxtext={search_term}&x=16&y=8&dateFilterType=yearRange&rows=20'\n",
    "           f'&searchType=basic&format=json&page={i}')  # f-string\n",
    "    response = requests.get(url)\n",
    "    raw = response.text\n",
    "    print(f'page {i} status code:', response.status_code)  # checking for errors\n",
    "    results = json.loads(raw)\n",
    "    items_ = results['items']\n",
    "    for item_ in items_:\n",
    "        row_data = {}\n",
    "        try:\n",
    "          row_data['title'] = item_['title_normal']\n",
    "        except:\n",
    "          row_data['title'] = \"none\"\n",
    "        try:\n",
    "          row_data['city'] = item_['city']\n",
    "        except:\n",
    "          row_data['city'] = \"none\"\n",
    "        try:\n",
    "          row_data['date'] = item_['date']\n",
    "        except:\n",
    "          row_data['date'] = \"none\"\n",
    "        try:\n",
    "          row_data['raw_text'] = item_['ocr_eng']\n",
    "        except:\n",
    "          row_data['raw_text'] = 'none'\n",
    "    data.append(row_data)"
   ]
  },
  {
   "cell_type": "code",
   "execution_count": 11,
   "metadata": {
    "id": "q-ctFdtSBa-u"
   },
   "outputs": [],
   "source": [
    "# put data into DataFrame\n",
    "df = pd.DataFrame.from_dict(data)"
   ]
  },
  {
   "cell_type": "code",
   "execution_count": 12,
   "metadata": {
    "id": "prL29Su_msjb",
    "scrolled": true
   },
   "outputs": [
    {
     "data": {
      "text/html": [
       "<div>\n",
       "<style scoped>\n",
       "    .dataframe tbody tr th:only-of-type {\n",
       "        vertical-align: middle;\n",
       "    }\n",
       "\n",
       "    .dataframe tbody tr th {\n",
       "        vertical-align: top;\n",
       "    }\n",
       "\n",
       "    .dataframe thead th {\n",
       "        text-align: right;\n",
       "    }\n",
       "</style>\n",
       "<table border=\"1\" class=\"dataframe\">\n",
       "  <thead>\n",
       "    <tr style=\"text-align: right;\">\n",
       "      <th></th>\n",
       "      <th>title</th>\n",
       "      <th>city</th>\n",
       "      <th>date</th>\n",
       "      <th>raw_text</th>\n",
       "    </tr>\n",
       "  </thead>\n",
       "  <tbody>\n",
       "    <tr>\n",
       "      <th>0</th>\n",
       "      <td>worcester daily spy.</td>\n",
       "      <td>[Worcester]</td>\n",
       "      <td>18620811</td>\n",
       "      <td>OFFICIAL.\\nLAWS OF THE~UNITED STATES\\nPassed a...</td>\n",
       "    </tr>\n",
       "    <tr>\n",
       "      <th>1</th>\n",
       "      <td>daily spy.</td>\n",
       "      <td>[Worcester]</td>\n",
       "      <td>18480916</td>\n",
       "      <td>Elie Satin Spy.\\nWORCESTER:\\nSATURDAY, SEPTEMB...</td>\n",
       "    </tr>\n",
       "    <tr>\n",
       "      <th>2</th>\n",
       "      <td>worcester daily spy.</td>\n",
       "      <td>[Worcester]</td>\n",
       "      <td>18600117</td>\n",
       "      <td>LATEST_NEWS.\\nBY TELEGRAPH\\nTO THE WORCESTER D...</td>\n",
       "    </tr>\n",
       "    <tr>\n",
       "      <th>3</th>\n",
       "      <td>daily spy.</td>\n",
       "      <td>[Worcester]</td>\n",
       "      <td>18500327</td>\n",
       "      <td>THE DAILY SPY.\\nWO AC ESTER-\\nWEDNESDM F, 27, ...</td>\n",
       "    </tr>\n",
       "    <tr>\n",
       "      <th>4</th>\n",
       "      <td>massachusetts spy, and worcester county advert...</td>\n",
       "      <td>[Worcester]</td>\n",
       "      <td>18260329</td>\n",
       "      <td>The Constitution of this House; of the other H...</td>\n",
       "    </tr>\n",
       "  </tbody>\n",
       "</table>\n",
       "</div>"
      ],
      "text/plain": [
       "                                               title         city      date  \\\n",
       "0                               worcester daily spy.  [Worcester]  18620811   \n",
       "1                                         daily spy.  [Worcester]  18480916   \n",
       "2                               worcester daily spy.  [Worcester]  18600117   \n",
       "3                                         daily spy.  [Worcester]  18500327   \n",
       "4  massachusetts spy, and worcester county advert...  [Worcester]  18260329   \n",
       "\n",
       "                                            raw_text  \n",
       "0  OFFICIAL.\\nLAWS OF THE~UNITED STATES\\nPassed a...  \n",
       "1  Elie Satin Spy.\\nWORCESTER:\\nSATURDAY, SEPTEMB...  \n",
       "2  LATEST_NEWS.\\nBY TELEGRAPH\\nTO THE WORCESTER D...  \n",
       "3  THE DAILY SPY.\\nWO AC ESTER-\\nWEDNESDM F, 27, ...  \n",
       "4  The Constitution of this House; of the other H...  "
      ]
     },
     "execution_count": 12,
     "metadata": {},
     "output_type": "execute_result"
    }
   ],
   "source": [
    "# sanity check\n",
    "df.head() # first five rows of my data frame"
   ]
  },
  {
   "cell_type": "markdown",
   "metadata": {
    "id": "z509dIQEep7G"
   },
   "source": [
    "### Change date format\n",
    "Pandas allows us to clean and edit our data easily (relatively). We can first convert the string values in the date column to properly formated dates and then sort the dataframe by date."
   ]
  },
  {
   "cell_type": "code",
   "execution_count": 13,
   "metadata": {
    "id": "z1fENcFaZJIx"
   },
   "outputs": [],
   "source": [
    "# convert date column from string to date-time object\n",
    "df['date'] = pd.to_datetime(df['date'])\n",
    "# dataframe['column'] = pd.to_<whatever>(dataframe['column'])"
   ]
  },
  {
   "cell_type": "code",
   "execution_count": 14,
   "metadata": {
    "id": "4c0otcZIey1D"
   },
   "outputs": [
    {
     "data": {
      "text/html": [
       "<div>\n",
       "<style scoped>\n",
       "    .dataframe tbody tr th:only-of-type {\n",
       "        vertical-align: middle;\n",
       "    }\n",
       "\n",
       "    .dataframe tbody tr th {\n",
       "        vertical-align: top;\n",
       "    }\n",
       "\n",
       "    .dataframe thead th {\n",
       "        text-align: right;\n",
       "    }\n",
       "</style>\n",
       "<table border=\"1\" class=\"dataframe\">\n",
       "  <thead>\n",
       "    <tr style=\"text-align: right;\">\n",
       "      <th></th>\n",
       "      <th>title</th>\n",
       "      <th>city</th>\n",
       "      <th>date</th>\n",
       "      <th>raw_text</th>\n",
       "    </tr>\n",
       "  </thead>\n",
       "  <tbody>\n",
       "    <tr>\n",
       "      <th>0</th>\n",
       "      <td>worcester daily spy.</td>\n",
       "      <td>[Worcester]</td>\n",
       "      <td>1862-08-11</td>\n",
       "      <td>OFFICIAL.\\nLAWS OF THE~UNITED STATES\\nPassed a...</td>\n",
       "    </tr>\n",
       "    <tr>\n",
       "      <th>1</th>\n",
       "      <td>daily spy.</td>\n",
       "      <td>[Worcester]</td>\n",
       "      <td>1848-09-16</td>\n",
       "      <td>Elie Satin Spy.\\nWORCESTER:\\nSATURDAY, SEPTEMB...</td>\n",
       "    </tr>\n",
       "    <tr>\n",
       "      <th>2</th>\n",
       "      <td>worcester daily spy.</td>\n",
       "      <td>[Worcester]</td>\n",
       "      <td>1860-01-17</td>\n",
       "      <td>LATEST_NEWS.\\nBY TELEGRAPH\\nTO THE WORCESTER D...</td>\n",
       "    </tr>\n",
       "    <tr>\n",
       "      <th>3</th>\n",
       "      <td>daily spy.</td>\n",
       "      <td>[Worcester]</td>\n",
       "      <td>1850-03-27</td>\n",
       "      <td>THE DAILY SPY.\\nWO AC ESTER-\\nWEDNESDM F, 27, ...</td>\n",
       "    </tr>\n",
       "    <tr>\n",
       "      <th>4</th>\n",
       "      <td>massachusetts spy, and worcester county advert...</td>\n",
       "      <td>[Worcester]</td>\n",
       "      <td>1826-03-29</td>\n",
       "      <td>The Constitution of this House; of the other H...</td>\n",
       "    </tr>\n",
       "  </tbody>\n",
       "</table>\n",
       "</div>"
      ],
      "text/plain": [
       "                                               title         city       date  \\\n",
       "0                               worcester daily spy.  [Worcester] 1862-08-11   \n",
       "1                                         daily spy.  [Worcester] 1848-09-16   \n",
       "2                               worcester daily spy.  [Worcester] 1860-01-17   \n",
       "3                                         daily spy.  [Worcester] 1850-03-27   \n",
       "4  massachusetts spy, and worcester county advert...  [Worcester] 1826-03-29   \n",
       "\n",
       "                                            raw_text  \n",
       "0  OFFICIAL.\\nLAWS OF THE~UNITED STATES\\nPassed a...  \n",
       "1  Elie Satin Spy.\\nWORCESTER:\\nSATURDAY, SEPTEMB...  \n",
       "2  LATEST_NEWS.\\nBY TELEGRAPH\\nTO THE WORCESTER D...  \n",
       "3  THE DAILY SPY.\\nWO AC ESTER-\\nWEDNESDM F, 27, ...  \n",
       "4  The Constitution of this House; of the other H...  "
      ]
     },
     "execution_count": 14,
     "metadata": {},
     "output_type": "execute_result"
    }
   ],
   "source": [
    "# sanity check\n",
    "df.head()"
   ]
  },
  {
   "cell_type": "code",
   "execution_count": 15,
   "metadata": {
    "id": "wjTfqq38e0XB"
   },
   "outputs": [],
   "source": [
    "# sort by date\n",
    "df = df.sort_values(by='date')"
   ]
  },
  {
   "cell_type": "code",
   "execution_count": 16,
   "metadata": {
    "id": "3XYFLmRhe7Gp"
   },
   "outputs": [
    {
     "data": {
      "text/html": [
       "<div>\n",
       "<style scoped>\n",
       "    .dataframe tbody tr th:only-of-type {\n",
       "        vertical-align: middle;\n",
       "    }\n",
       "\n",
       "    .dataframe tbody tr th {\n",
       "        vertical-align: top;\n",
       "    }\n",
       "\n",
       "    .dataframe thead th {\n",
       "        text-align: right;\n",
       "    }\n",
       "</style>\n",
       "<table border=\"1\" class=\"dataframe\">\n",
       "  <thead>\n",
       "    <tr style=\"text-align: right;\">\n",
       "      <th></th>\n",
       "      <th>title</th>\n",
       "      <th>city</th>\n",
       "      <th>date</th>\n",
       "      <th>raw_text</th>\n",
       "    </tr>\n",
       "  </thead>\n",
       "  <tbody>\n",
       "    <tr>\n",
       "      <th>4</th>\n",
       "      <td>massachusetts spy, and worcester county advert...</td>\n",
       "      <td>[Worcester]</td>\n",
       "      <td>1826-03-29</td>\n",
       "      <td>The Constitution of this House; of the other H...</td>\n",
       "    </tr>\n",
       "    <tr>\n",
       "      <th>7</th>\n",
       "      <td>massachusetts spy.</td>\n",
       "      <td>[Worcester]</td>\n",
       "      <td>1832-02-15</td>\n",
       "      <td>From the Connecticut Mirror.\\nHOMEWARD BOUND.\\...</td>\n",
       "    </tr>\n",
       "    <tr>\n",
       "      <th>1</th>\n",
       "      <td>daily spy.</td>\n",
       "      <td>[Worcester]</td>\n",
       "      <td>1848-09-16</td>\n",
       "      <td>Elie Satin Spy.\\nWORCESTER:\\nSATURDAY, SEPTEMB...</td>\n",
       "    </tr>\n",
       "    <tr>\n",
       "      <th>9</th>\n",
       "      <td>daily spy.</td>\n",
       "      <td>[Worcester]</td>\n",
       "      <td>1849-03-19</td>\n",
       "      <td>Ov\\nWORCE S T E R :\\nMONDAY MARCH 19, 1849.\\nF...</td>\n",
       "    </tr>\n",
       "    <tr>\n",
       "      <th>3</th>\n",
       "      <td>daily spy.</td>\n",
       "      <td>[Worcester]</td>\n",
       "      <td>1850-03-27</td>\n",
       "      <td>THE DAILY SPY.\\nWO AC ESTER-\\nWEDNESDM F, 27, ...</td>\n",
       "    </tr>\n",
       "  </tbody>\n",
       "</table>\n",
       "</div>"
      ],
      "text/plain": [
       "                                               title         city       date  \\\n",
       "4  massachusetts spy, and worcester county advert...  [Worcester] 1826-03-29   \n",
       "7                                 massachusetts spy.  [Worcester] 1832-02-15   \n",
       "1                                         daily spy.  [Worcester] 1848-09-16   \n",
       "9                                         daily spy.  [Worcester] 1849-03-19   \n",
       "3                                         daily spy.  [Worcester] 1850-03-27   \n",
       "\n",
       "                                            raw_text  \n",
       "4  The Constitution of this House; of the other H...  \n",
       "7  From the Connecticut Mirror.\\nHOMEWARD BOUND.\\...  \n",
       "1  Elie Satin Spy.\\nWORCESTER:\\nSATURDAY, SEPTEMB...  \n",
       "9  Ov\\nWORCE S T E R :\\nMONDAY MARCH 19, 1849.\\nF...  \n",
       "3  THE DAILY SPY.\\nWO AC ESTER-\\nWEDNESDM F, 27, ...  "
      ]
     },
     "execution_count": 16,
     "metadata": {},
     "output_type": "execute_result"
    }
   ],
   "source": [
    "# sanity check\n",
    "df.head()"
   ]
  },
  {
   "cell_type": "markdown",
   "metadata": {
    "id": "epH12SFJfJm6"
   },
   "source": [
    "### Process search results\n",
    "We can now porcess our text for analysis. The text provded by Chronicling America comes from optical character recognition (ocr) and the accuracy of ocr can be low. Here I will remove new line characters (`\\n`), stop words, and then lemamtize the text.\n",
    "\n",
    "**Remember** the decisions you make in how to process your text should be based on the kind of analysis you want to do."
   ]
  },
  {
   "cell_type": "code",
   "execution_count": 17,
   "metadata": {
    "id": "m6Urrlffe8ro"
   },
   "outputs": [],
   "source": [
    "# write fuction to process text\n",
    "# load nlp model\n",
    "nlp = spacy.load(\"en_core_web_sm\")\n",
    "nlp.disable_pipes('ner', 'parser')  # these are unnecessary for the task at hand\n",
    "\n",
    "def process_text(text):\n",
    "    \"\"\"Remove new line characters and lemmatize text. Returns string of lemmas\"\"\"\n",
    "    text = text.replace('\\n', ' ')\n",
    "    doc = nlp(text)\n",
    "    tokens = [token for token in doc]\n",
    "    no_stops = [token for token in tokens if not token.is_stop]\n",
    "    no_punct = [token for token in no_stops if token.is_alpha]\n",
    "    lemmas = [token.lemma_ for token in no_punct]\n",
    "    lemmas_lower = [lemma.lower() for lemma in lemmas]\n",
    "    lemmas_string = ' '.join(lemmas_lower)\n",
    "    return lemmas_string"
   ]
  },
  {
   "cell_type": "code",
   "execution_count": 19,
   "metadata": {
    "id": "VkQk9wuXfrwM"
   },
   "outputs": [],
   "source": [
    "# apply process_text function\n",
    "# this may take a few minutes\n",
    "df['lemmas'] = df[\"raw_text\"].apply(process_text)"
   ]
  },
  {
   "cell_type": "code",
   "execution_count": 20,
   "metadata": {},
   "outputs": [
    {
     "data": {
      "text/html": [
       "<div>\n",
       "<style scoped>\n",
       "    .dataframe tbody tr th:only-of-type {\n",
       "        vertical-align: middle;\n",
       "    }\n",
       "\n",
       "    .dataframe tbody tr th {\n",
       "        vertical-align: top;\n",
       "    }\n",
       "\n",
       "    .dataframe thead th {\n",
       "        text-align: right;\n",
       "    }\n",
       "</style>\n",
       "<table border=\"1\" class=\"dataframe\">\n",
       "  <thead>\n",
       "    <tr style=\"text-align: right;\">\n",
       "      <th></th>\n",
       "      <th>title</th>\n",
       "      <th>city</th>\n",
       "      <th>date</th>\n",
       "      <th>raw_text</th>\n",
       "      <th>lemmas</th>\n",
       "    </tr>\n",
       "  </thead>\n",
       "  <tbody>\n",
       "    <tr>\n",
       "      <th>4</th>\n",
       "      <td>massachusetts spy, and worcester county advert...</td>\n",
       "      <td>[Worcester]</td>\n",
       "      <td>1826-03-29</td>\n",
       "      <td>The Constitution of this House; of the other H...</td>\n",
       "      <td>constitution house house judiciary power congr...</td>\n",
       "    </tr>\n",
       "    <tr>\n",
       "      <th>7</th>\n",
       "      <td>massachusetts spy.</td>\n",
       "      <td>[Worcester]</td>\n",
       "      <td>1832-02-15</td>\n",
       "      <td>From the Connecticut Mirror.\\nHOMEWARD BOUND.\\...</td>\n",
       "      <td>connecticut mirror homeward bound thou eagle b...</td>\n",
       "    </tr>\n",
       "    <tr>\n",
       "      <th>1</th>\n",
       "      <td>daily spy.</td>\n",
       "      <td>[Worcester]</td>\n",
       "      <td>1848-09-16</td>\n",
       "      <td>Elie Satin Spy.\\nWORCESTER:\\nSATURDAY, SEPTEMB...</td>\n",
       "      <td>elie satin spy worcester saturday september fr...</td>\n",
       "    </tr>\n",
       "    <tr>\n",
       "      <th>9</th>\n",
       "      <td>daily spy.</td>\n",
       "      <td>[Worcester]</td>\n",
       "      <td>1849-03-19</td>\n",
       "      <td>Ov\\nWORCE S T E R :\\nMONDAY MARCH 19, 1849.\\nF...</td>\n",
       "      <td>ov worce s t e r monday march free soil nomina...</td>\n",
       "    </tr>\n",
       "    <tr>\n",
       "      <th>3</th>\n",
       "      <td>daily spy.</td>\n",
       "      <td>[Worcester]</td>\n",
       "      <td>1850-03-27</td>\n",
       "      <td>THE DAILY SPY.\\nWO AC ESTER-\\nWEDNESDM F, 27, ...</td>\n",
       "      <td>daily spy wo ac wednesdm f komiufttioiß congre...</td>\n",
       "    </tr>\n",
       "  </tbody>\n",
       "</table>\n",
       "</div>"
      ],
      "text/plain": [
       "                                               title         city       date  \\\n",
       "4  massachusetts spy, and worcester county advert...  [Worcester] 1826-03-29   \n",
       "7                                 massachusetts spy.  [Worcester] 1832-02-15   \n",
       "1                                         daily spy.  [Worcester] 1848-09-16   \n",
       "9                                         daily spy.  [Worcester] 1849-03-19   \n",
       "3                                         daily spy.  [Worcester] 1850-03-27   \n",
       "\n",
       "                                            raw_text  \\\n",
       "4  The Constitution of this House; of the other H...   \n",
       "7  From the Connecticut Mirror.\\nHOMEWARD BOUND.\\...   \n",
       "1  Elie Satin Spy.\\nWORCESTER:\\nSATURDAY, SEPTEMB...   \n",
       "9  Ov\\nWORCE S T E R :\\nMONDAY MARCH 19, 1849.\\nF...   \n",
       "3  THE DAILY SPY.\\nWO AC ESTER-\\nWEDNESDM F, 27, ...   \n",
       "\n",
       "                                              lemmas  \n",
       "4  constitution house house judiciary power congr...  \n",
       "7  connecticut mirror homeward bound thou eagle b...  \n",
       "1  elie satin spy worcester saturday september fr...  \n",
       "9  ov worce s t e r monday march free soil nomina...  \n",
       "3  daily spy wo ac wednesdm f komiufttioiß congre...  "
      ]
     },
     "execution_count": 20,
     "metadata": {},
     "output_type": "execute_result"
    }
   ],
   "source": [
    "# sanity check\n",
    "df.head()"
   ]
  },
  {
   "cell_type": "code",
   "execution_count": 21,
   "metadata": {
    "id": "7UU3K6rkfsRM"
   },
   "outputs": [],
   "source": [
    "# save to csv\n",
    "df.to_csv(f'{search_term}{start_date}-{end_date}.csv', index=False)"
   ]
  },
  {
   "cell_type": "code",
   "execution_count": null,
   "metadata": {},
   "outputs": [],
   "source": []
  }
 ],
 "metadata": {
  "colab": {
   "private_outputs": true,
   "provenance": []
  },
  "kernelspec": {
   "display_name": "Python 3 (ipykernel)",
   "language": "python",
   "name": "python3"
  },
  "language_info": {
   "codemirror_mode": {
    "name": "ipython",
    "version": 3
   },
   "file_extension": ".py",
   "mimetype": "text/x-python",
   "name": "python",
   "nbconvert_exporter": "python",
   "pygments_lexer": "ipython3",
   "version": "3.11.4"
  }
 },
 "nbformat": 4,
 "nbformat_minor": 1
}
