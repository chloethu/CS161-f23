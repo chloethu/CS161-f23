{
 "cells": [
  {
   "cell_type": "markdown",
   "id": "b8cfed32",
   "metadata": {},
   "source": [
    "## 3-1"
   ]
  },
  {
   "cell_type": "code",
   "execution_count": 1,
   "id": "c7c8e078",
   "metadata": {},
   "outputs": [
    {
     "name": "stdout",
     "output_type": "stream",
     "text": [
      "sylvie\n",
      "emi\n",
      "kerrera\n"
     ]
    }
   ],
   "source": [
    "names = [\"sylvie\", \"emi\", \"kerrera\"]\n",
    "print(names[0])\n",
    "print(names[1])\n",
    "print(names[2])"
   ]
  },
  {
   "cell_type": "markdown",
   "id": "670a8ebf",
   "metadata": {},
   "source": [
    "## 3-2"
   ]
  },
  {
   "cell_type": "code",
   "execution_count": 6,
   "id": "7e7ce5be",
   "metadata": {},
   "outputs": [
    {
     "name": "stdout",
     "output_type": "stream",
     "text": [
      "My roommate is Sylvie.\n"
     ]
    }
   ],
   "source": [
    "names = [\"sylvie\", \"emi\", \"kerrera\"]\n",
    "message_1 = \"My roommate is \" + names[0].title() + \".\"\n",
    "print(message_1)"
   ]
  },
  {
   "cell_type": "code",
   "execution_count": 7,
   "id": "a4a10c52",
   "metadata": {},
   "outputs": [
    {
     "name": "stdout",
     "output_type": "stream",
     "text": [
      "My roommate last year was named Emi.\n",
      "My friend is named Kerrera.\n"
     ]
    }
   ],
   "source": [
    "names = [\"sylvie\", \"emi\", \"kerrera\"]\n",
    "message_2 = \"My roommate last year was named \" + names[1].title() + \".\"\n",
    "message_3 = \"My friend is named \" + names[2].title() + \".\"\n",
    "print(message_2)\n",
    "print(message_3)"
   ]
  },
  {
   "cell_type": "markdown",
   "id": "c919e74d",
   "metadata": {},
   "source": [
    "## 3-3"
   ]
  },
  {
   "cell_type": "code",
   "execution_count": 9,
   "id": "3390a5e1",
   "metadata": {},
   "outputs": [
    {
     "name": "stdout",
     "output_type": "stream",
     "text": [
      "I would like to own a Subaru car.\n",
      "I would like to own a Toyota car.\n",
      "I would like to own a Mini Cooper car.\n"
     ]
    }
   ],
   "source": [
    "cars = [\"Subaru\", \"Toyota\", \"Mini Cooper\"]\n",
    "message_1 = \"I would like to own a \" + cars[0].title() + \" car.\"\n",
    "message_2 = \"I would like to own a \" + cars[1].title() + \" car.\"\n",
    "message_3 = \"I would like to own a \" + cars[2].title() + \" car.\"\n",
    "print(message_1)\n",
    "print(message_2)\n",
    "print(message_3)"
   ]
  },
  {
   "cell_type": "markdown",
   "id": "f6baa7d2",
   "metadata": {},
   "source": [
    "## 3-4"
   ]
  },
  {
   "cell_type": "code",
   "execution_count": 10,
   "id": "b4909b11",
   "metadata": {},
   "outputs": [
    {
     "name": "stdout",
     "output_type": "stream",
     "text": [
      "Hi Toni Morrison, please come to dinner tonight.\n",
      "Hi William Shakespeare, please come to dinner tonight.\n",
      "Hi Nina Lacour, please come to dinner tonight.\n"
     ]
    }
   ],
   "source": [
    "guest_list = [\"toni morrison\", \"william shakespeare\", \"nina lacour\"]\n",
    "message_1 = \"Hi \" + guest_list[0].title() + \", please come to dinner tonight.\"\n",
    "message_2 = \"Hi \" + guest_list[1].title() + \", please come to dinner tonight.\"\n",
    "message_3 = \"Hi \" + guest_list[2].title() + \", please come to dinner tonight.\"\n",
    "print(message_1)\n",
    "print(message_2)\n",
    "print(message_3)"
   ]
  },
  {
   "cell_type": "markdown",
   "id": "daafe7cd",
   "metadata": {},
   "source": [
    "## 3-5"
   ]
  },
  {
   "cell_type": "code",
   "execution_count": 11,
   "id": "a856dca7",
   "metadata": {},
   "outputs": [
    {
     "name": "stdout",
     "output_type": "stream",
     "text": [
      "['toni morrison', 'william shakespeare', 'nina lacour']\n",
      "nina lacour\n"
     ]
    }
   ],
   "source": [
    "guest_list = [\"toni morrison\", \"william shakespeare\", \"nina lacour\"]\n",
    "print(guest_list)\n",
    "print(guest_list[2])"
   ]
  },
  {
   "cell_type": "code",
   "execution_count": 12,
   "id": "037b83d9",
   "metadata": {},
   "outputs": [
    {
     "name": "stdout",
     "output_type": "stream",
     "text": [
      "['toni morrison', 'william shakespeare', 'chinua achebe']\n"
     ]
    }
   ],
   "source": [
    "guest_list[2] = \"chinua achebe\"\n",
    "print(guest_list)"
   ]
  },
  {
   "cell_type": "code",
   "execution_count": 13,
   "id": "d0fb409d",
   "metadata": {},
   "outputs": [
    {
     "name": "stdout",
     "output_type": "stream",
     "text": [
      "Hi Toni Morrison, please come to dinner tonight.\n",
      "Hi William Shakespeare, please come to dinner tonight.\n",
      "Hi Chinua Achebe, please come to dinner tonight.\n"
     ]
    }
   ],
   "source": [
    "message_1 = \"Hi \" + guest_list[0].title() + \", please come to dinner tonight.\"\n",
    "message_2 = \"Hi \" + guest_list[1].title() + \", please come to dinner tonight.\"\n",
    "message_3 = \"Hi \" + guest_list[2].title() + \", please come to dinner tonight.\"\n",
    "print(message_1)\n",
    "print(message_2)\n",
    "print(message_3)"
   ]
  },
  {
   "cell_type": "markdown",
   "id": "f5e99580",
   "metadata": {},
   "source": [
    "## 3-6"
   ]
  },
  {
   "cell_type": "code",
   "execution_count": 15,
   "id": "e68f95f5",
   "metadata": {},
   "outputs": [
    {
     "name": "stdout",
     "output_type": "stream",
     "text": [
      "Hi Toni Morrison, I found a bigger table for tonight.\n",
      "Hi William Shakespeare, I found a bigger table for tonight.\n",
      "Hi Chinua Achebe, I found a bigger table for tonight.\n"
     ]
    }
   ],
   "source": [
    "guest_list = [\"toni morrison\", \"william shakespeare\", \"chinua achebe\"]\n",
    "message_1 = \"Hi \" + guest_list[0].title() + \", I found a bigger table for tonight.\"\n",
    "message_2 = \"Hi \" + guest_list[1].title() + \", I found a bigger table for tonight.\"\n",
    "message_3 = \"Hi \" + guest_list[2].title() + \", I found a bigger table for tonight.\"\n",
    "print(message_1)\n",
    "print(message_2)\n",
    "print(message_3)"
   ]
  },
  {
   "cell_type": "code",
   "execution_count": 16,
   "id": "e99b2a43",
   "metadata": {},
   "outputs": [
    {
     "name": "stdout",
     "output_type": "stream",
     "text": [
      "['franz kafka', 'toni morrison', 'william shakespeare', 'chinua achebe']\n"
     ]
    }
   ],
   "source": [
    "guest_list.insert(0, \"franz kafka\")\n",
    "print(guest_list)"
   ]
  },
  {
   "cell_type": "code",
   "execution_count": 17,
   "id": "543ac800",
   "metadata": {},
   "outputs": [
    {
     "name": "stdout",
     "output_type": "stream",
     "text": [
      "['franz kafka', 'toni morrison', 'shirley jackson', 'william shakespeare', 'chinua achebe']\n"
     ]
    }
   ],
   "source": [
    "guest_list.insert(2, \"shirley jackson\")\n",
    "print(guest_list)"
   ]
  },
  {
   "cell_type": "code",
   "execution_count": 18,
   "id": "e49b7ea3",
   "metadata": {},
   "outputs": [
    {
     "name": "stdout",
     "output_type": "stream",
     "text": [
      "['franz kafka', 'toni morrison', 'shirley jackson', 'william shakespeare', 'chinua achebe', 'philip k dick']\n"
     ]
    }
   ],
   "source": [
    "guest_list.append(\"philip k dick\")\n",
    "print(guest_list)"
   ]
  },
  {
   "cell_type": "code",
   "execution_count": 19,
   "id": "14f47cfb",
   "metadata": {},
   "outputs": [
    {
     "name": "stdout",
     "output_type": "stream",
     "text": [
      "Hi Franz Kafka, please come to dinner tonight.\n",
      "Hi Toni Morrison, please come to dinner tonight.\n",
      "Hi Shirley Jackson, please come to dinner tonight.\n",
      "Hi William Shakespeare, please come to dinner tonight.\n",
      "Hi Chinua Achebe, please come to dinner tonight.\n",
      "Hi Philip K Dick, please come to dinner tonight.\n"
     ]
    }
   ],
   "source": [
    "message_1 = \"Hi \" + guest_list[0].title() + \", please come to dinner tonight.\"\n",
    "message_2 = \"Hi \" + guest_list[1].title() + \", please come to dinner tonight.\"\n",
    "message_3 = \"Hi \" + guest_list[2].title() + \", please come to dinner tonight.\"\n",
    "message_4 = \"Hi \" + guest_list[3].title() + \", please come to dinner tonight.\"\n",
    "message_5 = \"Hi \" + guest_list[4].title() + \", please come to dinner tonight.\"\n",
    "message_6 = \"Hi \" + guest_list[5].title() + \", please come to dinner tonight.\"\n",
    "print(message_1)\n",
    "print(message_2)\n",
    "print(message_3)\n",
    "print(message_4)\n",
    "print(message_5)\n",
    "print(message_6)"
   ]
  },
  {
   "cell_type": "markdown",
   "id": "9f3da5b7",
   "metadata": {},
   "source": [
    "## 3-7"
   ]
  },
  {
   "cell_type": "code",
   "execution_count": 20,
   "id": "500a1a53",
   "metadata": {},
   "outputs": [],
   "source": [
    "guest_list = ['franz kafka', 'toni morrison', 'shirley jackson', 'william shakespeare', 'chinua achebe', 'philip k dick']"
   ]
  },
  {
   "cell_type": "code",
   "execution_count": 21,
   "id": "a0782044",
   "metadata": {},
   "outputs": [
    {
     "name": "stdout",
     "output_type": "stream",
     "text": [
      "Hi Franz Kafka, I can only invite two people to dinner tonight.\n",
      "Hi Toni Morrison, I can only invite two people to dinner tonight.\n",
      "Hi Shirley Jackson, I can only invite two people to dinner tonight.\n",
      "Hi William Shakespeare, I can only invite two people to dinner tonight.\n",
      "Hi Chinua Achebe, I can only invite two people to dinner tonight.\n",
      "Hi Philip K Dick, I can only invite two people to dinner tonight.\n"
     ]
    }
   ],
   "source": [
    "message_1 = \"Hi \" + guest_list[0].title() + \", I can only invite two people to dinner tonight.\"\n",
    "message_2 = \"Hi \" + guest_list[1].title() + \", I can only invite two people to dinner tonight.\"\n",
    "message_3 = \"Hi \" + guest_list[2].title() + \", I can only invite two people to dinner tonight.\"\n",
    "message_4 = \"Hi \" + guest_list[3].title() + \", I can only invite two people to dinner tonight.\"\n",
    "message_5 = \"Hi \" + guest_list[4].title() + \", I can only invite two people to dinner tonight.\"\n",
    "message_6 = \"Hi \" + guest_list[5].title() + \", I can only invite two people to dinner tonight.\"\n",
    "print(message_1)\n",
    "print(message_2)\n",
    "print(message_3)\n",
    "print(message_4)\n",
    "print(message_5)\n",
    "print(message_6)"
   ]
  },
  {
   "cell_type": "code",
   "execution_count": null,
   "id": "f1572fde",
   "metadata": {},
   "outputs": [],
   "source": []
  },
  {
   "cell_type": "code",
   "execution_count": 29,
   "id": "8b6ad8e4",
   "metadata": {},
   "outputs": [
    {
     "name": "stdout",
     "output_type": "stream",
     "text": [
      "Hello Franz Kafka, you are no longer invited to dinner.\n"
     ]
    }
   ],
   "source": [
    "guest_list = ['franz kafka', 'toni morrison', 'shirley jackson', 'william shakespeare', 'chinua achebe', 'philip k dick']\n",
    "first = guest_list.pop(0)\n",
    "print(\"Hello \" + first.title() + \", you are no longer invited to dinner.\")"
   ]
  },
  {
   "cell_type": "code",
   "execution_count": 30,
   "id": "8ce21390",
   "metadata": {},
   "outputs": [
    {
     "name": "stdout",
     "output_type": "stream",
     "text": [
      "['toni morrison', 'shirley jackson', 'william shakespeare', 'chinua achebe', 'philip k dick']\n"
     ]
    }
   ],
   "source": [
    "print(guest_list)"
   ]
  },
  {
   "cell_type": "code",
   "execution_count": 31,
   "id": "6aa1640f",
   "metadata": {},
   "outputs": [
    {
     "name": "stdout",
     "output_type": "stream",
     "text": [
      "Hello Chinua Achebe, you are no longer invited to dinner.\n"
     ]
    }
   ],
   "source": [
    "second = guest_list.pop(3)\n",
    "print(\"Hello \" + second.title() + \", you are no longer invited to dinner.\")\n"
   ]
  },
  {
   "cell_type": "code",
   "execution_count": 32,
   "id": "073f5c20",
   "metadata": {},
   "outputs": [
    {
     "name": "stdout",
     "output_type": "stream",
     "text": [
      "['toni morrison', 'shirley jackson', 'william shakespeare', 'philip k dick']\n"
     ]
    }
   ],
   "source": [
    "print(guest_list)"
   ]
  },
  {
   "cell_type": "code",
   "execution_count": 33,
   "id": "93e4b156",
   "metadata": {},
   "outputs": [
    {
     "name": "stdout",
     "output_type": "stream",
     "text": [
      "Hello William Shakespeare, you are no longer invited to dinner.\n"
     ]
    }
   ],
   "source": [
    "third = guest_list.pop(2)\n",
    "print(\"Hello \" + third.title() + \", you are no longer invited to dinner.\")\n"
   ]
  },
  {
   "cell_type": "code",
   "execution_count": 34,
   "id": "97858e6f",
   "metadata": {},
   "outputs": [
    {
     "name": "stdout",
     "output_type": "stream",
     "text": [
      "['toni morrison', 'shirley jackson', 'philip k dick']\n"
     ]
    }
   ],
   "source": [
    "print(guest_list)"
   ]
  },
  {
   "cell_type": "code",
   "execution_count": 35,
   "id": "5ea1431b",
   "metadata": {},
   "outputs": [
    {
     "name": "stdout",
     "output_type": "stream",
     "text": [
      "Hello Philip K Dick, you are no longer invited to dinner.\n"
     ]
    }
   ],
   "source": [
    "fourth = guest_list.pop(2)\n",
    "print(\"Hello \" + fourth.title() + \", you are no longer invited to dinner.\")"
   ]
  },
  {
   "cell_type": "code",
   "execution_count": 36,
   "id": "68ffca6e",
   "metadata": {},
   "outputs": [
    {
     "name": "stdout",
     "output_type": "stream",
     "text": [
      "['toni morrison', 'shirley jackson']\n"
     ]
    }
   ],
   "source": [
    "print(guest_list)"
   ]
  },
  {
   "cell_type": "code",
   "execution_count": 37,
   "id": "f73346d8",
   "metadata": {},
   "outputs": [
    {
     "name": "stdout",
     "output_type": "stream",
     "text": [
      "Hi Toni Morrison, you are still invited to dinner!\n",
      "Hi Shirley Jackson, you are still invited to dinner!\n"
     ]
    }
   ],
   "source": [
    "message_1 = \"Hi \" + guest_list[0].title() + \", you are still invited to dinner!\"\n",
    "message_2 = \"Hi \" + guest_list[1].title() + \", you are still invited to dinner!\"\n",
    "print(message_1)\n",
    "print(message_2)"
   ]
  },
  {
   "cell_type": "code",
   "execution_count": 38,
   "id": "d261816e",
   "metadata": {},
   "outputs": [
    {
     "name": "stdout",
     "output_type": "stream",
     "text": [
      "[]\n"
     ]
    }
   ],
   "source": [
    "del guest_list[1]\n",
    "del guest_list[0]\n",
    "print(guest_list)"
   ]
  },
  {
   "cell_type": "markdown",
   "id": "2e488cd6",
   "metadata": {},
   "source": [
    "## 3-8"
   ]
  },
  {
   "cell_type": "code",
   "execution_count": 39,
   "id": "25975820",
   "metadata": {},
   "outputs": [
    {
     "name": "stdout",
     "output_type": "stream",
     "text": [
      "['auckland', 'london', 'melbourne', 'geneva', 'tokyo']\n"
     ]
    }
   ],
   "source": [
    "locations = [\"auckland\", \"london\", \"melbourne\", \"geneva\", \"tokyo\"]\n",
    "print(locations)"
   ]
  },
  {
   "cell_type": "code",
   "execution_count": 40,
   "id": "11f334f9",
   "metadata": {},
   "outputs": [
    {
     "name": "stdout",
     "output_type": "stream",
     "text": [
      "['auckland', 'geneva', 'london', 'melbourne', 'tokyo']\n"
     ]
    }
   ],
   "source": [
    "print(sorted(locations))"
   ]
  },
  {
   "cell_type": "code",
   "execution_count": 41,
   "id": "cb5ca185",
   "metadata": {},
   "outputs": [
    {
     "name": "stdout",
     "output_type": "stream",
     "text": [
      "['auckland', 'london', 'melbourne', 'geneva', 'tokyo']\n"
     ]
    }
   ],
   "source": [
    "print(locations)"
   ]
  },
  {
   "cell_type": "code",
   "execution_count": 44,
   "id": "67aab01a",
   "metadata": {},
   "outputs": [
    {
     "name": "stdout",
     "output_type": "stream",
     "text": [
      "['tokyo', 'melbourne', 'london', 'geneva', 'auckland']\n"
     ]
    }
   ],
   "source": [
    "print(sorted(locations, reverse=True))"
   ]
  },
  {
   "cell_type": "code",
   "execution_count": 45,
   "id": "4a8e5131",
   "metadata": {},
   "outputs": [
    {
     "name": "stdout",
     "output_type": "stream",
     "text": [
      "['auckland', 'london', 'melbourne', 'geneva', 'tokyo']\n"
     ]
    }
   ],
   "source": [
    "print(locations)"
   ]
  },
  {
   "cell_type": "code",
   "execution_count": 46,
   "id": "24acdc88",
   "metadata": {},
   "outputs": [
    {
     "name": "stdout",
     "output_type": "stream",
     "text": [
      "['tokyo', 'geneva', 'melbourne', 'london', 'auckland']\n"
     ]
    }
   ],
   "source": [
    "locations.reverse()\n",
    "print(locations)"
   ]
  },
  {
   "cell_type": "code",
   "execution_count": 47,
   "id": "15795cb6",
   "metadata": {},
   "outputs": [
    {
     "name": "stdout",
     "output_type": "stream",
     "text": [
      "['auckland', 'london', 'melbourne', 'geneva', 'tokyo']\n"
     ]
    }
   ],
   "source": [
    "locations.reverse()\n",
    "print(locations)"
   ]
  },
  {
   "cell_type": "code",
   "execution_count": 48,
   "id": "c1f62b67",
   "metadata": {},
   "outputs": [
    {
     "name": "stdout",
     "output_type": "stream",
     "text": [
      "['auckland', 'geneva', 'london', 'melbourne', 'tokyo']\n"
     ]
    }
   ],
   "source": [
    "locations.sort()\n",
    "print(locations)"
   ]
  },
  {
   "cell_type": "code",
   "execution_count": 49,
   "id": "67f89748",
   "metadata": {},
   "outputs": [
    {
     "name": "stdout",
     "output_type": "stream",
     "text": [
      "['tokyo', 'melbourne', 'london', 'geneva', 'auckland']\n"
     ]
    }
   ],
   "source": [
    "locations.sort(reverse=True)\n",
    "print(locations)"
   ]
  },
  {
   "cell_type": "code",
   "execution_count": null,
   "id": "b50c22eb",
   "metadata": {},
   "outputs": [],
   "source": []
  }
 ],
 "metadata": {
  "kernelspec": {
   "display_name": "Python 3 (ipykernel)",
   "language": "python",
   "name": "python3"
  },
  "language_info": {
   "codemirror_mode": {
    "name": "ipython",
    "version": 3
   },
   "file_extension": ".py",
   "mimetype": "text/x-python",
   "name": "python",
   "nbconvert_exporter": "python",
   "pygments_lexer": "ipython3",
   "version": "3.11.4"
  }
 },
 "nbformat": 4,
 "nbformat_minor": 5
}
