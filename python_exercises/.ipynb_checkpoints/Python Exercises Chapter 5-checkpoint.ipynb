{
 "cells": [
  {
   "cell_type": "markdown",
   "id": "db70d7cb",
   "metadata": {},
   "source": [
    "## 5-1"
   ]
  },
  {
   "cell_type": "code",
   "execution_count": 2,
   "id": "c1808d09",
   "metadata": {},
   "outputs": [
    {
     "name": "stdout",
     "output_type": "stream",
     "text": [
      "Is car == 'subaru'? I predict True.\n",
      "True\n",
      "\n",
      "Is car == 'audi'? I predict False.\n",
      "False\n"
     ]
    }
   ],
   "source": [
    "car = 'subaru'\n",
    "print(\"Is car == 'subaru'? I predict True.\")\n",
    "print(car == \"subaru\")\n",
    "\n",
    "print(\"\\nIs car == 'audi'? I predict False.\")\n",
    "print(car == \"audi\")"
   ]
  },
  {
   "cell_type": "code",
   "execution_count": 3,
   "id": "d9311d2e",
   "metadata": {},
   "outputs": [
    {
     "name": "stdout",
     "output_type": "stream",
     "text": [
      "True\n",
      "False\n"
     ]
    }
   ],
   "source": [
    "pizza = \"cheese\"\n",
    "print(pizza == 'cheese')\n",
    "print(pizza == \"Cheese\")"
   ]
  },
  {
   "cell_type": "code",
   "execution_count": 4,
   "id": "ee688152",
   "metadata": {},
   "outputs": [
    {
     "name": "stdout",
     "output_type": "stream",
     "text": [
      "True\n",
      "False\n"
     ]
    }
   ],
   "source": [
    "roommate = \"sylvie\"\n",
    "print(roommate == \"sylvie\")\n",
    "print(roommate == \"emi\")"
   ]
  },
  {
   "cell_type": "code",
   "execution_count": 3,
   "id": "7af6b96a",
   "metadata": {},
   "outputs": [
    {
     "name": "stdout",
     "output_type": "stream",
     "text": [
      "False\n",
      "True\n"
     ]
    }
   ],
   "source": [
    "rent = 1200\n",
    "print(rent == 1000)\n",
    "print(rent== 1200)"
   ]
  },
  {
   "cell_type": "code",
   "execution_count": 4,
   "id": "5cd5a338",
   "metadata": {},
   "outputs": [
    {
     "name": "stdout",
     "output_type": "stream",
     "text": [
      "True\n",
      "False\n"
     ]
    }
   ],
   "source": [
    "english_major = \"useful\"\n",
    "print(english_major == 'useful')\n",
    "print(english_major == \"useless\")"
   ]
  },
  {
   "cell_type": "markdown",
   "id": "42912221",
   "metadata": {},
   "source": [
    "## 5-2"
   ]
  },
  {
   "cell_type": "code",
   "execution_count": 5,
   "id": "7731a8f9",
   "metadata": {},
   "outputs": [
    {
     "name": "stdout",
     "output_type": "stream",
     "text": [
      "True\n",
      "False\n"
     ]
    }
   ],
   "source": [
    "cake = \"chocolate\"\n",
    "print(cake == 'chocolate')\n",
    "print(cake == 'vanilla')"
   ]
  },
  {
   "cell_type": "code",
   "execution_count": 8,
   "id": "5d6c8ad6",
   "metadata": {},
   "outputs": [
    {
     "name": "stdout",
     "output_type": "stream",
     "text": [
      "True\n",
      "False\n"
     ]
    }
   ],
   "source": [
    "car = \"Audi\"\n",
    "print(car.lower() == 'audi')\n",
    "print(car== 'audi')"
   ]
  },
  {
   "cell_type": "code",
   "execution_count": 9,
   "id": "1b82114d",
   "metadata": {},
   "outputs": [
    {
     "name": "stdout",
     "output_type": "stream",
     "text": [
      "True\n",
      "False\n"
     ]
    }
   ],
   "source": [
    "age = 18\n",
    "print(age > 15)\n",
    "print(age >= 20)"
   ]
  },
  {
   "cell_type": "code",
   "execution_count": 11,
   "id": "9b8e8628",
   "metadata": {},
   "outputs": [
    {
     "name": "stdout",
     "output_type": "stream",
     "text": [
      "False\n",
      "True\n"
     ]
    }
   ],
   "source": [
    "age = 18\n",
    "print(age > 15 and age < 17)\n",
    "print(age > 15 or age < 17)"
   ]
  },
  {
   "cell_type": "code",
   "execution_count": 12,
   "id": "1c1ca9c2",
   "metadata": {},
   "outputs": [
    {
     "name": "stdout",
     "output_type": "stream",
     "text": [
      "True\n",
      "False\n"
     ]
    }
   ],
   "source": [
    "requested_colors = ['red', 'orange', 'yellow']\n",
    "print('red' in requested_colors)\n",
    "print('blue' in requested_colors)"
   ]
  },
  {
   "cell_type": "code",
   "execution_count": 13,
   "id": "bbffb5a9",
   "metadata": {},
   "outputs": [
    {
     "name": "stdout",
     "output_type": "stream",
     "text": [
      "Julie , you can play the game!\n"
     ]
    }
   ],
   "source": [
    "banned_users = ['john', 'dave', 'bob']\n",
    "user = 'julie'\n",
    "\n",
    "if user not in banned_users:\n",
    "    print(user.title() + \" , you can play the game!\")"
   ]
  },
  {
   "cell_type": "code",
   "execution_count": 14,
   "id": "ee59bf82",
   "metadata": {},
   "outputs": [
    {
     "name": "stdout",
     "output_type": "stream",
     "text": [
      "John, you cannot play the game!\n"
     ]
    }
   ],
   "source": [
    "banned_users = ['john', 'dave', 'bob']\n",
    "user = 'john'\n",
    "\n",
    "if user not in banned_users:\n",
    "    print(user.title() + \" , you can play the game!\")\n",
    "    \n",
    "else:\n",
    "    print(user.title() + \", you cannot play the game!\")"
   ]
  },
  {
   "cell_type": "markdown",
   "id": "516f57a4",
   "metadata": {},
   "source": [
    "## 5-6"
   ]
  },
  {
   "cell_type": "code",
   "execution_count": 16,
   "id": "73a9d2c1",
   "metadata": {},
   "outputs": [
    {
     "name": "stdout",
     "output_type": "stream",
     "text": [
      "You are a teenager!\n"
     ]
    }
   ],
   "source": [
    "age = 19\n",
    "if age < 2:\n",
    "    print(\"You are a baby!\")\n",
    "elif 2 <= age < 4:\n",
    "    print(\"You are a toddler!\")\n",
    "elif 4 <= age < 13:\n",
    "    print(\"You are a kid!\")\n",
    "elif 13 <= age < 20:\n",
    "    print(\"You are a teenager!\")\n",
    "elif 20 <= age < 65:\n",
    "    print(\"You are an adult!\")\n",
    "elif age >= 65: \n",
    "    print(\"You are an elder!\")"
   ]
  },
  {
   "cell_type": "markdown",
   "id": "d6ab26b5",
   "metadata": {},
   "source": [
    "## 5-7"
   ]
  },
  {
   "cell_type": "code",
   "execution_count": 17,
   "id": "db9d52b2",
   "metadata": {},
   "outputs": [
    {
     "name": "stdout",
     "output_type": "stream",
     "text": [
      "You really love pomegranates!\n",
      "You really love apricots!\n",
      "You really love oranges!\n"
     ]
    }
   ],
   "source": [
    "favorite_fruits = ['pomegranate', 'apricot', 'orange']\n",
    "if 'pomegranate' in favorite_fruits:\n",
    "    print('You really love pomegranates!')\n",
    "if 'apricot' in favorite_fruits:\n",
    "    print('You really love apricots!')\n",
    "if 'apple' in favorite_fruits:\n",
    "    print('You really love apples!')\n",
    "if 'orange' in favorite_fruits:\n",
    "    print('You really love oranges!')\n",
    "if 'peach' in favorite_fruits:\n",
    "    print('You really love peaches!')"
   ]
  },
  {
   "cell_type": "markdown",
   "id": "0126fadd",
   "metadata": {},
   "source": [
    "## 5-8"
   ]
  },
  {
   "cell_type": "code",
   "execution_count": 19,
   "id": "4e11d6c6",
   "metadata": {},
   "outputs": [
    {
     "name": "stdout",
     "output_type": "stream",
     "text": [
      "Hello Dave, thank you for logging in.\n",
      "Hello admin, would you like to see a status report?\n",
      "Hello Angela, thank you for logging in.\n",
      "Hello Alyssa, thank you for logging in.\n",
      "Hello Coco, thank you for logging in.\n",
      "Hello Roxy, thank you for logging in.\n"
     ]
    }
   ],
   "source": [
    "users = ['dave', 'admin', 'angela', 'alyssa', 'coco', 'roxy']\n",
    "for user in users:\n",
    "    if user == 'admin':\n",
    "        print(\"Hello admin, would you like to see a status report?\")\n",
    "    else:\n",
    "        print(\"Hello \" + user.title() + \", thank you for logging in.\")"
   ]
  },
  {
   "cell_type": "markdown",
   "id": "a941ca1a",
   "metadata": {},
   "source": [
    "## 5-9"
   ]
  },
  {
   "cell_type": "code",
   "execution_count": 25,
   "id": "7f4cc6c8",
   "metadata": {},
   "outputs": [
    {
     "name": "stdout",
     "output_type": "stream",
     "text": [
      "We need to find some users!\n"
     ]
    }
   ],
   "source": [
    "users = []\n",
    "for user in users:\n",
    "    if user == 'admin':\n",
    "        print(\"Hello admin, would you like to see a status report?\")\n",
    "    else:\n",
    "        print(\"Hello \" + user.title() + \", thank you for logging in.\")\n",
    "if users == []:\n",
    "    print(\"We need to find some users!\")"
   ]
  },
  {
   "cell_type": "markdown",
   "id": "ca163085",
   "metadata": {},
   "source": [
    "## 5-10"
   ]
  },
  {
   "cell_type": "code",
   "execution_count": 28,
   "id": "30d5141f",
   "metadata": {},
   "outputs": [
    {
     "name": "stdout",
     "output_type": "stream",
     "text": [
      "You will need to enter a new username.\n",
      "That username is available.\n",
      "That username is available.\n",
      "That username is available.\n",
      "That username is available.\n"
     ]
    }
   ],
   "source": [
    "current_users = ['dave', 'angela', 'katya', 'trixie', 'michelle']\n",
    "new_users = ['dave', 'ru', 'santino', 'sasha', 'KATYA']\n",
    "for user in new_users:\n",
    "    if user in current_users:\n",
    "        print(\"You will need to enter a new username.\")\n",
    "    else:\n",
    "        print(\"That username is available.\")"
   ]
  },
  {
   "cell_type": "code",
   "execution_count": null,
   "id": "144787dd",
   "metadata": {},
   "outputs": [],
   "source": []
  }
 ],
 "metadata": {
  "kernelspec": {
   "display_name": "Python 3 (ipykernel)",
   "language": "python",
   "name": "python3"
  },
  "language_info": {
   "codemirror_mode": {
    "name": "ipython",
    "version": 3
   },
   "file_extension": ".py",
   "mimetype": "text/x-python",
   "name": "python",
   "nbconvert_exporter": "python",
   "pygments_lexer": "ipython3",
   "version": "3.11.4"
  }
 },
 "nbformat": 4,
 "nbformat_minor": 5
}
