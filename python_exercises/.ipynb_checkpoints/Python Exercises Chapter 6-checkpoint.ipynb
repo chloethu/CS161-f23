{
 "cells": [
  {
   "cell_type": "markdown",
   "id": "0f2850bc",
   "metadata": {},
   "source": [
    "## 6-1\n"
   ]
  },
  {
   "cell_type": "code",
   "execution_count": 2,
   "id": "eb549f19",
   "metadata": {},
   "outputs": [
    {
     "name": "stdout",
     "output_type": "stream",
     "text": [
      "sylvie\n",
      "fernandez\n",
      "19\n",
      "cranford\n"
     ]
    }
   ],
   "source": [
    "person = {'first_name':'sylvie', 'last_name':'fernandez', 'age':19, 'city':'cranford'}\n",
    "print(person['first_name'])\n",
    "print(person['last_name'])\n",
    "print(person['age'])\n",
    "print(person['city'])"
   ]
  },
  {
   "cell_type": "markdown",
   "id": "4632d242",
   "metadata": {},
   "source": [
    "## 6-2"
   ]
  },
  {
   "cell_type": "code",
   "execution_count": 5,
   "id": "aeeea824",
   "metadata": {},
   "outputs": [
    {
     "name": "stdout",
     "output_type": "stream",
     "text": [
      "Chloe's favorite number is 18.\n",
      "Sylvie's favorite number is 8.\n",
      "Emi's favorite number is 26.\n"
     ]
    }
   ],
   "source": [
    "favorite_numbers = {'chloe':18, 'sylvie':8, 'emi':26}\n",
    "print(\"Chloe's favorite number is \" + str(favorite_numbers['chloe']) + '.')\n",
    "print(\"Sylvie's favorite number is \" + str(favorite_numbers['sylvie']) + '.')\n",
    "print(\"Emi's favorite number is \" + str(favorite_numbers['emi']) + '.')"
   ]
  },
  {
   "cell_type": "markdown",
   "id": "0aad58e1",
   "metadata": {},
   "source": [
    "## 6-3"
   ]
  },
  {
   "cell_type": "code",
   "execution_count": 15,
   "id": "2c1c0237",
   "metadata": {},
   "outputs": [
    {
     "name": "stdout",
     "output_type": "stream",
     "text": [
      "list: \n",
      "stores items in a list\n",
      "\n",
      "variable: \n",
      "sets anything equal to a chosen word\n",
      "\n",
      "string: \n",
      "series of characters in quotations\n",
      "\n",
      "integer: \n",
      "number without a decimal\n",
      "\n",
      "dictionary: \n",
      "stores key-value pairs in a list\n"
     ]
    }
   ],
   "source": [
    "python_words = {\n",
    "    'list':'stores items in a list',\n",
    "    'variable':'sets anything equal to a chosen word', \n",
    "    'string':'series of characters in quotations',\n",
    "    'integer':'number without a decimal',\n",
    "    'dictionary':'stores key-value pairs in a list'}\n",
    "print('list: \\n' + python_words['list'])\n",
    "print('\\nvariable: \\n' + python_words['variable'])\n",
    "print('\\nstring: \\n' + python_words['string'])\n",
    "print('\\ninteger: \\n' + python_words['integer'])\n",
    "print('\\ndictionary: \\n' + python_words['dictionary'])"
   ]
  },
  {
   "cell_type": "markdown",
   "id": "c39338ce",
   "metadata": {},
   "source": [
    "## 6-4"
   ]
  },
  {
   "cell_type": "code",
   "execution_count": 17,
   "id": "f060db85",
   "metadata": {},
   "outputs": [
    {
     "name": "stdout",
     "output_type": "stream",
     "text": [
      "\n",
      "Key: list\n",
      "\n",
      "Value: stores items in a list\n",
      "\n",
      "Key: variable\n",
      "\n",
      "Value: sets anything equal to a chosen word\n",
      "\n",
      "Key: string\n",
      "\n",
      "Value: series of characters in quotations\n",
      "\n",
      "Key: integer\n",
      "\n",
      "Value: number without a decimal\n",
      "\n",
      "Key: dictionary\n",
      "\n",
      "Value: stores key-value pairs in a list\n"
     ]
    }
   ],
   "source": [
    "python_words = {\n",
    "    'list':'stores items in a list',\n",
    "    'variable':'sets anything equal to a chosen word', \n",
    "    'string':'series of characters in quotations',\n",
    "    'integer':'number without a decimal',\n",
    "    'dictionary':'stores key-value pairs in a list'}\n",
    "for k, v in python_words.items():\n",
    "    print('\\nKey: ' + k)\n",
    "    print('\\nValue: ' + v)"
   ]
  },
  {
   "cell_type": "markdown",
   "id": "961a2469",
   "metadata": {},
   "source": [
    "## 6-5"
   ]
  },
  {
   "cell_type": "code",
   "execution_count": 19,
   "id": "619c53c9",
   "metadata": {},
   "outputs": [
    {
     "name": "stdout",
     "output_type": "stream",
     "text": [
      "The Mississippi runs through America.\n",
      "The Nile runs through Egypt.\n",
      "The Seine runs through France.\n"
     ]
    }
   ],
   "source": [
    "rivers = {'mississippi':'america', 'nile':'egypt', 'seine':'france'}\n",
    "\n",
    "for river, country in rivers.items():\n",
    "    print('The ' + river.title() + ' runs through ' + country.title() + \".\")"
   ]
  },
  {
   "cell_type": "code",
   "execution_count": 20,
   "id": "1520422a",
   "metadata": {},
   "outputs": [
    {
     "name": "stdout",
     "output_type": "stream",
     "text": [
      "Mississippi\n",
      "Nile\n",
      "Seine\n"
     ]
    }
   ],
   "source": [
    "for river in rivers.keys():\n",
    "    print(river.title())"
   ]
  },
  {
   "cell_type": "code",
   "execution_count": 24,
   "id": "f408e694",
   "metadata": {},
   "outputs": [
    {
     "name": "stdout",
     "output_type": "stream",
     "text": [
      "America\n",
      "Egypt\n",
      "France\n"
     ]
    }
   ],
   "source": [
    "for country in rivers.values():\n",
    "    print(country.title())"
   ]
  },
  {
   "cell_type": "markdown",
   "id": "a2ed72c0",
   "metadata": {},
   "source": [
    "## 6-6"
   ]
  },
  {
   "cell_type": "code",
   "execution_count": 27,
   "id": "957f5cb7",
   "metadata": {},
   "outputs": [
    {
     "name": "stdout",
     "output_type": "stream",
     "text": [
      "Hi Jen, thanks for taking our poll!\n",
      "Hi Harry, please take our poll.\n",
      "Hi Phil, thanks for taking our poll!\n",
      "Hi Kim, please take our poll.\n",
      "Hi Alex, please take our poll.\n"
     ]
    }
   ],
   "source": [
    "favorite_languages = {\n",
    " 'jen': 'python',\n",
    " 'sarah': 'c',\n",
    " 'edward': 'ruby',\n",
    " 'phil': 'python',\n",
    " }\n",
    "\n",
    "poll_takers = ['jen', 'harry', 'phil', 'kim', 'alex']\n",
    "\n",
    "for name in poll_takers:\n",
    "    if name in favorite_languages.keys():\n",
    "        print(\"Hi \" + name.title() + ', thanks for taking our poll!')\n",
    "    else:\n",
    "        print(\"Hi \" + name.title() + ', please take our poll.')"
   ]
  },
  {
   "cell_type": "markdown",
   "id": "3014cee0",
   "metadata": {},
   "source": [
    "## 6-7"
   ]
  },
  {
   "cell_type": "code",
   "execution_count": 28,
   "id": "6ad2abad",
   "metadata": {},
   "outputs": [
    {
     "name": "stdout",
     "output_type": "stream",
     "text": [
      "{'first_name': 'sylvie', 'last_name': 'fernandez', 'age': 19, 'city': 'cranford'}\n",
      "{'first_name': 'emi', 'last_name': 'ye', 'age': 19, 'city': 'manhassett'}\n",
      "{'first_name': 'kerrera', 'last_name': 'jackson', 'age': 19, 'city': 'minneapolis'}\n"
     ]
    }
   ],
   "source": [
    "sylvie = {'first_name':'sylvie', 'last_name':'fernandez', 'age':19, 'city':'cranford'}\n",
    "emi = {'first_name':'emi', 'last_name':'ye', 'age':19, 'city':'manhassett'}\n",
    "kerrera = {'first_name':'kerrera', 'last_name':'jackson', 'age':19, 'city':'minneapolis'}\n",
    "\n",
    "people = [sylvie, emi, kerrera]\n",
    "for person in people:\n",
    "    print(person)\n",
    "          "
   ]
  },
  {
   "cell_type": "markdown",
   "id": "6be323d7",
   "metadata": {},
   "source": [
    "## 6-8"
   ]
  },
  {
   "cell_type": "code",
   "execution_count": 29,
   "id": "c1469569",
   "metadata": {},
   "outputs": [
    {
     "name": "stdout",
     "output_type": "stream",
     "text": [
      "{'animal': 'cat', 'owner': 'emi'}\n",
      "{'animal': 'dog', 'owner': 'isabelle'}\n"
     ]
    }
   ],
   "source": [
    "cleo = {'animal':'cat', 'owner':'emi'}\n",
    "leo = {'animal':'dog', 'owner':'isabelle'}\n",
    "\n",
    "pets = [cleo, leo]\n",
    "\n",
    "for pet in pets:\n",
    "    print(pet)"
   ]
  },
  {
   "cell_type": "markdown",
   "id": "b43d13c2",
   "metadata": {},
   "source": [
    "## 6-9"
   ]
  },
  {
   "cell_type": "code",
   "execution_count": 31,
   "id": "01278ccd",
   "metadata": {},
   "outputs": [
    {
     "name": "stdout",
     "output_type": "stream",
     "text": [
      "\n",
      "Sylvie's favorite places are:\n",
      "\tCranford\n",
      "\tDisney\n",
      "\n",
      "Emi's favorite places are:\n",
      "\tNew York\n",
      "\tChina\n",
      "\n",
      "Chloe's favorite places are:\n",
      "\tSan Francisco\n",
      "\tTawonga\n"
     ]
    }
   ],
   "source": [
    "favorite_places = {\n",
    "    'sylvie':['cranford', 'disney'], \n",
    "    'emi':['new york', 'china'], \n",
    "    'chloe':['san francisco', 'tawonga']\n",
    "    }\n",
    "\n",
    "for name, places in favorite_places.items():\n",
    "    print(\"\\n\" + name.title() + \"'s favorite places are:\")\n",
    "    for place in places:\n",
    "        print('\\t' + place.title())"
   ]
  },
  {
   "cell_type": "markdown",
   "id": "3eb9f07b",
   "metadata": {},
   "source": [
    "## 6-11"
   ]
  },
  {
   "cell_type": "code",
   "execution_count": 33,
   "id": "3f1b696a",
   "metadata": {},
   "outputs": [
    {
     "name": "stdout",
     "output_type": "stream",
     "text": [
      "\n",
      " City: San Francisco\n",
      "\tCountry: America\n",
      "\tPopulation: 800000\n",
      "\tFact: The Golden Gate Bridge Is Here\n",
      "\n",
      " City: New York\n",
      "\tCountry: America\n",
      "\tPopulation: 8400000\n",
      "\tFact: Broadway Shows Are Here\n",
      "\n",
      " City: Paris\n",
      "\tCountry: France\n",
      "\tPopulation: 2100000\n",
      "\tFact: The Eiffel Tower Is Here\n"
     ]
    }
   ],
   "source": [
    "cities = {\n",
    "    'san francisco': {'country': 'america', 'population':800000, 'fact':'the golden gate bridge is here'},\n",
    "    'new york': {'country':'america', 'population':8400000, 'fact':'broadway shows are here'},\n",
    "    'paris': {'country': 'france', 'population':2100000, 'fact': 'the eiffel tower is here'}\n",
    "    }\n",
    "\n",
    "for city, city_info in cities.items():\n",
    "    print('\\n City: ' + city.title())\n",
    "    country = city_info['country']\n",
    "    population = str(city_info['population'])\n",
    "    fact = city_info['fact']\n",
    "    \n",
    "    print('\\tCountry: ' + country.title())\n",
    "    print('\\tPopulation: ' + population)\n",
    "    print('\\tFact: ' + fact.title())\n",
    "    "
   ]
  },
  {
   "cell_type": "code",
   "execution_count": null,
   "id": "430e9e95",
   "metadata": {},
   "outputs": [],
   "source": []
  }
 ],
 "metadata": {
  "kernelspec": {
   "display_name": "Python 3 (ipykernel)",
   "language": "python",
   "name": "python3"
  },
  "language_info": {
   "codemirror_mode": {
    "name": "ipython",
    "version": 3
   },
   "file_extension": ".py",
   "mimetype": "text/x-python",
   "name": "python",
   "nbconvert_exporter": "python",
   "pygments_lexer": "ipython3",
   "version": "3.11.4"
  }
 },
 "nbformat": 4,
 "nbformat_minor": 5
}
