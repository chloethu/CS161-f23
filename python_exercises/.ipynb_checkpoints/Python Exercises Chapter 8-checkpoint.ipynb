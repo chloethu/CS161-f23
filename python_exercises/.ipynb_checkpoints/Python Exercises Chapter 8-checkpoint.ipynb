{
 "cells": [
  {
   "cell_type": "markdown",
   "id": "56ea6a01",
   "metadata": {},
   "source": [
    "## 8-1"
   ]
  },
  {
   "cell_type": "code",
   "execution_count": 1,
   "id": "b8102b16",
   "metadata": {},
   "outputs": [
    {
     "name": "stdout",
     "output_type": "stream",
     "text": [
      "In this chapter, we are learning about functions and how to use them!\n"
     ]
    }
   ],
   "source": [
    "def display_message():\n",
    "    \"\"\"Displays a message.\"\"\"\n",
    "    print('In this chapter, we are learning about functions and how to use them!')\n",
    "\n",
    "display_message()"
   ]
  },
  {
   "cell_type": "markdown",
   "id": "3fcc24ca",
   "metadata": {},
   "source": [
    "## 8-2"
   ]
  },
  {
   "cell_type": "code",
   "execution_count": 2,
   "id": "16ee1d5e",
   "metadata": {},
   "outputs": [
    {
     "name": "stdout",
     "output_type": "stream",
     "text": [
      "My favoite book is We Are Okay.\n"
     ]
    }
   ],
   "source": [
    "def favorite_book(title):\n",
    "    \"\"\"Prints what my favorite book is.\"\"\"\n",
    "    print(\"My favoite book is \" + title.title() + \".\")\n",
    "    \n",
    "favorite_book('we are okay')"
   ]
  },
  {
   "cell_type": "markdown",
   "id": "3b2040cf",
   "metadata": {},
   "source": [
    "## 8-3"
   ]
  },
  {
   "cell_type": "code",
   "execution_count": 4,
   "id": "8eb1701c",
   "metadata": {},
   "outputs": [
    {
     "name": "stdout",
     "output_type": "stream",
     "text": [
      "This shirt is a size Medium and says \"I love dogs!\".\n",
      "This shirt is a size Medium and says \"I love dogs!\".\n"
     ]
    }
   ],
   "source": [
    "def make_shirt(size, text):\n",
    "    \"\"\"Displays size and text of a shirt.\"\"\"\n",
    "    print(\"This shirt is a size \" + size.title() + \" and says \" + text + \".\")\n",
    "    \n",
    "make_shirt('medium', '\"I love dogs!\"')\n",
    "make_shirt(text='\"I love dogs!\"', size='medium')"
   ]
  },
  {
   "cell_type": "markdown",
   "id": "63ad5748",
   "metadata": {},
   "source": [
    "## 8-5"
   ]
  },
  {
   "cell_type": "code",
   "execution_count": 5,
   "id": "9554260f",
   "metadata": {},
   "outputs": [
    {
     "name": "stdout",
     "output_type": "stream",
     "text": [
      "Reykjavic is in Iceland.\n",
      "San Francisco is in America.\n",
      "Paris is in France.\n"
     ]
    }
   ],
   "source": [
    "def describe_city(name, country='iceland'):\n",
    "    \"\"\"Describes a city.\"\"\"\n",
    "    print(name.title() + \" is in \" + country.title() + \".\")\n",
    "    \n",
    "describe_city('Reykjavic')\n",
    "describe_city('san Francisco', 'america')\n",
    "describe_city(country='France', name='paris')"
   ]
  },
  {
   "cell_type": "markdown",
   "id": "33ba5f50",
   "metadata": {},
   "source": [
    "## 8-6"
   ]
  },
  {
   "cell_type": "code",
   "execution_count": 8,
   "id": "d3865afd",
   "metadata": {},
   "outputs": [
    {
     "name": "stdout",
     "output_type": "stream",
     "text": [
      "London, England\n"
     ]
    }
   ],
   "source": [
    "def city_country(city, country):\n",
    "    \"\"\"Displays a city and its country, formatted.\"\"\"\n",
    "    formatted_cc =city + ', ' + country\n",
    "    return formatted_cc.title()\n",
    "\n",
    "cc=city_country('london', 'england')\n",
    "print(cc)"
   ]
  },
  {
   "cell_type": "code",
   "execution_count": 10,
   "id": "8822c799",
   "metadata": {},
   "outputs": [
    {
     "name": "stdout",
     "output_type": "stream",
     "text": [
      "Istanbul, Turkey\n"
     ]
    }
   ],
   "source": [
    "cc_2=city_country('istanbul', 'turkey')\n",
    "print(cc_2)"
   ]
  },
  {
   "cell_type": "code",
   "execution_count": 11,
   "id": "ab645ed9",
   "metadata": {},
   "outputs": [
    {
     "name": "stdout",
     "output_type": "stream",
     "text": [
      "Shanghai, China\n"
     ]
    }
   ],
   "source": [
    "cc_3 = city_country('shanghai', 'china')\n",
    "print(cc_3)"
   ]
  },
  {
   "cell_type": "markdown",
   "id": "d0b772cd",
   "metadata": {},
   "source": [
    "## 8-7"
   ]
  },
  {
   "cell_type": "code",
   "execution_count": 12,
   "id": "d4d31d64",
   "metadata": {},
   "outputs": [
    {
     "name": "stdout",
     "output_type": "stream",
     "text": [
      "{'artist': 'Childish Gambino', 'title': 'Because The Internet'}\n"
     ]
    }
   ],
   "source": [
    "def make_album(artist_name, full_title):\n",
    "    \"\"\"Returns a dictionary of information about an album.\"\"\"\n",
    "    album = {'artist':artist_name.title(), 'title':full_title.title()}\n",
    "    return album\n",
    "\n",
    "example_album = make_album('Childish gambino', 'Because the internet')\n",
    "print(example_album)"
   ]
  },
  {
   "cell_type": "code",
   "execution_count": 13,
   "id": "7aeab04e",
   "metadata": {},
   "outputs": [
    {
     "name": "stdout",
     "output_type": "stream",
     "text": [
      "{'artist': 'Frank Ocean', 'title': 'Channel Orange'}\n"
     ]
    }
   ],
   "source": [
    "example_album_2 = make_album('Frank Ocean', \"Channel Orange\")\n",
    "print(example_album_2)"
   ]
  },
  {
   "cell_type": "code",
   "execution_count": 14,
   "id": "1078e4ce",
   "metadata": {},
   "outputs": [
    {
     "name": "stdout",
     "output_type": "stream",
     "text": [
      "{'artist': 'Tyler The Creator', 'title': 'Call Me If You Get Lost'}\n"
     ]
    }
   ],
   "source": [
    "example_album_3 = make_album('Tyler the Creator', 'Call me if you get lost')\n",
    "print(example_album_3)"
   ]
  },
  {
   "cell_type": "code",
   "execution_count": 16,
   "id": "ca1c9a45",
   "metadata": {
    "scrolled": true
   },
   "outputs": [
    {
     "name": "stdout",
     "output_type": "stream",
     "text": [
      "{'artist': 'Tame Impala', 'title': 'Currents', 'tracks': '13'}\n"
     ]
    }
   ],
   "source": [
    "def make_album(artist_name, full_title, track_number=\"\"):\n",
    "    \"\"\"Returns a dictionary of information about an album.\"\"\"\n",
    "    if track_number:\n",
    "        album = {'artist':artist_name.title(), 'title':full_title.title(), 'tracks':track_number}\n",
    "    else:\n",
    "        album = {'artist':artist_name.title(), 'title':full_title.title()}\n",
    "    return album\n",
    "\n",
    "example_album_4 = make_album('tame impala', 'currents', '13')\n",
    "print(example_album_4)"
   ]
  },
  {
   "cell_type": "code",
   "execution_count": 17,
   "id": "8c16c576",
   "metadata": {
    "scrolled": true
   },
   "outputs": [
    {
     "name": "stdout",
     "output_type": "stream",
     "text": [
      "{'artist': 'Tame Impala', 'title': 'The Slow Rush'}\n"
     ]
    }
   ],
   "source": [
    "example_album_5 = make_album('Tame Impala', 'the slow rush')\n",
    "print(example_album_5)"
   ]
  }
 ],
 "metadata": {
  "kernelspec": {
   "display_name": "Python 3 (ipykernel)",
   "language": "python",
   "name": "python3"
  },
  "language_info": {
   "codemirror_mode": {
    "name": "ipython",
    "version": 3
   },
   "file_extension": ".py",
   "mimetype": "text/x-python",
   "name": "python",
   "nbconvert_exporter": "python",
   "pygments_lexer": "ipython3",
   "version": "3.11.4"
  }
 },
 "nbformat": 4,
 "nbformat_minor": 5
}
