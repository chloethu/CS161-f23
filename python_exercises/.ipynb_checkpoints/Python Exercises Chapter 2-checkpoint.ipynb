{
 "cells": [
  {
   "cell_type": "markdown",
   "id": "18656776",
   "metadata": {},
   "source": [
    "## Chapter 2"
   ]
  },
  {
   "cell_type": "markdown",
   "id": "bf00651c",
   "metadata": {},
   "source": [
    "## 2-1"
   ]
  },
  {
   "cell_type": "code",
   "execution_count": 1,
   "id": "48bb9672",
   "metadata": {},
   "outputs": [
    {
     "name": "stdout",
     "output_type": "stream",
     "text": [
      "hello\n"
     ]
    }
   ],
   "source": [
    "message = \"hello\"\n",
    "print(message)"
   ]
  },
  {
   "cell_type": "markdown",
   "id": "284b6a50",
   "metadata": {},
   "source": [
    "## 2-2"
   ]
  },
  {
   "cell_type": "code",
   "execution_count": 2,
   "id": "f0a31f3a",
   "metadata": {},
   "outputs": [
    {
     "name": "stdout",
     "output_type": "stream",
     "text": [
      "hi\n"
     ]
    }
   ],
   "source": [
    "message = \"hi\"\n",
    "print(message)"
   ]
  },
  {
   "cell_type": "code",
   "execution_count": 3,
   "id": "9ad22e66",
   "metadata": {},
   "outputs": [
    {
     "name": "stdout",
     "output_type": "stream",
     "text": [
      "hi hi\n"
     ]
    }
   ],
   "source": [
    "message = \"hi hi\"\n",
    "print(message)"
   ]
  },
  {
   "cell_type": "markdown",
   "id": "0374cf8d",
   "metadata": {},
   "source": [
    "## 2-3"
   ]
  },
  {
   "cell_type": "code",
   "execution_count": 9,
   "id": "4469cacc",
   "metadata": {},
   "outputs": [],
   "source": [
    "first_name = \"taylor\"\n",
    "last_name = \"swift\"\n",
    "full_name = first_name + \" \" + last_name"
   ]
  },
  {
   "cell_type": "code",
   "execution_count": 10,
   "id": "6de41dee",
   "metadata": {},
   "outputs": [
    {
     "name": "stdout",
     "output_type": "stream",
     "text": [
      "Hello, Taylor Swift how are you today?\n"
     ]
    }
   ],
   "source": [
    "print(\"Hello, \" + full_name.title() +\" how are you today?\")"
   ]
  },
  {
   "cell_type": "markdown",
   "id": "0d277657",
   "metadata": {},
   "source": [
    "## 2-4"
   ]
  },
  {
   "cell_type": "code",
   "execution_count": 24,
   "id": "974a9104",
   "metadata": {},
   "outputs": [
    {
     "name": "stdout",
     "output_type": "stream",
     "text": [
      "TAYLOR SWIFT\n",
      "taylor swift\n",
      "Taylor Swift\n"
     ]
    }
   ],
   "source": [
    "# using methods to manipulate strings\n",
    "name = \"Taylor Swift\"\n",
    "print(name.upper())\n",
    "print(name.lower())\n",
    "print(name.title())"
   ]
  },
  {
   "cell_type": "markdown",
   "id": "96a22605",
   "metadata": {},
   "source": [
    "## 2-5"
   ]
  },
  {
   "cell_type": "code",
   "execution_count": 12,
   "id": "f65f87a8",
   "metadata": {},
   "outputs": [
    {
     "name": "stdout",
     "output_type": "stream",
     "text": [
      "Taylor Swift once said, \"Long live.\"\n"
     ]
    }
   ],
   "source": [
    "print('Taylor Swift once said, \"Long live.\"')"
   ]
  },
  {
   "cell_type": "markdown",
   "id": "b66a6ef0",
   "metadata": {},
   "source": [
    "## 2-6"
   ]
  },
  {
   "cell_type": "code",
   "execution_count": 22,
   "id": "51e251cd",
   "metadata": {},
   "outputs": [
    {
     "name": "stdout",
     "output_type": "stream",
     "text": [
      "Taylor Swift once said, \"Long live.\"\n"
     ]
    }
   ],
   "source": [
    "# using variables and strings to produce a quote\n",
    "famous_person = \"Taylor Swift\"\n",
    "message = '\"Long live.\"'\n",
    "print(famous_person + \" once said, \" + message)"
   ]
  },
  {
   "cell_type": "markdown",
   "id": "138eabf7",
   "metadata": {},
   "source": [
    "## 2-7"
   ]
  },
  {
   "cell_type": "code",
   "execution_count": 17,
   "id": "76916e8e",
   "metadata": {},
   "outputs": [
    {
     "name": "stdout",
     "output_type": "stream",
     "text": [
      " chloe\t Jael \n",
      " Thurmgreene \n"
     ]
    }
   ],
   "source": [
    "name = \" chloe\\t Jael \\n Thurmgreene \"\n",
    "print(name)"
   ]
  },
  {
   "cell_type": "code",
   "execution_count": 18,
   "id": "42989186",
   "metadata": {},
   "outputs": [
    {
     "data": {
      "text/plain": [
       "' chloe\\t Jael \\n Thurmgreene'"
      ]
     },
     "execution_count": 18,
     "metadata": {},
     "output_type": "execute_result"
    }
   ],
   "source": [
    "name.rstrip()"
   ]
  },
  {
   "cell_type": "code",
   "execution_count": 19,
   "id": "754fdde2",
   "metadata": {},
   "outputs": [
    {
     "data": {
      "text/plain": [
       "'chloe\\t Jael \\n Thurmgreene '"
      ]
     },
     "execution_count": 19,
     "metadata": {},
     "output_type": "execute_result"
    }
   ],
   "source": [
    "name.lstrip()"
   ]
  },
  {
   "cell_type": "code",
   "execution_count": 20,
   "id": "5ed732ec",
   "metadata": {},
   "outputs": [
    {
     "data": {
      "text/plain": [
       "'chloe\\t Jael \\n Thurmgreene'"
      ]
     },
     "execution_count": 20,
     "metadata": {},
     "output_type": "execute_result"
    }
   ],
   "source": [
    "name.strip()"
   ]
  },
  {
   "cell_type": "code",
   "execution_count": 21,
   "id": "924bb832",
   "metadata": {},
   "outputs": [
    {
     "name": "stdout",
     "output_type": "stream",
     "text": [
      "chloe\t Jael \n",
      " Thurmgreene\n"
     ]
    }
   ],
   "source": [
    "name = name.strip()\n",
    "print(name)"
   ]
  },
  {
   "cell_type": "code",
   "execution_count": null,
   "id": "3b243179",
   "metadata": {},
   "outputs": [],
   "source": []
  }
 ],
 "metadata": {
  "kernelspec": {
   "display_name": "Python 3 (ipykernel)",
   "language": "python",
   "name": "python3"
  },
  "language_info": {
   "codemirror_mode": {
    "name": "ipython",
    "version": 3
   },
   "file_extension": ".py",
   "mimetype": "text/x-python",
   "name": "python",
   "nbconvert_exporter": "python",
   "pygments_lexer": "ipython3",
   "version": "3.11.4"
  }
 },
 "nbformat": 4,
 "nbformat_minor": 5
}
