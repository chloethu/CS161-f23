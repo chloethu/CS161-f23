{
 "cells": [
  {
   "cell_type": "code",
   "execution_count": 2,
   "id": "298bcc2a",
   "metadata": {},
   "outputs": [
    {
     "data": {
      "text/plain": [
       "2"
      ]
     },
     "execution_count": 2,
     "metadata": {},
     "output_type": "execute_result"
    }
   ],
   "source": [
    "list_of_lists = [['a', 'b', 'c'], [1, 2, 3]]\n",
    "len(list_of_lists)"
   ]
  },
  {
   "cell_type": "code",
   "execution_count": 3,
   "id": "94602fac",
   "metadata": {},
   "outputs": [
    {
     "name": "stdout",
     "output_type": "stream",
     "text": [
      "['a', 'b', 'c']\n"
     ]
    }
   ],
   "source": [
    "print(list_of_lists[0])"
   ]
  },
  {
   "cell_type": "code",
   "execution_count": 7,
   "id": "410a9335",
   "metadata": {},
   "outputs": [
    {
     "name": "stdout",
     "output_type": "stream",
     "text": [
      "3\n"
     ]
    }
   ],
   "source": [
    "print(list_of_lists[1][2])"
   ]
  },
  {
   "cell_type": "markdown",
   "id": "15f72d5d",
   "metadata": {},
   "source": [
    "# Conditionals"
   ]
  },
  {
   "cell_type": "markdown",
   "id": "41f41b5e",
   "metadata": {},
   "source": [
    "## Booleans"
   ]
  },
  {
   "cell_type": "code",
   "execution_count": 8,
   "id": "80eb31a2",
   "metadata": {
    "scrolled": true
   },
   "outputs": [],
   "source": [
    "a = True\n",
    "b = False"
   ]
  },
  {
   "cell_type": "code",
   "execution_count": 9,
   "id": "74596b48",
   "metadata": {},
   "outputs": [
    {
     "name": "stdout",
     "output_type": "stream",
     "text": [
      "<class 'bool'>\n"
     ]
    }
   ],
   "source": [
    "print(type(a))"
   ]
  },
  {
   "cell_type": "code",
   "execution_count": 10,
   "id": "7088919c",
   "metadata": {},
   "outputs": [
    {
     "data": {
      "text/plain": [
       "True"
      ]
     },
     "execution_count": 10,
     "metadata": {},
     "output_type": "execute_result"
    }
   ],
   "source": [
    "1==1"
   ]
  },
  {
   "cell_type": "code",
   "execution_count": 14,
   "id": "0bc7ec0d",
   "metadata": {},
   "outputs": [
    {
     "data": {
      "text/plain": [
       "True"
      ]
     },
     "execution_count": 14,
     "metadata": {},
     "output_type": "execute_result"
    }
   ],
   "source": [
    "## != means \"not equal to\"\n",
    "1!=2"
   ]
  },
  {
   "cell_type": "code",
   "execution_count": 12,
   "id": "689808d3",
   "metadata": {},
   "outputs": [
    {
     "data": {
      "text/plain": [
       "True"
      ]
     },
     "execution_count": 12,
     "metadata": {},
     "output_type": "execute_result"
    }
   ],
   "source": [
    "1>0.5"
   ]
  },
  {
   "cell_type": "code",
   "execution_count": 13,
   "id": "8ac5738e",
   "metadata": {},
   "outputs": [
    {
     "data": {
      "text/plain": [
       "False"
      ]
     },
     "execution_count": 13,
     "metadata": {},
     "output_type": "execute_result"
    }
   ],
   "source": [
    "1<0.5"
   ]
  },
  {
   "cell_type": "code",
   "execution_count": 15,
   "id": "831eeaa8",
   "metadata": {},
   "outputs": [
    {
     "name": "stdout",
     "output_type": "stream",
     "text": [
      "False\n"
     ]
    }
   ],
   "source": [
    "print(7==10)"
   ]
  },
  {
   "cell_type": "code",
   "execution_count": 16,
   "id": "ce4dea48",
   "metadata": {},
   "outputs": [
    {
     "name": "stdout",
     "output_type": "stream",
     "text": [
      "True\n"
     ]
    }
   ],
   "source": [
    "print(7!=10)"
   ]
  },
  {
   "cell_type": "code",
   "execution_count": 17,
   "id": "b43025ef",
   "metadata": {},
   "outputs": [
    {
     "name": "stdout",
     "output_type": "stream",
     "text": [
      "False\n"
     ]
    }
   ],
   "source": [
    "print(7>10)"
   ]
  },
  {
   "cell_type": "code",
   "execution_count": 18,
   "id": "d2e2cd00",
   "metadata": {},
   "outputs": [],
   "source": [
    "c = 18"
   ]
  },
  {
   "cell_type": "code",
   "execution_count": 19,
   "id": "7a0cc52a",
   "metadata": {},
   "outputs": [
    {
     "data": {
      "text/plain": [
       "True"
      ]
     },
     "execution_count": 19,
     "metadata": {},
     "output_type": "execute_result"
    }
   ],
   "source": [
    "c == 18"
   ]
  },
  {
   "cell_type": "code",
   "execution_count": 20,
   "id": "ae015fe9",
   "metadata": {},
   "outputs": [
    {
     "data": {
      "text/plain": [
       "False"
      ]
     },
     "execution_count": 20,
     "metadata": {},
     "output_type": "execute_result"
    }
   ],
   "source": [
    "'c' == 18"
   ]
  },
  {
   "cell_type": "code",
   "execution_count": 22,
   "id": "2f98390d",
   "metadata": {},
   "outputs": [
    {
     "name": "stdout",
     "output_type": "stream",
     "text": [
      "True\n"
     ]
    }
   ],
   "source": [
    "print('Gibbon' == \"Gibbon\")"
   ]
  },
  {
   "cell_type": "code",
   "execution_count": 23,
   "id": "abf958e6",
   "metadata": {},
   "outputs": [
    {
     "name": "stdout",
     "output_type": "stream",
     "text": [
      "False\n"
     ]
    }
   ],
   "source": [
    "print(\"Gibbon\" == \"gibbon\")"
   ]
  },
  {
   "cell_type": "code",
   "execution_count": 24,
   "id": "77ac26e9",
   "metadata": {},
   "outputs": [],
   "source": [
    "historians = ['gibbon', 'eusebius', 'lepore']"
   ]
  },
  {
   "cell_type": "code",
   "execution_count": 25,
   "id": "6b4894d6",
   "metadata": {
    "scrolled": false
   },
   "outputs": [
    {
     "name": "stdout",
     "output_type": "stream",
     "text": [
      "True\n"
     ]
    }
   ],
   "source": [
    "print('gibbon' in historians)"
   ]
  },
  {
   "cell_type": "code",
   "execution_count": 26,
   "id": "3031c654",
   "metadata": {
    "scrolled": true
   },
   "outputs": [
    {
     "name": "stdout",
     "output_type": "stream",
     "text": [
      "False\n"
     ]
    }
   ],
   "source": [
    "print('Gibbon' in historians)"
   ]
  },
  {
   "cell_type": "code",
   "execution_count": 44,
   "id": "d4346fc7",
   "metadata": {
    "scrolled": true
   },
   "outputs": [
    {
     "name": "stdout",
     "output_type": "stream",
     "text": [
      "True\n"
     ]
    }
   ],
   "source": [
    "print(\"gibbon\" in historians or \"Gibbon\" in historians)"
   ]
  },
  {
   "cell_type": "code",
   "execution_count": 46,
   "id": "e9e7d753",
   "metadata": {},
   "outputs": [
    {
     "name": "stdout",
     "output_type": "stream",
     "text": [
      "Gibbon is in list\n",
      "Gibbon is not in list\n",
      "Gibbon is not in list\n"
     ]
    }
   ],
   "source": [
    "# look at this\n",
    "for historian in historians:\n",
    "    if historian == \"Gibbon\" or historian == \"gibbon\":\n",
    "        print(\"Gibbon is in list\")\n",
    "    else:\n",
    "        print(\"Gibbon is not in list\")"
   ]
  },
  {
   "cell_type": "markdown",
   "id": "b00d6adb",
   "metadata": {},
   "source": [
    "## Conditionals"
   ]
  },
  {
   "cell_type": "code",
   "execution_count": 36,
   "id": "0ec04765",
   "metadata": {},
   "outputs": [],
   "source": [
    "age = 18"
   ]
  },
  {
   "cell_type": "code",
   "execution_count": 38,
   "id": "107df2b1",
   "metadata": {},
   "outputs": [
    {
     "name": "stdout",
     "output_type": "stream",
     "text": [
      "Happy Birthday, welcome to democracy, it's a little rough out there.\n"
     ]
    }
   ],
   "source": [
    "## first condition in a list of conditionals must be if, then all the middle ones will be elif, last one will be else (if needed)\n",
    "if age > 18:\n",
    "    print(\"You are old enough to vote!\")\n",
    "elif age == 18:\n",
    "    print(\"Happy Birthday, welcome to democracy, it's a little rough out there.\")\n",
    "else:\n",
    "    print(\"You are not old enough to vote.\")"
   ]
  },
  {
   "cell_type": "markdown",
   "id": "6930ee11",
   "metadata": {},
   "source": [
    "## Boolean Operators"
   ]
  },
  {
   "cell_type": "code",
   "execution_count": 41,
   "id": "308151c6",
   "metadata": {
    "scrolled": true
   },
   "outputs": [
    {
     "data": {
      "text/plain": [
       "False"
      ]
     },
     "execution_count": 41,
     "metadata": {},
     "output_type": "execute_result"
    }
   ],
   "source": [
    "# one is true and one is false so they are both false (using and)\n",
    "(7!=10) and (7>10)"
   ]
  },
  {
   "cell_type": "code",
   "execution_count": 42,
   "id": "42eb6e53",
   "metadata": {},
   "outputs": [
    {
     "data": {
      "text/plain": [
       "True"
      ]
     },
     "execution_count": 42,
     "metadata": {},
     "output_type": "execute_result"
    }
   ],
   "source": [
    "(7!=10) and (7<10)"
   ]
  },
  {
   "cell_type": "code",
   "execution_count": 43,
   "id": "d1d08fca",
   "metadata": {},
   "outputs": [
    {
     "data": {
      "text/plain": [
       "True"
      ]
     },
     "execution_count": 43,
     "metadata": {},
     "output_type": "execute_result"
    }
   ],
   "source": [
    "# because one condition is true, it runs true (using or)\n",
    "(7!=10) or (7>10)"
   ]
  },
  {
   "cell_type": "code",
   "execution_count": null,
   "id": "b58fc64a",
   "metadata": {},
   "outputs": [],
   "source": []
  }
 ],
 "metadata": {
  "kernelspec": {
   "display_name": "Python 3 (ipykernel)",
   "language": "python",
   "name": "python3"
  },
  "language_info": {
   "codemirror_mode": {
    "name": "ipython",
    "version": 3
   },
   "file_extension": ".py",
   "mimetype": "text/x-python",
   "name": "python",
   "nbconvert_exporter": "python",
   "pygments_lexer": "ipython3",
   "version": "3.11.4"
  }
 },
 "nbformat": 4,
 "nbformat_minor": 5
}
