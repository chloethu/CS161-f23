{
 "cells": [
  {
   "cell_type": "markdown",
   "id": "7894785c",
   "metadata": {},
   "source": [
    "## 4-1"
   ]
  },
  {
   "cell_type": "code",
   "execution_count": 2,
   "id": "91c76722",
   "metadata": {},
   "outputs": [
    {
     "name": "stdout",
     "output_type": "stream",
     "text": [
      "cheese\n",
      "veggie\n",
      "olive\n"
     ]
    }
   ],
   "source": [
    "pizzas = [\"cheese\", \"veggie\", \"olive\"]\n",
    "for pizza in pizzas:\n",
    "    print(pizza)"
   ]
  },
  {
   "cell_type": "code",
   "execution_count": 4,
   "id": "0301aad6",
   "metadata": {},
   "outputs": [
    {
     "name": "stdout",
     "output_type": "stream",
     "text": [
      "I like cheese pizza.\n",
      "I like veggie pizza.\n",
      "I like olive pizza.\n"
     ]
    }
   ],
   "source": [
    "for pizza in pizzas:\n",
    "    print(\"I like \" + pizza + \" pizza.\")"
   ]
  },
  {
   "cell_type": "code",
   "execution_count": 5,
   "id": "26af4bc9",
   "metadata": {},
   "outputs": [
    {
     "name": "stdout",
     "output_type": "stream",
     "text": [
      "I like cheese pizza.\n",
      "I like veggie pizza.\n",
      "I like olive pizza.\n",
      "I really love pizza!\n"
     ]
    }
   ],
   "source": [
    "for pizza in pizzas:\n",
    "    print(\"I like \" + pizza + \" pizza.\")\n",
    "print(\"I really love pizza!\")"
   ]
  },
  {
   "cell_type": "markdown",
   "id": "40392b0d",
   "metadata": {},
   "source": [
    "## 4-2"
   ]
  },
  {
   "cell_type": "code",
   "execution_count": 7,
   "id": "22d0857e",
   "metadata": {},
   "outputs": [
    {
     "name": "stdout",
     "output_type": "stream",
     "text": [
      "dog\n",
      "cat\n",
      "mouse\n"
     ]
    }
   ],
   "source": [
    "animals = [\"dog\", \"cat\", \"mouse\"]\n",
    "for animal in animals:\n",
    "    print(animal)"
   ]
  },
  {
   "cell_type": "code",
   "execution_count": 8,
   "id": "c350d159",
   "metadata": {},
   "outputs": [
    {
     "name": "stdout",
     "output_type": "stream",
     "text": [
      "A dog has hair or fur.\n",
      "A cat has hair or fur.\n",
      "A mouse has hair or fur.\n",
      "All of these animals have hair or fur!\n"
     ]
    }
   ],
   "source": [
    "for animal in animals:\n",
    "    print(\"A \" + animal + \" has hair or fur.\")\n",
    "print(\"All of these animals have hair or fur!\")"
   ]
  },
  {
   "cell_type": "markdown",
   "id": "e6fd69e4",
   "metadata": {},
   "source": [
    "## 4-3"
   ]
  },
  {
   "cell_type": "code",
   "execution_count": 9,
   "id": "ae968e84",
   "metadata": {},
   "outputs": [
    {
     "name": "stdout",
     "output_type": "stream",
     "text": [
      "1\n",
      "2\n",
      "3\n",
      "4\n",
      "5\n",
      "6\n",
      "7\n",
      "8\n",
      "9\n",
      "10\n",
      "11\n",
      "12\n",
      "13\n",
      "14\n",
      "15\n",
      "16\n",
      "17\n",
      "18\n",
      "19\n",
      "20\n"
     ]
    }
   ],
   "source": [
    "for value in range(1,21):\n",
    "    print(value)"
   ]
  },
  {
   "cell_type": "markdown",
   "id": "756a05e0",
   "metadata": {},
   "source": [
    "## 4-6"
   ]
  },
  {
   "cell_type": "code",
   "execution_count": 10,
   "id": "0f67f675",
   "metadata": {},
   "outputs": [
    {
     "name": "stdout",
     "output_type": "stream",
     "text": [
      "[1, 3, 5, 7, 9, 11, 13, 15, 17, 19]\n"
     ]
    }
   ],
   "source": [
    "odd_numbers = list(range(1,20,2))\n",
    "print(odd_numbers)"
   ]
  },
  {
   "cell_type": "markdown",
   "id": "d9dd32f8",
   "metadata": {},
   "source": [
    "## 4-10"
   ]
  },
  {
   "cell_type": "code",
   "execution_count": 11,
   "id": "e48b7d65",
   "metadata": {},
   "outputs": [
    {
     "name": "stdout",
     "output_type": "stream",
     "text": [
      "The first three items in this list are:\n",
      "['cheese', 'veggie', 'olive']\n"
     ]
    }
   ],
   "source": [
    "pizzas = [\"cheese\", \"veggie\", \"olive\", \"pepperoni\", \"sausage\"]\n",
    "print(\"The first three items in this list are:\")\n",
    "print(pizzas[0:3])"
   ]
  },
  {
   "cell_type": "code",
   "execution_count": 12,
   "id": "f9a748a0",
   "metadata": {},
   "outputs": [
    {
     "name": "stdout",
     "output_type": "stream",
     "text": [
      "The three middle items from this list are:\n",
      "['veggie', 'olive', 'pepperoni']\n"
     ]
    }
   ],
   "source": [
    "print(\"The three middle items from this list are:\")\n",
    "print(pizzas[1:4])"
   ]
  },
  {
   "cell_type": "code",
   "execution_count": 13,
   "id": "35a34898",
   "metadata": {},
   "outputs": [
    {
     "name": "stdout",
     "output_type": "stream",
     "text": [
      "The last three items from this list are:\n",
      "['olive', 'pepperoni', 'sausage']\n"
     ]
    }
   ],
   "source": [
    "print(\"The last three items from this list are:\")\n",
    "print(pizzas[2:])"
   ]
  },
  {
   "cell_type": "markdown",
   "id": "50d0f459",
   "metadata": {},
   "source": [
    "## 4-11"
   ]
  },
  {
   "cell_type": "code",
   "execution_count": 17,
   "id": "9705c292",
   "metadata": {},
   "outputs": [
    {
     "name": "stdout",
     "output_type": "stream",
     "text": [
      "['cheese', 'veggie', 'olive', 'pepperoni', 'sausage']\n",
      "['cheese', 'veggie', 'olive', 'pepperoni', 'sausage']\n"
     ]
    }
   ],
   "source": [
    "my_pizzas = [\"cheese\", \"veggie\", \"olive\", \"pepperoni\", \"sausage\"]\n",
    "friend_pizzas = my_pizzas[:]\n",
    "print(my_pizzas)\n",
    "print(friend_pizzas)"
   ]
  },
  {
   "cell_type": "code",
   "execution_count": 18,
   "id": "e7244700",
   "metadata": {},
   "outputs": [
    {
     "name": "stdout",
     "output_type": "stream",
     "text": [
      "['cheese', 'veggie', 'olive', 'pepperoni', 'sausage', 'supreme']\n",
      "['cheese', 'veggie', 'olive', 'pepperoni', 'sausage', 'meat lovers']\n"
     ]
    }
   ],
   "source": [
    "my_pizzas.append(\"supreme\")\n",
    "friend_pizzas.append(\"meat lovers\")\n",
    "\n",
    "print(my_pizzas)\n",
    "print(friend_pizzas)\n"
   ]
  },
  {
   "cell_type": "code",
   "execution_count": 20,
   "id": "ed76165d",
   "metadata": {},
   "outputs": [
    {
     "name": "stdout",
     "output_type": "stream",
     "text": [
      "Here are my favorite pizzas:\n",
      "Cheese\n",
      "Veggie\n",
      "Olive\n",
      "Pepperoni\n",
      "Sausage\n",
      "Supreme\n",
      "\n",
      "Here are my friend's favorite pizzas:\n",
      "Cheese\n",
      "Veggie\n",
      "Olive\n",
      "Pepperoni\n",
      "Sausage\n",
      "Meat Lovers\n"
     ]
    }
   ],
   "source": [
    "print(\"Here are my favorite pizzas:\")\n",
    "for my_pizza in my_pizzas:\n",
    "    print(my_pizza.title())\n",
    "    \n",
    "print(\"\\nHere are my friend's favorite pizzas:\")\n",
    "for friend_pizza in friend_pizzas:\n",
    "    print(friend_pizza.title())"
   ]
  },
  {
   "cell_type": "code",
   "execution_count": null,
   "id": "4ea52797",
   "metadata": {},
   "outputs": [],
   "source": []
  }
 ],
 "metadata": {
  "kernelspec": {
   "display_name": "Python 3 (ipykernel)",
   "language": "python",
   "name": "python3"
  },
  "language_info": {
   "codemirror_mode": {
    "name": "ipython",
    "version": 3
   },
   "file_extension": ".py",
   "mimetype": "text/x-python",
   "name": "python",
   "nbconvert_exporter": "python",
   "pygments_lexer": "ipython3",
   "version": "3.11.4"
  }
 },
 "nbformat": 4,
 "nbformat_minor": 5
}
