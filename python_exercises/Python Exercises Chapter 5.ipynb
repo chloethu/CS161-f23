{
 "cells": [
  {
   "cell_type": "markdown",
   "id": "db70d7cb",
   "metadata": {},
   "source": [
    "## 5-1"
   ]
  },
  {
   "cell_type": "code",
   "execution_count": 2,
   "id": "c1808d09",
   "metadata": {},
   "outputs": [
    {
     "name": "stdout",
     "output_type": "stream",
     "text": [
      "Is car == 'subaru'? I predict True.\n",
      "True\n",
      "\n",
      "Is car == 'audi'? I predict False.\n",
      "False\n"
     ]
    }
   ],
   "source": [
    "car = 'subaru'\n",
    "print(\"Is car == 'subaru'? I predict True.\")\n",
    "print(car == \"subaru\")\n",
    "\n",
    "print(\"\\nIs car == 'audi'? I predict False.\")\n",
    "print(car == \"audi\")"
   ]
  },
  {
   "cell_type": "code",
   "execution_count": 3,
   "id": "d9311d2e",
   "metadata": {},
   "outputs": [
    {
     "name": "stdout",
     "output_type": "stream",
     "text": [
      "True\n",
      "False\n"
     ]
    }
   ],
   "source": [
    "pizza = \"cheese\"\n",
    "print(pizza == 'cheese')\n",
    "print(pizza == \"Cheese\")"
   ]
  },
  {
   "cell_type": "code",
   "execution_count": 4,
   "id": "ee688152",
   "metadata": {},
   "outputs": [
    {
     "name": "stdout",
     "output_type": "stream",
     "text": [
      "True\n",
      "False\n"
     ]
    }
   ],
   "source": [
    "roommate = \"sylvie\"\n",
    "print(roommate == \"sylvie\")\n",
    "print(roommate == \"emi\")"
   ]
  },
  {
   "cell_type": "code",
   "execution_count": null,
   "id": "7af6b96a",
   "metadata": {},
   "outputs": [],
   "source": []
  }
 ],
 "metadata": {
  "kernelspec": {
   "display_name": "Python 3 (ipykernel)",
   "language": "python",
   "name": "python3"
  },
  "language_info": {
   "codemirror_mode": {
    "name": "ipython",
    "version": 3
   },
   "file_extension": ".py",
   "mimetype": "text/x-python",
   "name": "python",
   "nbconvert_exporter": "python",
   "pygments_lexer": "ipython3",
   "version": "3.11.4"
  }
 },
 "nbformat": 4,
 "nbformat_minor": 5
}
