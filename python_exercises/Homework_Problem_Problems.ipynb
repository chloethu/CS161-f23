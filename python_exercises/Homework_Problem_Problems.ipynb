{
  "nbformat": 4,
  "nbformat_minor": 0,
  "metadata": {
    "colab": {
      "provenance": []
    },
    "kernelspec": {
      "name": "python3",
      "display_name": "Python 3"
    },
    "language_info": {
      "name": "python"
    }
  },
  "cells": [
    {
      "cell_type": "markdown",
      "source": [
        "5-10. Checking Usernames: Do the following to create a program that simulates\n",
        "how websites ensure that everyone has a unique username.\n",
        "• Make a list of five or more usernames called current_users.\n",
        "• Make another list of five usernames called new_users. Make sure one or\n",
        "two of the new usernames are also in the current_users list.\n",
        "• Loop through the new_users list to see if each new username has already\n",
        "been used. If it has, print a message that the person will need to enter a\n",
        "new username. If a username has not been used, print a message saying\n",
        "that the username is available.\n",
        "• Make sure your comparison is case insensitive. If 'John' has been used,\n",
        "'JOHN' should not be accepted."
      ],
      "metadata": {
        "id": "tUu1ik0YcBjK"
      }
    },
    {
      "cell_type": "code",
      "execution_count": 19,
      "metadata": {
        "colab": {
          "base_uri": "https://localhost:8080/"
        },
        "id": "LUgrGK7zb6Ls",
        "outputId": "d80ecfb5-195d-467e-f4c9-139038d5e25c"
      },
      "outputs": [
        {
          "output_type": "stream",
          "name": "stdout",
          "text": [
            "Hera is not available, please choose a different username\n",
            "ZEUS is not available, please choose a different username\n",
            "Sappho is available,great choice!\n",
            "Poseidon is available,great choice!\n",
            "PAN is available,great choice!\n"
          ]
        }
      ],
      "source": [
        "current_users= ['Zeus','HERA','Aries','APHRODITE','Hercules','zeus']\n",
        "new_users= ['Hera','ZEUS','Sappho','Poseidon','PAN']\n",
        "for username in new_users:  #loop through every username in our new_users list #then check against the current_users list with various conditions\n",
        "  if username.upper() in current_users: #     #accounts for all caps usernames ie ZEUS\n",
        "      print(f'{username} is not available, please choose a different username')\n",
        "  elif username.lower() in current_users:    #accounts for all lowercase usernames ie zeus\n",
        "      print(f'{username} is not available, please choose a different username')\n",
        "  elif username.title() in current_users:  #accounts for first letter capitalized like Hera\n",
        "    print(f'{username} is not available, please choose a different username')\n",
        "  else:\n",
        "    print(f'{username} is available,great choice!')"
      ]
    }
  ]
}