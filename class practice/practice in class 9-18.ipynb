{
 "cells": [
  {
   "cell_type": "markdown",
   "id": "d77ffab5",
   "metadata": {},
   "source": [
    "this is my first jupyter notebook :)"
   ]
  },
  {
   "cell_type": "markdown",
   "id": "82934ac3",
   "metadata": {},
   "source": [
    "# heading 1"
   ]
  },
  {
   "cell_type": "markdown",
   "id": "bac1c535",
   "metadata": {},
   "source": [
    "## Heading 2"
   ]
  },
  {
   "cell_type": "code",
   "execution_count": 1,
   "id": "db1223b8",
   "metadata": {
    "scrolled": true
   },
   "outputs": [
    {
     "name": "stdout",
     "output_type": "stream",
     "text": [
      "Hello, world\n"
     ]
    }
   ],
   "source": [
    "print(\"Hello, world\")"
   ]
  },
  {
   "cell_type": "code",
   "execution_count": 2,
   "id": "ef86c18a",
   "metadata": {
    "scrolled": true
   },
   "outputs": [
    {
     "ename": "SyntaxError",
     "evalue": "invalid syntax. Perhaps you forgot a comma? (2497053111.py, line 1)",
     "output_type": "error",
     "traceback": [
      "\u001b[0;36m  Cell \u001b[0;32mIn[2], line 1\u001b[0;36m\u001b[0m\n\u001b[0;31m    print(hello world)\u001b[0m\n\u001b[0m          ^\u001b[0m\n\u001b[0;31mSyntaxError\u001b[0m\u001b[0;31m:\u001b[0m invalid syntax. Perhaps you forgot a comma?\n"
     ]
    }
   ],
   "source": [
    "print(hello world)"
   ]
  },
  {
   "cell_type": "code",
   "execution_count": 3,
   "id": "f19ba947",
   "metadata": {},
   "outputs": [
    {
     "name": "stdout",
     "output_type": "stream",
     "text": [
      "hello world!\n"
     ]
    }
   ],
   "source": [
    "print(\"hello world!\")"
   ]
  },
  {
   "cell_type": "markdown",
   "id": "1714af42",
   "metadata": {},
   "source": [
    "## Variables"
   ]
  },
  {
   "cell_type": "code",
   "execution_count": 4,
   "id": "500926ce",
   "metadata": {},
   "outputs": [],
   "source": [
    "greeting = \"hello world\""
   ]
  },
  {
   "cell_type": "code",
   "execution_count": 5,
   "id": "34a9154c",
   "metadata": {},
   "outputs": [
    {
     "name": "stdout",
     "output_type": "stream",
     "text": [
      "hello world\n"
     ]
    }
   ],
   "source": [
    "print(greeting)"
   ]
  },
  {
   "cell_type": "code",
   "execution_count": 6,
   "id": "104dc4f3",
   "metadata": {},
   "outputs": [
    {
     "ename": "NameError",
     "evalue": "name 'greting' is not defined",
     "output_type": "error",
     "traceback": [
      "\u001b[0;31m---------------------------------------------------------------------------\u001b[0m",
      "\u001b[0;31mNameError\u001b[0m                                 Traceback (most recent call last)",
      "Cell \u001b[0;32mIn[6], line 1\u001b[0m\n\u001b[0;32m----> 1\u001b[0m \u001b[38;5;28mprint\u001b[39m(greting)\n",
      "\u001b[0;31mNameError\u001b[0m: name 'greting' is not defined"
     ]
    }
   ],
   "source": [
    "print(greting)"
   ]
  },
  {
   "cell_type": "code",
   "execution_count": 7,
   "id": "bec1ebc9",
   "metadata": {},
   "outputs": [],
   "source": [
    "greeting = \"goodbye world\""
   ]
  },
  {
   "cell_type": "code",
   "execution_count": 8,
   "id": "8b684c5f",
   "metadata": {},
   "outputs": [
    {
     "name": "stdout",
     "output_type": "stream",
     "text": [
      "goodbye world\n"
     ]
    }
   ],
   "source": [
    "print(greeting)"
   ]
  },
  {
   "cell_type": "markdown",
   "id": "355f7386",
   "metadata": {},
   "source": [
    "## String"
   ]
  },
  {
   "cell_type": "code",
   "execution_count": 9,
   "id": "16b62e12",
   "metadata": {},
   "outputs": [
    {
     "name": "stdout",
     "output_type": "stream",
     "text": [
      "This is a string.\n"
     ]
    }
   ],
   "source": [
    "example_1 = \"This is a string.\"\n",
    "print(example_1)"
   ]
  },
  {
   "cell_type": "code",
   "execution_count": 10,
   "id": "fcacc6fa",
   "metadata": {},
   "outputs": [
    {
     "name": "stdout",
     "output_type": "stream",
     "text": [
      "This is also a string.\n"
     ]
    }
   ],
   "source": [
    "example_2 = 'This is also a string.'\n",
    "print(example_2)"
   ]
  },
  {
   "cell_type": "code",
   "execution_count": 11,
   "id": "5413f75b",
   "metadata": {},
   "outputs": [
    {
     "ename": "SyntaxError",
     "evalue": "invalid syntax (1110010307.py, line 1)",
     "output_type": "error",
     "traceback": [
      "\u001b[0;36m  Cell \u001b[0;32mIn[11], line 1\u001b[0;36m\u001b[0m\n\u001b[0;31m    example_3 = \"I asked the question, \"When should I use double quotes?\"\"\u001b[0m\n\u001b[0m                                        ^\u001b[0m\n\u001b[0;31mSyntaxError\u001b[0m\u001b[0;31m:\u001b[0m invalid syntax\n"
     ]
    }
   ],
   "source": [
    "example_3 = \"I asked the question, \"When should I use double quotes?\"\"\n",
    "print(example_3)"
   ]
  },
  {
   "cell_type": "code",
   "execution_count": 12,
   "id": "b3c5eca3",
   "metadata": {},
   "outputs": [
    {
     "name": "stdout",
     "output_type": "stream",
     "text": [
      "I asked the question, 'When should I use double quotes?'\n"
     ]
    }
   ],
   "source": [
    "example_4 = \"I asked the question, 'When should I use double quotes?'\"\n",
    "print(example_4)"
   ]
  },
  {
   "cell_type": "code",
   "execution_count": 13,
   "id": "f4652fed",
   "metadata": {},
   "outputs": [],
   "source": [
    "historian = \"edward gibbon\""
   ]
  },
  {
   "cell_type": "code",
   "execution_count": 14,
   "id": "f44103a7",
   "metadata": {},
   "outputs": [
    {
     "name": "stdout",
     "output_type": "stream",
     "text": [
      "edward gibbon\n"
     ]
    }
   ],
   "source": [
    "print(historian)"
   ]
  },
  {
   "cell_type": "code",
   "execution_count": 15,
   "id": "34f941f2",
   "metadata": {},
   "outputs": [
    {
     "name": "stdout",
     "output_type": "stream",
     "text": [
      "Edward Gibbon\n"
     ]
    }
   ],
   "source": [
    "print(historian.title())"
   ]
  },
  {
   "cell_type": "code",
   "execution_count": 16,
   "id": "bf4460dd",
   "metadata": {},
   "outputs": [],
   "source": [
    "novelist = \"Becky Chambers\""
   ]
  },
  {
   "cell_type": "code",
   "execution_count": 17,
   "id": "287bd7cb",
   "metadata": {},
   "outputs": [
    {
     "name": "stdout",
     "output_type": "stream",
     "text": [
      "Becky Chambers\n",
      "BECKY CHAMBERS\n",
      "becky chambers\n"
     ]
    }
   ],
   "source": [
    "print(novelist)\n",
    "print(novelist.upper())\n",
    "print(novelist.lower())"
   ]
  },
  {
   "cell_type": "code",
   "execution_count": null,
   "id": "41e14fd6",
   "metadata": {},
   "outputs": [],
   "source": []
  }
 ],
 "metadata": {
  "kernelspec": {
   "display_name": "Python 3 (ipykernel)",
   "language": "python",
   "name": "python3"
  },
  "language_info": {
   "codemirror_mode": {
    "name": "ipython",
    "version": 3
   },
   "file_extension": ".py",
   "mimetype": "text/x-python",
   "name": "python",
   "nbconvert_exporter": "python",
   "pygments_lexer": "ipython3",
   "version": "3.11.4"
  }
 },
 "nbformat": 4,
 "nbformat_minor": 5
}
