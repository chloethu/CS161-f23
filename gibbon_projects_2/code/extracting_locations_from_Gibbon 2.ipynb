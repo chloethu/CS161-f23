{
 "cells": [
  {
   "cell_type": "markdown",
   "metadata": {
    "id": "X5z4dLpxV1RR"
   },
   "source": [
    "# Extracting location names and data from Gibbon\n",
    "\n",
    "In this note book we will put together and practice a lot of skills we have learned so far this term. Starting with just the raw text files from Gibbon's Decline and Fall we will create a DataFrame containing location names, location counts, and location data.\n",
    "\n",
    "The code in this notebook may seem complex, but if you read through it carefully, you will likely understand what most of the code is doing.\n"
   ]
  },
  {
   "cell_type": "markdown",
   "metadata": {
    "id": "ePnMpLjAW7Is"
   },
   "source": [
    "## Set-up"
   ]
  },
  {
   "cell_type": "code",
   "execution_count": null,
   "metadata": {
    "id": "bb1Ifmxs1P7z",
    "scrolled": true
   },
   "outputs": [],
   "source": [
    "# install necessary libraries. The \"%%capture\" stops the notebook from printing\n",
    "# out all the install output. Remove if you need to trouble shoot.\n",
    "!pip install stanza"
   ]
  },
  {
   "cell_type": "code",
   "execution_count": null,
   "metadata": {
    "id": "f32agA_TLXZ1"
   },
   "outputs": [],
   "source": [
    "# install necessary libraries. The \"%%capture\" stops the notebook from printing\n",
    "# out all the insall output. Remove if you need to trouble shoot.\n",
    "\n",
    "!pip install wget"
   ]
  },
  {
   "cell_type": "code",
   "execution_count": 3,
   "metadata": {
    "id": "2OMgFur_1HV9"
   },
   "outputs": [],
   "source": [
    "# import necessary libraries\n",
    "import os\n",
    "import pandas as pd\n",
    "import stanza\n",
    "import json\n",
    "import wget\n",
    "\n"
   ]
  },
  {
   "cell_type": "markdown",
   "metadata": {
    "id": "V4sDsirAU1RO"
   },
   "source": [
    "## NLP pipeline\n",
    "Now that all the necessary libraries have been installed and imported into our project, we need to set up our nlp pipeline. We will use [Stanza](https://stanfordnlp.github.io/stanza/)."
   ]
  },
  {
   "cell_type": "code",
   "execution_count": 4,
   "metadata": {
    "id": "ZtcNgrIo11p7",
    "scrolled": false
   },
   "outputs": [
    {
     "name": "stderr",
     "output_type": "stream",
     "text": [
      "2023-11-03 14:27:38 INFO: Checking for updates to resources.json in case models have been updated.  Note: this behavior can be turned off with download_method=None or download_method=DownloadMethod.REUSE_RESOURCES\n"
     ]
    },
    {
     "data": {
      "application/vnd.jupyter.widget-view+json": {
       "model_id": "7da289924d12498190b0b2072c9e269b",
       "version_major": 2,
       "version_minor": 0
      },
      "text/plain": [
       "Downloading https://raw.githubusercontent.com/stanfordnlp/stanza-resources/main/resources_1.6.0.json:   0%|   …"
      ]
     },
     "metadata": {},
     "output_type": "display_data"
    },
    {
     "name": "stderr",
     "output_type": "stream",
     "text": [
      "2023-11-03 14:27:39 INFO: Loading these models for language: en (English):\n",
      "================================\n",
      "| Processor | Package          |\n",
      "--------------------------------\n",
      "| tokenize  | combined         |\n",
      "| ner       | ontonotes_charlm |\n",
      "================================\n",
      "\n",
      "2023-11-03 14:27:39 INFO: Using device: cpu\n",
      "2023-11-03 14:27:39 INFO: Loading: tokenize\n",
      "2023-11-03 14:27:39 INFO: Loading: ner\n",
      "2023-11-03 14:27:40 INFO: Done loading processors!\n"
     ]
    }
   ],
   "source": [
    "# load stanza nlp pipeline that tokenizes and performs Named Entity Recognition\n",
    "nlp_ner= stanza.Pipeline(lang='en', processors='tokenize, ner')"
   ]
  },
  {
   "cell_type": "markdown",
   "metadata": {
    "id": "3RuRpqCrUkfV"
   },
   "source": [
    "## Load text data\n",
    "If you are using a **Colab Notebook** you will need to run the cell below to get the text files.\n",
    "\n",
    "Otherwise, you should have all of the text files for Gibbon's _Decline and Fall of the Roman Empire_ already downloaded from Canvas."
   ]
  },
  {
   "cell_type": "code",
   "execution_count": 5,
   "metadata": {
    "id": "f_cJWBpn1NbP"
   },
   "outputs": [
    {
     "name": "stdout",
     "output_type": "stream",
     "text": [
      "Cloning into 'Gibbon_text'...\n",
      "remote: Enumerating objects: 74, done.\u001b[K\n",
      "remote: Counting objects: 100% (3/3), done.\u001b[K\n",
      "remote: Compressing objects: 100% (3/3), done.\u001b[K\n",
      "remote: Total 74 (delta 0), reused 0 (delta 0), pack-reused 71\u001b[K\n",
      "Receiving objects: 100% (74/74), 4.20 MiB | 7.71 MiB/s, done.\n"
     ]
    }
   ],
   "source": [
    "# load text files, Colab only\n",
    "! git clone https://github.com/jdeen33/Gibbon_text.git"
   ]
  },
  {
   "cell_type": "markdown",
   "metadata": {
    "id": "asRByu0XYpxM"
   },
   "source": [
    "## Extract location infromation from text file(s)"
   ]
  },
  {
   "cell_type": "code",
   "execution_count": 6,
   "metadata": {
    "id": "-mG-vRFd2INL"
   },
   "outputs": [],
   "source": [
    "# create function that will take a text string as input and return a dictionary\n",
    "# with locations and location counts from the text string\n",
    "def get_locations_from_text(text):\n",
    "    locations_dict = {}\n",
    "    doc = nlp_ner(text)\n",
    "    for sentence in doc.sentences:\n",
    "        for token in sentence.tokens:\n",
    "            if token.ner == 'S-GPE':\n",
    "                if not token.text in locations_dict.keys():\n",
    "                    locations_dict[token.text] = 1\n",
    "                else:\n",
    "                    locations_dict[token.text] += 1\n",
    "            else:\n",
    "                continue\n",
    "    return locations_dict"
   ]
  },
  {
   "cell_type": "markdown",
   "metadata": {
    "id": "CLuZZ8pQWhzZ"
   },
   "source": [
    "You will need to choose which chapter you would like to extract locations from. For this example I will use Chapter 16.\n",
    "\n",
    "For **Colab** it will look something like this:\n",
    "`/content/Gibbon_text/gibbon_decline_volume1_chap16.txt`\n",
    "\n",
    "For **Jupyter** it will look something like this:\n",
    "`../text/gibbon_decline_and_fall/gibbon_decline_volume1_chap16.txt`"
   ]
  },
  {
   "cell_type": "code",
   "execution_count": 7,
   "metadata": {
    "id": "I8UTBqCo1ZfE"
   },
   "outputs": [],
   "source": [
    "# identify the path to the text file you want to use\n",
    "path_to_file = \"../text/gibbon_decline_and_fall/gibbon_decline_volume1_chap16.txt\"\n",
    "# <-- Insert path to chosen file"
   ]
  },
  {
   "cell_type": "code",
   "execution_count": 8,
   "metadata": {
    "id": "48J1k2Y41qFf"
   },
   "outputs": [],
   "source": [
    "# read text from text file\n",
    "with open(path_to_file, encoding='utf-8', mode='r') as f:\n",
    "       text  = f.read()"
   ]
  },
  {
   "cell_type": "code",
   "execution_count": 9,
   "metadata": {
    "id": "zNQh8jQt5a0y"
   },
   "outputs": [],
   "source": [
    "# apply function to get locations and location counts\n",
    "# this will take a few minutes\n",
    "locations = get_locations_from_text(text)"
   ]
  },
  {
   "cell_type": "code",
   "execution_count": 10,
   "metadata": {
    "id": "XZ4QZ9hYCMtp"
   },
   "outputs": [
    {
     "data": {
      "text/plain": [
       "{'Jerusalem': 5,\n",
       " 'Rome': 59,\n",
       " 'Egypt': 10,\n",
       " 'Cyprus': 1,\n",
       " 'Cyrene': 1,\n",
       " 'Israel': 2,\n",
       " 'Italy': 23,\n",
       " 'Tiberias': 1,\n",
       " 'Syria': 9,\n",
       " 'Athens': 3,\n",
       " 'Carthage': 25,\n",
       " 'Greece': 3,\n",
       " 'Nazareth': 1,\n",
       " 'Providence': 1,\n",
       " 'Palestine': 11,\n",
       " 'Galilee': 2,\n",
       " 'Germany': 2,\n",
       " 'Nerva': 2,\n",
       " 'Cocaba': 2,\n",
       " 'Campania': 2,\n",
       " 'Alexandria': 2,\n",
       " 'Curubis': 2,\n",
       " 'Zeugitana': 2,\n",
       " 'Antioch': 12,\n",
       " 'Gallienus': 2,\n",
       " 'Odenathus': 2,\n",
       " 'Constantius': 2,\n",
       " 'Tingi': 2,\n",
       " 'Mauritania': 2,\n",
       " 'Nicomedia': 14,\n",
       " 'Lucania': 2,\n",
       " 'Phrygia': 2,\n",
       " 'Armenia': 2,\n",
       " 'Britain': 2,\n",
       " 'Spain': 4,\n",
       " 'Maxentius': 4,\n",
       " 'Tarsus': 2,\n",
       " 'Cilicia': 2,\n",
       " 'Illyricum': 4,\n",
       " 'Tyre': 4,\n",
       " 'Netherlands': 2}"
      ]
     },
     "execution_count": 10,
     "metadata": {},
     "output_type": "execute_result"
    }
   ],
   "source": [
    "# sanity check\n",
    "locations"
   ]
  },
  {
   "cell_type": "code",
   "execution_count": 11,
   "metadata": {
    "id": "WgiG4AhrYc4r"
   },
   "outputs": [],
   "source": [
    "# you may want to save the locations dictionary\n",
    "path = '../data' # <-- Path of your choosing\n",
    "file_name = 'locations_data.json'\n",
    "with open(file_name, encoding='utf-8', mode='w') as f:\n",
    "    json.dump(locations, f)"
   ]
  },
  {
   "cell_type": "code",
   "execution_count": 12,
   "metadata": {
    "id": "6EbPGEP7-iCU"
   },
   "outputs": [],
   "source": [
    "# convert dictionary to dataframe for easier processing\n",
    "location_count_df = pd.DataFrame.from_dict(locations, orient='index').reset_index().rename(columns={'index':'place_name', 0:'count'})\n"
   ]
  },
  {
   "cell_type": "code",
   "execution_count": 13,
   "metadata": {
    "id": "6o6gwxI-Kqe-"
   },
   "outputs": [
    {
     "data": {
      "text/html": [
       "<div>\n",
       "<style scoped>\n",
       "    .dataframe tbody tr th:only-of-type {\n",
       "        vertical-align: middle;\n",
       "    }\n",
       "\n",
       "    .dataframe tbody tr th {\n",
       "        vertical-align: top;\n",
       "    }\n",
       "\n",
       "    .dataframe thead th {\n",
       "        text-align: right;\n",
       "    }\n",
       "</style>\n",
       "<table border=\"1\" class=\"dataframe\">\n",
       "  <thead>\n",
       "    <tr style=\"text-align: right;\">\n",
       "      <th></th>\n",
       "      <th>place_name</th>\n",
       "      <th>count</th>\n",
       "    </tr>\n",
       "  </thead>\n",
       "  <tbody>\n",
       "    <tr>\n",
       "      <th>0</th>\n",
       "      <td>Jerusalem</td>\n",
       "      <td>5</td>\n",
       "    </tr>\n",
       "    <tr>\n",
       "      <th>1</th>\n",
       "      <td>Rome</td>\n",
       "      <td>59</td>\n",
       "    </tr>\n",
       "    <tr>\n",
       "      <th>2</th>\n",
       "      <td>Egypt</td>\n",
       "      <td>10</td>\n",
       "    </tr>\n",
       "    <tr>\n",
       "      <th>3</th>\n",
       "      <td>Cyprus</td>\n",
       "      <td>1</td>\n",
       "    </tr>\n",
       "    <tr>\n",
       "      <th>4</th>\n",
       "      <td>Cyrene</td>\n",
       "      <td>1</td>\n",
       "    </tr>\n",
       "  </tbody>\n",
       "</table>\n",
       "</div>"
      ],
      "text/plain": [
       "  place_name  count\n",
       "0  Jerusalem      5\n",
       "1       Rome     59\n",
       "2      Egypt     10\n",
       "3     Cyprus      1\n",
       "4     Cyrene      1"
      ]
     },
     "execution_count": 13,
     "metadata": {},
     "output_type": "execute_result"
    }
   ],
   "source": [
    "# preview DataFrame\n",
    "location_count_df.head()"
   ]
  },
  {
   "cell_type": "markdown",
   "metadata": {
    "id": "u4eApj2FY5Bh"
   },
   "source": [
    "## Load data from Pleiades"
   ]
  },
  {
   "cell_type": "code",
   "execution_count": 14,
   "metadata": {
    "id": "IZgTGV3n_Wds"
   },
   "outputs": [],
   "source": [
    "# data from Pleiades, thanks to Peter Nadel!\n",
    "if not os.path.isfile('places.csv'):  # checkin to see if we have this file or not\n",
    "    wget.download('https://raw.githubusercontent.com/pnadelofficial/FallDHCourseMaterials/main/places.csv')\n",
    "if not os.path.isfile('names.csv'):\n",
    "    wget.download('https://raw.githubusercontent.com/pnadelofficial/FallDHCourseMaterials/main/names.csv')"
   ]
  },
  {
   "cell_type": "code",
   "execution_count": 15,
   "metadata": {
    "id": "CDkKvWOmLwYB",
    "scrolled": true
   },
   "outputs": [
    {
     "data": {
      "text/html": [
       "<div>\n",
       "<style scoped>\n",
       "    .dataframe tbody tr th:only-of-type {\n",
       "        vertical-align: middle;\n",
       "    }\n",
       "\n",
       "    .dataframe tbody tr th {\n",
       "        vertical-align: top;\n",
       "    }\n",
       "\n",
       "    .dataframe thead th {\n",
       "        text-align: right;\n",
       "    }\n",
       "</style>\n",
       "<table border=\"1\" class=\"dataframe\">\n",
       "  <thead>\n",
       "    <tr style=\"text-align: right;\">\n",
       "      <th></th>\n",
       "      <th>created</th>\n",
       "      <th>description</th>\n",
       "      <th>details</th>\n",
       "      <th>provenance</th>\n",
       "      <th>title</th>\n",
       "      <th>uri</th>\n",
       "      <th>id</th>\n",
       "      <th>representative_latitude</th>\n",
       "      <th>representative_longitude</th>\n",
       "      <th>bounding_box_wkt</th>\n",
       "    </tr>\n",
       "  </thead>\n",
       "  <tbody>\n",
       "    <tr>\n",
       "      <th>0</th>\n",
       "      <td>2010-06-24T14:11:06Z</td>\n",
       "      <td>The ancient region known to the Romans as \"Gal...</td>\n",
       "      <td>&lt;p&gt;The Barrington Atlas Directory notes: FRA&lt;/p&gt;</td>\n",
       "      <td>Barrington Atlas: BAtlas 1 D1 Gallia</td>\n",
       "      <td>Gallia</td>\n",
       "      <td>https://pleiades.stoa.org/places/993</td>\n",
       "      <td>993</td>\n",
       "      <td>46.705437</td>\n",
       "      <td>1.013706</td>\n",
       "      <td>POLYGON ((8.672222 42.4395125, 8.672222 51.981...</td>\n",
       "    </tr>\n",
       "    <tr>\n",
       "      <th>1</th>\n",
       "      <td>2020-01-10T20:52:00Z</td>\n",
       "      <td>A Roman house in Pompeii (I, 6, 15), also know...</td>\n",
       "      <td>&lt;p&gt;The house was excavated in 1913 and 1914. T...</td>\n",
       "      <td>Pleiades</td>\n",
       "      <td>House of the Ceii</td>\n",
       "      <td>https://pleiades.stoa.org/places/999909607</td>\n",
       "      <td>999909607</td>\n",
       "      <td>40.750010</td>\n",
       "      <td>14.489506</td>\n",
       "      <td>POLYGON ((14.4895058 40.7500099, 14.4895058 40...</td>\n",
       "    </tr>\n",
       "    <tr>\n",
       "      <th>2</th>\n",
       "      <td>2015-05-28T11:48:45Z</td>\n",
       "      <td>The so-called \"House of the Lararium of Achill...</td>\n",
       "      <td>NaN</td>\n",
       "      <td>Pleiades</td>\n",
       "      <td>House of the Lararium of Achilles</td>\n",
       "      <td>https://pleiades.stoa.org/places/999909608</td>\n",
       "      <td>999909608</td>\n",
       "      <td>40.750362</td>\n",
       "      <td>14.489286</td>\n",
       "      <td>POLYGON ((14.489286 40.750362, 14.489286 40.75...</td>\n",
       "    </tr>\n",
       "    <tr>\n",
       "      <th>3</th>\n",
       "      <td>2020-03-20T15:26:53Z</td>\n",
       "      <td>A necropolis with inhumations dating to the fi...</td>\n",
       "      <td>&lt;p&gt;A necropolis located close to Monte Bibele ...</td>\n",
       "      <td>Pleiades</td>\n",
       "      <td>Monte Tamburino necropolis</td>\n",
       "      <td>https://pleiades.stoa.org/places/999917206</td>\n",
       "      <td>999917206</td>\n",
       "      <td>44.272322</td>\n",
       "      <td>11.375880</td>\n",
       "      <td>POLYGON ((11.3758803 44.2723222, 11.3758803 44...</td>\n",
       "    </tr>\n",
       "    <tr>\n",
       "      <th>4</th>\n",
       "      <td>2018-05-30T03:08:22Z</td>\n",
       "      <td>The megalithic defensive circuit of Rusellae d...</td>\n",
       "      <td>NaN</td>\n",
       "      <td>Pleiades</td>\n",
       "      <td>Circuit wall of Rusellae</td>\n",
       "      <td>https://pleiades.stoa.org/places/999951524</td>\n",
       "      <td>999951524</td>\n",
       "      <td>42.829089</td>\n",
       "      <td>11.163588</td>\n",
       "      <td>POLYGON ((11.1635884 42.8290888, 11.1635884 42...</td>\n",
       "    </tr>\n",
       "  </tbody>\n",
       "</table>\n",
       "</div>"
      ],
      "text/plain": [
       "                created                                        description  \\\n",
       "0  2010-06-24T14:11:06Z  The ancient region known to the Romans as \"Gal...   \n",
       "1  2020-01-10T20:52:00Z  A Roman house in Pompeii (I, 6, 15), also know...   \n",
       "2  2015-05-28T11:48:45Z  The so-called \"House of the Lararium of Achill...   \n",
       "3  2020-03-20T15:26:53Z  A necropolis with inhumations dating to the fi...   \n",
       "4  2018-05-30T03:08:22Z  The megalithic defensive circuit of Rusellae d...   \n",
       "\n",
       "                                             details  \\\n",
       "0   <p>The Barrington Atlas Directory notes: FRA</p>   \n",
       "1  <p>The house was excavated in 1913 and 1914. T...   \n",
       "2                                                NaN   \n",
       "3  <p>A necropolis located close to Monte Bibele ...   \n",
       "4                                                NaN   \n",
       "\n",
       "                             provenance                              title  \\\n",
       "0  Barrington Atlas: BAtlas 1 D1 Gallia                             Gallia   \n",
       "1                              Pleiades                  House of the Ceii   \n",
       "2                              Pleiades  House of the Lararium of Achilles   \n",
       "3                              Pleiades         Monte Tamburino necropolis   \n",
       "4                              Pleiades           Circuit wall of Rusellae   \n",
       "\n",
       "                                          uri         id  \\\n",
       "0        https://pleiades.stoa.org/places/993        993   \n",
       "1  https://pleiades.stoa.org/places/999909607  999909607   \n",
       "2  https://pleiades.stoa.org/places/999909608  999909608   \n",
       "3  https://pleiades.stoa.org/places/999917206  999917206   \n",
       "4  https://pleiades.stoa.org/places/999951524  999951524   \n",
       "\n",
       "   representative_latitude  representative_longitude  \\\n",
       "0                46.705437                  1.013706   \n",
       "1                40.750010                 14.489506   \n",
       "2                40.750362                 14.489286   \n",
       "3                44.272322                 11.375880   \n",
       "4                42.829089                 11.163588   \n",
       "\n",
       "                                    bounding_box_wkt  \n",
       "0  POLYGON ((8.672222 42.4395125, 8.672222 51.981...  \n",
       "1  POLYGON ((14.4895058 40.7500099, 14.4895058 40...  \n",
       "2  POLYGON ((14.489286 40.750362, 14.489286 40.75...  \n",
       "3  POLYGON ((11.3758803 44.2723222, 11.3758803 44...  \n",
       "4  POLYGON ((11.1635884 42.8290888, 11.1635884 42...  "
      ]
     },
     "execution_count": 15,
     "metadata": {},
     "output_type": "execute_result"
    }
   ],
   "source": [
    "# load and preview places DataFrame\n",
    "places_df = pd.read_csv('places.csv')\n",
    "places_df.head()"
   ]
  },
  {
   "cell_type": "code",
   "execution_count": 16,
   "metadata": {
    "id": "OUfxtGYVL7WQ"
   },
   "outputs": [
    {
     "data": {
      "text/html": [
       "<div>\n",
       "<style scoped>\n",
       "    .dataframe tbody tr th:only-of-type {\n",
       "        vertical-align: middle;\n",
       "    }\n",
       "\n",
       "    .dataframe tbody tr th {\n",
       "        vertical-align: top;\n",
       "    }\n",
       "\n",
       "    .dataframe thead th {\n",
       "        text-align: right;\n",
       "    }\n",
       "</style>\n",
       "<table border=\"1\" class=\"dataframe\">\n",
       "  <thead>\n",
       "    <tr style=\"text-align: right;\">\n",
       "      <th></th>\n",
       "      <th>created</th>\n",
       "      <th>description</th>\n",
       "      <th>details</th>\n",
       "      <th>provenance</th>\n",
       "      <th>title</th>\n",
       "      <th>uri</th>\n",
       "      <th>id</th>\n",
       "      <th>place_id</th>\n",
       "      <th>name_type</th>\n",
       "      <th>language_tag</th>\n",
       "      <th>attested_form</th>\n",
       "      <th>romanized_form_1</th>\n",
       "      <th>romanized_form_2</th>\n",
       "      <th>romanized_form_3</th>\n",
       "      <th>association_certainty</th>\n",
       "      <th>transcription_accuracy</th>\n",
       "      <th>transcription_completeness</th>\n",
       "      <th>year_after_which</th>\n",
       "      <th>year_before_which</th>\n",
       "    </tr>\n",
       "  </thead>\n",
       "  <tbody>\n",
       "    <tr>\n",
       "      <th>0</th>\n",
       "      <td>2010-06-24T14:11:06Z</td>\n",
       "      <td>NaN</td>\n",
       "      <td>NaN</td>\n",
       "      <td>Barrington Atlas: BAtlas 1 D1 Gallia</td>\n",
       "      <td>Gallia</td>\n",
       "      <td>https://pleiades.stoa.org/places/993/gallia</td>\n",
       "      <td>gallia</td>\n",
       "      <td>993</td>\n",
       "      <td>geographic</td>\n",
       "      <td>NaN</td>\n",
       "      <td>NaN</td>\n",
       "      <td>Gallia</td>\n",
       "      <td>NaN</td>\n",
       "      <td>NaN</td>\n",
       "      <td>certain</td>\n",
       "      <td>accurate</td>\n",
       "      <td>complete</td>\n",
       "      <td>NaN</td>\n",
       "      <td>NaN</td>\n",
       "    </tr>\n",
       "    <tr>\n",
       "      <th>1</th>\n",
       "      <td>2010-06-24T14:11:07Z</td>\n",
       "      <td>NaN</td>\n",
       "      <td>NaN</td>\n",
       "      <td>Barrington Atlas: BAtlas 1 D1 Gallia</td>\n",
       "      <td>Galli</td>\n",
       "      <td>https://pleiades.stoa.org/places/993/galli</td>\n",
       "      <td>galli</td>\n",
       "      <td>993</td>\n",
       "      <td>geographic</td>\n",
       "      <td>NaN</td>\n",
       "      <td>NaN</td>\n",
       "      <td>Galli</td>\n",
       "      <td>NaN</td>\n",
       "      <td>NaN</td>\n",
       "      <td>certain</td>\n",
       "      <td>accurate</td>\n",
       "      <td>complete</td>\n",
       "      <td>NaN</td>\n",
       "      <td>NaN</td>\n",
       "    </tr>\n",
       "    <tr>\n",
       "      <th>2</th>\n",
       "      <td>2015-06-23T17:19:22Z</td>\n",
       "      <td>NaN</td>\n",
       "      <td>NaN</td>\n",
       "      <td>Pleiades</td>\n",
       "      <td>House of the Ceii</td>\n",
       "      <td>https://pleiades.stoa.org/places/999909607/nam...</td>\n",
       "      <td>name.2015-06-23.9071239510</td>\n",
       "      <td>999909607</td>\n",
       "      <td>geographic</td>\n",
       "      <td>en</td>\n",
       "      <td>House of the Ceii</td>\n",
       "      <td>House of the Ceii</td>\n",
       "      <td>NaN</td>\n",
       "      <td>NaN</td>\n",
       "      <td>certain</td>\n",
       "      <td>accurate</td>\n",
       "      <td>complete</td>\n",
       "      <td>1700.0</td>\n",
       "      <td>2100.0</td>\n",
       "    </tr>\n",
       "    <tr>\n",
       "      <th>3</th>\n",
       "      <td>2017-06-26T23:54:15Z</td>\n",
       "      <td>NaN</td>\n",
       "      <td>NaN</td>\n",
       "      <td>Pleiades</td>\n",
       "      <td>Casa dei Ceii</td>\n",
       "      <td>https://pleiades.stoa.org/places/999909607/nam...</td>\n",
       "      <td>name.2017-06-26.2201864114</td>\n",
       "      <td>999909607</td>\n",
       "      <td>geographic</td>\n",
       "      <td>it</td>\n",
       "      <td>Casa dei Ceii</td>\n",
       "      <td>Casa dei Ceii</td>\n",
       "      <td>NaN</td>\n",
       "      <td>NaN</td>\n",
       "      <td>certain</td>\n",
       "      <td>accurate</td>\n",
       "      <td>complete</td>\n",
       "      <td>1700.0</td>\n",
       "      <td>2100.0</td>\n",
       "    </tr>\n",
       "    <tr>\n",
       "      <th>4</th>\n",
       "      <td>2020-12-26T17:59:50Z</td>\n",
       "      <td>NaN</td>\n",
       "      <td>NaN</td>\n",
       "      <td>Pleiades</td>\n",
       "      <td>House of L. Ceius Secundus</td>\n",
       "      <td>https://pleiades.stoa.org/places/999909607/hou...</td>\n",
       "      <td>house-of-l-ceius-secundus</td>\n",
       "      <td>999909607</td>\n",
       "      <td>geographic</td>\n",
       "      <td>en</td>\n",
       "      <td>House of L. Ceius Secundus</td>\n",
       "      <td>House of L. Ceius Secundus</td>\n",
       "      <td>NaN</td>\n",
       "      <td>NaN</td>\n",
       "      <td>certain</td>\n",
       "      <td>accurate</td>\n",
       "      <td>complete</td>\n",
       "      <td>NaN</td>\n",
       "      <td>NaN</td>\n",
       "    </tr>\n",
       "  </tbody>\n",
       "</table>\n",
       "</div>"
      ],
      "text/plain": [
       "                created description details  \\\n",
       "0  2010-06-24T14:11:06Z         NaN     NaN   \n",
       "1  2010-06-24T14:11:07Z         NaN     NaN   \n",
       "2  2015-06-23T17:19:22Z         NaN     NaN   \n",
       "3  2017-06-26T23:54:15Z         NaN     NaN   \n",
       "4  2020-12-26T17:59:50Z         NaN     NaN   \n",
       "\n",
       "                             provenance                       title  \\\n",
       "0  Barrington Atlas: BAtlas 1 D1 Gallia                      Gallia   \n",
       "1  Barrington Atlas: BAtlas 1 D1 Gallia                       Galli   \n",
       "2                              Pleiades           House of the Ceii   \n",
       "3                              Pleiades               Casa dei Ceii   \n",
       "4                              Pleiades  House of L. Ceius Secundus   \n",
       "\n",
       "                                                 uri  \\\n",
       "0        https://pleiades.stoa.org/places/993/gallia   \n",
       "1         https://pleiades.stoa.org/places/993/galli   \n",
       "2  https://pleiades.stoa.org/places/999909607/nam...   \n",
       "3  https://pleiades.stoa.org/places/999909607/nam...   \n",
       "4  https://pleiades.stoa.org/places/999909607/hou...   \n",
       "\n",
       "                           id   place_id   name_type language_tag  \\\n",
       "0                      gallia        993  geographic          NaN   \n",
       "1                       galli        993  geographic          NaN   \n",
       "2  name.2015-06-23.9071239510  999909607  geographic           en   \n",
       "3  name.2017-06-26.2201864114  999909607  geographic           it   \n",
       "4   house-of-l-ceius-secundus  999909607  geographic           en   \n",
       "\n",
       "                attested_form            romanized_form_1 romanized_form_2  \\\n",
       "0                         NaN                      Gallia              NaN   \n",
       "1                         NaN                       Galli              NaN   \n",
       "2           House of the Ceii           House of the Ceii              NaN   \n",
       "3               Casa dei Ceii               Casa dei Ceii              NaN   \n",
       "4  House of L. Ceius Secundus  House of L. Ceius Secundus              NaN   \n",
       "\n",
       "  romanized_form_3 association_certainty transcription_accuracy  \\\n",
       "0              NaN               certain               accurate   \n",
       "1              NaN               certain               accurate   \n",
       "2              NaN               certain               accurate   \n",
       "3              NaN               certain               accurate   \n",
       "4              NaN               certain               accurate   \n",
       "\n",
       "  transcription_completeness  year_after_which  year_before_which  \n",
       "0                   complete               NaN                NaN  \n",
       "1                   complete               NaN                NaN  \n",
       "2                   complete            1700.0             2100.0  \n",
       "3                   complete            1700.0             2100.0  \n",
       "4                   complete               NaN                NaN  "
      ]
     },
     "execution_count": 16,
     "metadata": {},
     "output_type": "execute_result"
    }
   ],
   "source": [
    "# load and preview names DataFrame\n",
    "names_df = pd.read_csv('names.csv')\n",
    "names_df.head()"
   ]
  },
  {
   "cell_type": "code",
   "execution_count": 17,
   "metadata": {
    "id": "GBd8KpGkMJJa"
   },
   "outputs": [
    {
     "data": {
      "text/html": [
       "<div>\n",
       "<style scoped>\n",
       "    .dataframe tbody tr th:only-of-type {\n",
       "        vertical-align: middle;\n",
       "    }\n",
       "\n",
       "    .dataframe tbody tr th {\n",
       "        vertical-align: top;\n",
       "    }\n",
       "\n",
       "    .dataframe thead th {\n",
       "        text-align: right;\n",
       "    }\n",
       "</style>\n",
       "<table border=\"1\" class=\"dataframe\">\n",
       "  <thead>\n",
       "    <tr style=\"text-align: right;\">\n",
       "      <th></th>\n",
       "      <th>created</th>\n",
       "      <th>description</th>\n",
       "      <th>details</th>\n",
       "      <th>provenance</th>\n",
       "      <th>title</th>\n",
       "      <th>uri</th>\n",
       "      <th>id</th>\n",
       "      <th>representative_latitude</th>\n",
       "      <th>representative_longitude</th>\n",
       "      <th>bounding_box_wkt</th>\n",
       "    </tr>\n",
       "  </thead>\n",
       "  <tbody>\n",
       "    <tr>\n",
       "      <th>21483</th>\n",
       "      <td>2018-06-07T19:48:13Z</td>\n",
       "      <td>The capital of the Roman Republic and Empire.</td>\n",
       "      <td>&lt;p&gt;The Barrington Atlas Directory notes: Roma/...</td>\n",
       "      <td>Barrington Atlas: BAtlas 43 B2 Roma</td>\n",
       "      <td>Roma</td>\n",
       "      <td>https://pleiades.stoa.org/places/423025</td>\n",
       "      <td>423025</td>\n",
       "      <td>41.891775</td>\n",
       "      <td>12.486137</td>\n",
       "      <td>POLYGON ((12.486137 41.891775, 12.486137 41.89...</td>\n",
       "    </tr>\n",
       "  </tbody>\n",
       "</table>\n",
       "</div>"
      ],
      "text/plain": [
       "                    created                                    description  \\\n",
       "21483  2018-06-07T19:48:13Z  The capital of the Roman Republic and Empire.   \n",
       "\n",
       "                                                 details  \\\n",
       "21483  <p>The Barrington Atlas Directory notes: Roma/...   \n",
       "\n",
       "                                provenance title  \\\n",
       "21483  Barrington Atlas: BAtlas 43 B2 Roma  Roma   \n",
       "\n",
       "                                           uri      id  \\\n",
       "21483  https://pleiades.stoa.org/places/423025  423025   \n",
       "\n",
       "       representative_latitude  representative_longitude  \\\n",
       "21483                41.891775                 12.486137   \n",
       "\n",
       "                                        bounding_box_wkt  \n",
       "21483  POLYGON ((12.486137 41.891775, 12.486137 41.89...  "
      ]
     },
     "execution_count": 17,
     "metadata": {},
     "output_type": "execute_result"
    }
   ],
   "source": [
    "# quick example: find 'Roma' in places DataFrame\n",
    "places_df.loc[places_df['title'] == 'Roma']"
   ]
  },
  {
   "cell_type": "code",
   "execution_count": 18,
   "metadata": {
    "id": "5sZJttfMMddx",
    "scrolled": true
   },
   "outputs": [
    {
     "data": {
      "text/html": [
       "<div>\n",
       "<style scoped>\n",
       "    .dataframe tbody tr th:only-of-type {\n",
       "        vertical-align: middle;\n",
       "    }\n",
       "\n",
       "    .dataframe tbody tr th {\n",
       "        vertical-align: top;\n",
       "    }\n",
       "\n",
       "    .dataframe thead th {\n",
       "        text-align: right;\n",
       "    }\n",
       "</style>\n",
       "<table border=\"1\" class=\"dataframe\">\n",
       "  <thead>\n",
       "    <tr style=\"text-align: right;\">\n",
       "      <th></th>\n",
       "      <th>created</th>\n",
       "      <th>description</th>\n",
       "      <th>details</th>\n",
       "      <th>provenance</th>\n",
       "      <th>title</th>\n",
       "      <th>uri</th>\n",
       "      <th>id</th>\n",
       "      <th>place_id</th>\n",
       "      <th>name_type</th>\n",
       "      <th>language_tag</th>\n",
       "      <th>attested_form</th>\n",
       "      <th>romanized_form_1</th>\n",
       "      <th>romanized_form_2</th>\n",
       "      <th>romanized_form_3</th>\n",
       "      <th>association_certainty</th>\n",
       "      <th>transcription_accuracy</th>\n",
       "      <th>transcription_completeness</th>\n",
       "      <th>year_after_which</th>\n",
       "      <th>year_before_which</th>\n",
       "    </tr>\n",
       "  </thead>\n",
       "  <tbody>\n",
       "    <tr>\n",
       "      <th>20810</th>\n",
       "      <td>2012-02-04T23:39:48Z</td>\n",
       "      <td>The modern English appellation</td>\n",
       "      <td>NaN</td>\n",
       "      <td>Barrington Atlas: BAtlas 43 B2 Roma</td>\n",
       "      <td>Rome</td>\n",
       "      <td>https://pleiades.stoa.org/places/423025/rome</td>\n",
       "      <td>rome</td>\n",
       "      <td>423025</td>\n",
       "      <td>geographic</td>\n",
       "      <td>en</td>\n",
       "      <td>Rome</td>\n",
       "      <td>Rome</td>\n",
       "      <td>NaN</td>\n",
       "      <td>NaN</td>\n",
       "      <td>certain</td>\n",
       "      <td>accurate</td>\n",
       "      <td>complete</td>\n",
       "      <td>1700.0</td>\n",
       "      <td>2100.0</td>\n",
       "    </tr>\n",
       "  </tbody>\n",
       "</table>\n",
       "</div>"
      ],
      "text/plain": [
       "                    created                     description details  \\\n",
       "20810  2012-02-04T23:39:48Z  The modern English appellation     NaN   \n",
       "\n",
       "                                provenance title  \\\n",
       "20810  Barrington Atlas: BAtlas 43 B2 Roma  Rome   \n",
       "\n",
       "                                                uri    id  place_id  \\\n",
       "20810  https://pleiades.stoa.org/places/423025/rome  rome    423025   \n",
       "\n",
       "        name_type language_tag attested_form romanized_form_1  \\\n",
       "20810  geographic           en          Rome             Rome   \n",
       "\n",
       "      romanized_form_2 romanized_form_3 association_certainty  \\\n",
       "20810              NaN              NaN               certain   \n",
       "\n",
       "      transcription_accuracy transcription_completeness  year_after_which  \\\n",
       "20810               accurate                   complete            1700.0   \n",
       "\n",
       "       year_before_which  \n",
       "20810             2100.0  "
      ]
     },
     "execution_count": 18,
     "metadata": {},
     "output_type": "execute_result"
    }
   ],
   "source": [
    "# quick example: find 'Rome' in names DataFrame\n",
    "names_df.loc[names_df['romanized_form_1'] == 'Rome']"
   ]
  },
  {
   "cell_type": "markdown",
   "metadata": {
    "id": "xNRABy-1cQeD"
   },
   "source": [
    "## Extract data from Pleiades data\n",
    "For each location in we identified from the text, we will extract extract the longitude, latitude, and a description. First we need to find each location in the Pleiades data."
   ]
  },
  {
   "cell_type": "code",
   "execution_count": 19,
   "metadata": {
    "id": "liMoqMCrMuj0"
   },
   "outputs": [],
   "source": [
    "def get_pleiades_id(location):\n",
    "    \"\"\"\n",
    "    Iterates through all of the possible names in the names.csv file\n",
    "    Returns None if no matched names\n",
    "    \"\"\"\n",
    "    name_row = names_df.loc[names_df['attested_form'] == location]\n",
    "    if len(name_row) == 1:\n",
    "        return int(name_row.place_id.iloc[0])\n",
    "    else:\n",
    "        name_row = names_df.loc[names_df['romanized_form_1'] == location]\n",
    "        if len(name_row) == 1:\n",
    "            return int(name_row.place_id.iloc[0])\n",
    "        else:\n",
    "            name_row = names_df.loc[names_df['romanized_form_2'] == location]\n",
    "            if len(name_row) == 1:\n",
    "                return int(name_row.place_id.iloc[0])\n",
    "            else:\n",
    "                name_row = names_df.loc[names_df['romanized_form_3'] == location]\n",
    "                if len(name_row) == 1:\n",
    "                    return int(name_row.place_id.iloc[0])\n",
    "                else:\n",
    "                    return None"
   ]
  },
  {
   "cell_type": "code",
   "execution_count": 20,
   "metadata": {
    "id": "p7Myaj-ANa1K"
   },
   "outputs": [],
   "source": [
    "# apply the above founction to each row in our location count DataFrame and then\n",
    "# add a new colum with the Pleiades id\n",
    "location_count_df['pleiades_id'] = location_count_df['place_name'].apply(get_pleiades_id)"
   ]
  },
  {
   "cell_type": "code",
   "execution_count": 21,
   "metadata": {
    "id": "ot1yzqFXN15c"
   },
   "outputs": [
    {
     "data": {
      "text/html": [
       "<div>\n",
       "<style scoped>\n",
       "    .dataframe tbody tr th:only-of-type {\n",
       "        vertical-align: middle;\n",
       "    }\n",
       "\n",
       "    .dataframe tbody tr th {\n",
       "        vertical-align: top;\n",
       "    }\n",
       "\n",
       "    .dataframe thead th {\n",
       "        text-align: right;\n",
       "    }\n",
       "</style>\n",
       "<table border=\"1\" class=\"dataframe\">\n",
       "  <thead>\n",
       "    <tr style=\"text-align: right;\">\n",
       "      <th></th>\n",
       "      <th>place_name</th>\n",
       "      <th>count</th>\n",
       "      <th>pleiades_id</th>\n",
       "    </tr>\n",
       "  </thead>\n",
       "  <tbody>\n",
       "    <tr>\n",
       "      <th>0</th>\n",
       "      <td>Jerusalem</td>\n",
       "      <td>5</td>\n",
       "      <td>NaN</td>\n",
       "    </tr>\n",
       "    <tr>\n",
       "      <th>1</th>\n",
       "      <td>Rome</td>\n",
       "      <td>59</td>\n",
       "      <td>423025.0</td>\n",
       "    </tr>\n",
       "    <tr>\n",
       "      <th>2</th>\n",
       "      <td>Egypt</td>\n",
       "      <td>10</td>\n",
       "      <td>NaN</td>\n",
       "    </tr>\n",
       "    <tr>\n",
       "      <th>3</th>\n",
       "      <td>Cyprus</td>\n",
       "      <td>1</td>\n",
       "      <td>707498.0</td>\n",
       "    </tr>\n",
       "    <tr>\n",
       "      <th>4</th>\n",
       "      <td>Cyrene</td>\n",
       "      <td>1</td>\n",
       "      <td>NaN</td>\n",
       "    </tr>\n",
       "  </tbody>\n",
       "</table>\n",
       "</div>"
      ],
      "text/plain": [
       "  place_name  count  pleiades_id\n",
       "0  Jerusalem      5          NaN\n",
       "1       Rome     59     423025.0\n",
       "2      Egypt     10          NaN\n",
       "3     Cyprus      1     707498.0\n",
       "4     Cyrene      1          NaN"
      ]
     },
     "execution_count": 21,
     "metadata": {},
     "output_type": "execute_result"
    }
   ],
   "source": [
    "# preview new location count DataFrame.\n",
    "# the NaN means we were unable to find the location in the Pleiades data.\n",
    "location_count_df.head()"
   ]
  },
  {
   "cell_type": "code",
   "execution_count": 22,
   "metadata": {
    "id": "HRvsWJAmN6H8"
   },
   "outputs": [],
   "source": [
    "# we can drop the rows with NaN values\n",
    "location_count_df = location_count_df.dropna().reset_index(drop=True)"
   ]
  },
  {
   "cell_type": "code",
   "execution_count": 23,
   "metadata": {
    "id": "Cw5FlATnO2VS"
   },
   "outputs": [
    {
     "data": {
      "text/html": [
       "<div>\n",
       "<style scoped>\n",
       "    .dataframe tbody tr th:only-of-type {\n",
       "        vertical-align: middle;\n",
       "    }\n",
       "\n",
       "    .dataframe tbody tr th {\n",
       "        vertical-align: top;\n",
       "    }\n",
       "\n",
       "    .dataframe thead th {\n",
       "        text-align: right;\n",
       "    }\n",
       "</style>\n",
       "<table border=\"1\" class=\"dataframe\">\n",
       "  <thead>\n",
       "    <tr style=\"text-align: right;\">\n",
       "      <th></th>\n",
       "      <th>place_name</th>\n",
       "      <th>count</th>\n",
       "      <th>pleiades_id</th>\n",
       "    </tr>\n",
       "  </thead>\n",
       "  <tbody>\n",
       "    <tr>\n",
       "      <th>0</th>\n",
       "      <td>Rome</td>\n",
       "      <td>59</td>\n",
       "      <td>423025.0</td>\n",
       "    </tr>\n",
       "    <tr>\n",
       "      <th>1</th>\n",
       "      <td>Cyprus</td>\n",
       "      <td>1</td>\n",
       "      <td>707498.0</td>\n",
       "    </tr>\n",
       "    <tr>\n",
       "      <th>2</th>\n",
       "      <td>Athens</td>\n",
       "      <td>3</td>\n",
       "      <td>579885.0</td>\n",
       "    </tr>\n",
       "    <tr>\n",
       "      <th>3</th>\n",
       "      <td>Carthage</td>\n",
       "      <td>25</td>\n",
       "      <td>314921.0</td>\n",
       "    </tr>\n",
       "    <tr>\n",
       "      <th>4</th>\n",
       "      <td>Nazareth</td>\n",
       "      <td>1</td>\n",
       "      <td>678299.0</td>\n",
       "    </tr>\n",
       "  </tbody>\n",
       "</table>\n",
       "</div>"
      ],
      "text/plain": [
       "  place_name  count  pleiades_id\n",
       "0       Rome     59     423025.0\n",
       "1     Cyprus      1     707498.0\n",
       "2     Athens      3     579885.0\n",
       "3   Carthage     25     314921.0\n",
       "4   Nazareth      1     678299.0"
      ]
     },
     "execution_count": 23,
     "metadata": {},
     "output_type": "execute_result"
    }
   ],
   "source": [
    "# preview updated location count DataFrame\n",
    "location_count_df.head()"
   ]
  },
  {
   "cell_type": "markdown",
   "metadata": {
    "id": "I_HTV57PcuZz"
   },
   "source": [
    "Now that we have a `pleiades_id` for each location from names.csv, we can use that information to get more data from the places.csv. It would be possible to combine the functions below into one, but I have seperated them out for clarity."
   ]
  },
  {
   "cell_type": "code",
   "execution_count": 24,
   "metadata": {
    "id": "Bxf8pDtjgYHY"
   },
   "outputs": [],
   "source": [
    "def get_description(pleiades_id):\n",
    "    \"\"\"return description from a pleiades id\"\"\"\n",
    "    places_row = places_df.loc[places_df['id'] == pleiades_id]\n",
    "    if len(places_row) == 1:\n",
    "        return places_row.description.iloc[0]"
   ]
  },
  {
   "cell_type": "code",
   "execution_count": 25,
   "metadata": {
    "id": "m0oV9bldghzs"
   },
   "outputs": [],
   "source": [
    "def get_uri(pleiades_id):\n",
    "    \"\"\"return uri from a pleiades id\"\"\"\n",
    "    places_row = places_df.loc[places_df['id'] == pleiades_id]\n",
    "    if len(places_row) == 1:\n",
    "        return places_row.uri.iloc[0]"
   ]
  },
  {
   "cell_type": "code",
   "execution_count": 26,
   "metadata": {
    "id": "kMyIbdJEO5es"
   },
   "outputs": [],
   "source": [
    "def get_latitude(pleiades_id):\n",
    "    \"\"\"return latitude from a pleiades id\"\"\"\n",
    "    places_row = places_df.loc[places_df['id'] == pleiades_id]\n",
    "    if len(places_row) == 1:\n",
    "        return places_row.representative_latitude.iloc[0]"
   ]
  },
  {
   "cell_type": "code",
   "execution_count": 27,
   "metadata": {
    "id": "85k0-1CJP9Et"
   },
   "outputs": [],
   "source": [
    "# Challenge: Can you write a function to get the longitude data?\n",
    "def get_longitude(pleiades_id):\n",
    "    \"\"\"return longitude from a pleiades id\"\"\"\n",
    "    places_row = places_df.loc[places_df['id'] == pleiades_id]\n",
    "    if len(places_row) == 1:\n",
    "        return places_row.representative_longitude.iloc[0]\n"
   ]
  },
  {
   "cell_type": "code",
   "execution_count": 28,
   "metadata": {
    "id": "BzV32_kjhA73"
   },
   "outputs": [],
   "source": [
    "# add new column for description\n",
    "location_count_df['description'] = location_count_df['pleiades_id'].apply(get_description)"
   ]
  },
  {
   "cell_type": "code",
   "execution_count": 29,
   "metadata": {
    "id": "nnxXBkIDhRCQ"
   },
   "outputs": [],
   "source": [
    "# Challenge: can you write the code to add a colmn for the uri?\n",
    "location_count_df['uri'] = location_count_df['pleiades_id'].apply(get_uri)"
   ]
  },
  {
   "cell_type": "code",
   "execution_count": 30,
   "metadata": {
    "id": "6QxWuRo3QaV9"
   },
   "outputs": [],
   "source": [
    "# add new column for latitude\n",
    "location_count_df['latitude'] = location_count_df['pleiades_id'].apply(get_latitude)"
   ]
  },
  {
   "cell_type": "code",
   "execution_count": 31,
   "metadata": {
    "id": "Ado4zh2qQkm0"
   },
   "outputs": [],
   "source": [
    "# Challenge: can you write the code to add a colmn for the longitude?\n",
    "location_count_df['longitude'] = location_count_df['pleiades_id'].apply(get_longitude)"
   ]
  },
  {
   "cell_type": "markdown",
   "metadata": {
    "id": "2523qXQRiDMV"
   },
   "source": [
    "Now that we have all the data we need, I am going to make a few little changes to the DataFrame."
   ]
  },
  {
   "cell_type": "code",
   "execution_count": 32,
   "metadata": {
    "id": "2w0BBrQLiLCy"
   },
   "outputs": [],
   "source": [
    "# now that we have a uri we don't need the pleiades_id\n",
    "location_count_df = location_count_df.drop(columns=['pleiades_id'])"
   ]
  },
  {
   "cell_type": "code",
   "execution_count": 33,
   "metadata": {
    "id": "oAcuS3FJhzgO"
   },
   "outputs": [],
   "source": [
    "# for our purposes we don't really need an index, so I will make the place_name column the index\n",
    "location_count_df.set_index('place_name', inplace=True)"
   ]
  },
  {
   "cell_type": "code",
   "execution_count": 34,
   "metadata": {
    "id": "sv3-iw1ummBm"
   },
   "outputs": [
    {
     "data": {
      "text/html": [
       "<div>\n",
       "<style scoped>\n",
       "    .dataframe tbody tr th:only-of-type {\n",
       "        vertical-align: middle;\n",
       "    }\n",
       "\n",
       "    .dataframe tbody tr th {\n",
       "        vertical-align: top;\n",
       "    }\n",
       "\n",
       "    .dataframe thead th {\n",
       "        text-align: right;\n",
       "    }\n",
       "</style>\n",
       "<table border=\"1\" class=\"dataframe\">\n",
       "  <thead>\n",
       "    <tr style=\"text-align: right;\">\n",
       "      <th></th>\n",
       "      <th>count</th>\n",
       "      <th>description</th>\n",
       "      <th>uri</th>\n",
       "      <th>latitude</th>\n",
       "      <th>longitude</th>\n",
       "    </tr>\n",
       "    <tr>\n",
       "      <th>place_name</th>\n",
       "      <th></th>\n",
       "      <th></th>\n",
       "      <th></th>\n",
       "      <th></th>\n",
       "      <th></th>\n",
       "    </tr>\n",
       "  </thead>\n",
       "  <tbody>\n",
       "    <tr>\n",
       "      <th>Rome</th>\n",
       "      <td>59</td>\n",
       "      <td>The capital of the Roman Republic and Empire.</td>\n",
       "      <td>https://pleiades.stoa.org/places/423025</td>\n",
       "      <td>41.891775</td>\n",
       "      <td>12.486137</td>\n",
       "    </tr>\n",
       "    <tr>\n",
       "      <th>Cyprus</th>\n",
       "      <td>1</td>\n",
       "      <td>Third largest island in the Mediterranean Sea.</td>\n",
       "      <td>https://pleiades.stoa.org/places/707498</td>\n",
       "      <td>35.032266</td>\n",
       "      <td>33.257783</td>\n",
       "    </tr>\n",
       "    <tr>\n",
       "      <th>Athens</th>\n",
       "      <td>3</td>\n",
       "      <td>A major Greek city-state and the principal cit...</td>\n",
       "      <td>https://pleiades.stoa.org/places/579885</td>\n",
       "      <td>37.972634</td>\n",
       "      <td>23.722746</td>\n",
       "    </tr>\n",
       "    <tr>\n",
       "      <th>Carthage</th>\n",
       "      <td>25</td>\n",
       "      <td>The ancient city of Carthage, located in moder...</td>\n",
       "      <td>https://pleiades.stoa.org/places/314921</td>\n",
       "      <td>36.850032</td>\n",
       "      <td>10.318000</td>\n",
       "    </tr>\n",
       "    <tr>\n",
       "      <th>Nazareth</th>\n",
       "      <td>1</td>\n",
       "      <td>An ancient place, cited: BAtlas 69 B4 Nazareth</td>\n",
       "      <td>https://pleiades.stoa.org/places/678299</td>\n",
       "      <td>32.701029</td>\n",
       "      <td>35.300148</td>\n",
       "    </tr>\n",
       "    <tr>\n",
       "      <th>Curubis</th>\n",
       "      <td>2</td>\n",
       "      <td>An ancient place, cited: BAtlas 32 G3 Curubis</td>\n",
       "      <td>https://pleiades.stoa.org/places/314943</td>\n",
       "      <td>36.575649</td>\n",
       "      <td>10.862461</td>\n",
       "    </tr>\n",
       "    <tr>\n",
       "      <th>Zeugitana</th>\n",
       "      <td>2</td>\n",
       "      <td>Zeugitana is the name given to the northern po...</td>\n",
       "      <td>https://pleiades.stoa.org/places/315268</td>\n",
       "      <td>37.250000</td>\n",
       "      <td>9.250000</td>\n",
       "    </tr>\n",
       "    <tr>\n",
       "      <th>Tingi</th>\n",
       "      <td>2</td>\n",
       "      <td>Tingi (modern Tangier) began as a Carthaginian...</td>\n",
       "      <td>https://pleiades.stoa.org/places/275736</td>\n",
       "      <td>35.787546</td>\n",
       "      <td>-5.810233</td>\n",
       "    </tr>\n",
       "    <tr>\n",
       "      <th>Nicomedia</th>\n",
       "      <td>14</td>\n",
       "      <td>Nicomedia was founded in 712/11 BC as a Megari...</td>\n",
       "      <td>https://pleiades.stoa.org/places/511337</td>\n",
       "      <td>40.765191</td>\n",
       "      <td>29.919887</td>\n",
       "    </tr>\n",
       "    <tr>\n",
       "      <th>Lucania</th>\n",
       "      <td>2</td>\n",
       "      <td>An ancient region of south Italy stretching fr...</td>\n",
       "      <td>https://pleiades.stoa.org/places/442639</td>\n",
       "      <td>39.885000</td>\n",
       "      <td>17.276944</td>\n",
       "    </tr>\n",
       "    <tr>\n",
       "      <th>Cilicia</th>\n",
       "      <td>2</td>\n",
       "      <td>An ancient region, stretching along the southe...</td>\n",
       "      <td>https://pleiades.stoa.org/places/658440</td>\n",
       "      <td>36.250000</td>\n",
       "      <td>33.250000</td>\n",
       "    </tr>\n",
       "    <tr>\n",
       "      <th>Illyricum</th>\n",
       "      <td>4</td>\n",
       "      <td>Illyricum was a Roman province that existed fr...</td>\n",
       "      <td>https://pleiades.stoa.org/places/481865</td>\n",
       "      <td>42.427292</td>\n",
       "      <td>17.965028</td>\n",
       "    </tr>\n",
       "  </tbody>\n",
       "</table>\n",
       "</div>"
      ],
      "text/plain": [
       "            count                                        description  \\\n",
       "place_name                                                             \n",
       "Rome           59      The capital of the Roman Republic and Empire.   \n",
       "Cyprus          1     Third largest island in the Mediterranean Sea.   \n",
       "Athens          3  A major Greek city-state and the principal cit...   \n",
       "Carthage       25  The ancient city of Carthage, located in moder...   \n",
       "Nazareth        1     An ancient place, cited: BAtlas 69 B4 Nazareth   \n",
       "Curubis         2      An ancient place, cited: BAtlas 32 G3 Curubis   \n",
       "Zeugitana       2  Zeugitana is the name given to the northern po...   \n",
       "Tingi           2  Tingi (modern Tangier) began as a Carthaginian...   \n",
       "Nicomedia      14  Nicomedia was founded in 712/11 BC as a Megari...   \n",
       "Lucania         2  An ancient region of south Italy stretching fr...   \n",
       "Cilicia         2  An ancient region, stretching along the southe...   \n",
       "Illyricum       4  Illyricum was a Roman province that existed fr...   \n",
       "\n",
       "                                                uri   latitude  longitude  \n",
       "place_name                                                                 \n",
       "Rome        https://pleiades.stoa.org/places/423025  41.891775  12.486137  \n",
       "Cyprus      https://pleiades.stoa.org/places/707498  35.032266  33.257783  \n",
       "Athens      https://pleiades.stoa.org/places/579885  37.972634  23.722746  \n",
       "Carthage    https://pleiades.stoa.org/places/314921  36.850032  10.318000  \n",
       "Nazareth    https://pleiades.stoa.org/places/678299  32.701029  35.300148  \n",
       "Curubis     https://pleiades.stoa.org/places/314943  36.575649  10.862461  \n",
       "Zeugitana   https://pleiades.stoa.org/places/315268  37.250000   9.250000  \n",
       "Tingi       https://pleiades.stoa.org/places/275736  35.787546  -5.810233  \n",
       "Nicomedia   https://pleiades.stoa.org/places/511337  40.765191  29.919887  \n",
       "Lucania     https://pleiades.stoa.org/places/442639  39.885000  17.276944  \n",
       "Cilicia     https://pleiades.stoa.org/places/658440  36.250000  33.250000  \n",
       "Illyricum   https://pleiades.stoa.org/places/481865  42.427292  17.965028  "
      ]
     },
     "execution_count": 34,
     "metadata": {},
     "output_type": "execute_result"
    }
   ],
   "source": [
    "# final sanity check\n",
    "location_count_df"
   ]
  },
  {
   "cell_type": "markdown",
   "metadata": {
    "id": "scDoF2Ducjjd"
   },
   "source": [
    "## Save location data for further use"
   ]
  },
  {
   "cell_type": "code",
   "execution_count": 35,
   "metadata": {
    "id": "nnACM1L7QyEa"
   },
   "outputs": [],
   "source": [
    "# create path and file name variables\n",
    "path = \"../data\"# <-- set path variable (not necessary for Colab)\n",
    "file_name = \"gibbon-16-loc.csv\"# <-- set file_name variable"
   ]
  },
  {
   "cell_type": "code",
   "execution_count": 36,
   "metadata": {
    "id": "Uq8zPWQ8RKEf"
   },
   "outputs": [],
   "source": [
    "# save DataFrame to a .csv file\n",
    "location_count_df.to_csv(file_name) # <-- For Jupyter you may want to add path"
   ]
  },
  {
   "cell_type": "code",
   "execution_count": 37,
   "metadata": {
    "id": "O8fjepPdRR07"
   },
   "outputs": [
    {
     "ename": "NameError",
     "evalue": "name 'files' is not defined",
     "output_type": "error",
     "traceback": [
      "\u001b[0;31m---------------------------------------------------------------------------\u001b[0m",
      "\u001b[0;31mNameError\u001b[0m                                 Traceback (most recent call last)",
      "Cell \u001b[0;32mIn[37], line 2\u001b[0m\n\u001b[1;32m      1\u001b[0m \u001b[38;5;66;03m# Colab only\u001b[39;00m\n\u001b[0;32m----> 2\u001b[0m files\u001b[38;5;241m.\u001b[39mdownload(file_name)\n",
      "\u001b[0;31mNameError\u001b[0m: name 'files' is not defined"
     ]
    }
   ],
   "source": [
    "# Colab only\n",
    "files.download(file_name)"
   ]
  }
 ],
 "metadata": {
  "colab": {
   "provenance": []
  },
  "kernelspec": {
   "display_name": "Python 3 (ipykernel)",
   "language": "python",
   "name": "python3"
  },
  "language_info": {
   "codemirror_mode": {
    "name": "ipython",
    "version": 3
   },
   "file_extension": ".py",
   "mimetype": "text/x-python",
   "name": "python",
   "nbconvert_exporter": "python",
   "pygments_lexer": "ipython3",
   "version": "3.11.4"
  }
 },
 "nbformat": 4,
 "nbformat_minor": 1
}
