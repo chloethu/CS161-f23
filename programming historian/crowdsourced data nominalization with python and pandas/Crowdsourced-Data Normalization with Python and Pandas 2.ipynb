{
 "cells": [
  {
   "cell_type": "code",
   "execution_count": 1,
   "id": "f1acb500",
   "metadata": {},
   "outputs": [
    {
     "name": "stdout",
     "output_type": "stream",
     "text": [
      "Requirement already satisfied: pandas in /Users/chloethurmgreene/miniconda3/envs/bokeh-env/lib/python3.11/site-packages (2.1.2)\n",
      "Requirement already satisfied: numpy<2,>=1.23.2 in /Users/chloethurmgreene/miniconda3/envs/bokeh-env/lib/python3.11/site-packages (from pandas) (1.26.1)\n",
      "Requirement already satisfied: python-dateutil>=2.8.2 in /Users/chloethurmgreene/miniconda3/envs/bokeh-env/lib/python3.11/site-packages (from pandas) (2.8.2)\n",
      "Requirement already satisfied: pytz>=2020.1 in /Users/chloethurmgreene/miniconda3/envs/bokeh-env/lib/python3.11/site-packages (from pandas) (2023.3.post1)\n",
      "Requirement already satisfied: tzdata>=2022.1 in /Users/chloethurmgreene/miniconda3/envs/bokeh-env/lib/python3.11/site-packages (from pandas) (2023.3)\n",
      "Requirement already satisfied: six>=1.5 in /Users/chloethurmgreene/miniconda3/envs/bokeh-env/lib/python3.11/site-packages (from python-dateutil>=2.8.2->pandas) (1.16.0)\n"
     ]
    }
   ],
   "source": [
    "! pip install --upgrade pandas"
   ]
  },
  {
   "cell_type": "code",
   "execution_count": 2,
   "id": "1174adee",
   "metadata": {},
   "outputs": [],
   "source": [
    "import pandas as pd"
   ]
  },
  {
   "cell_type": "code",
   "execution_count": 3,
   "id": "4a20769c",
   "metadata": {},
   "outputs": [],
   "source": [
    "df = pd.read_csv(\"Menu.csv\")"
   ]
  },
  {
   "cell_type": "code",
   "execution_count": 4,
   "id": "c47bced6",
   "metadata": {},
   "outputs": [
    {
     "name": "stdout",
     "output_type": "stream",
     "text": [
      "      id name                     sponsor                 event       venue  \\\n",
      "0  12463  NaN               HOTEL EASTMAN             BREAKFAST  COMMERCIAL   \n",
      "1  12464  NaN            REPUBLICAN HOUSE              [DINNER]  COMMERCIAL   \n",
      "2  12465  NaN  NORDDEUTSCHER LLOYD BREMEN  FRUHSTUCK/BREAKFAST;  COMMERCIAL   \n",
      "3  12466  NaN  NORDDEUTSCHER LLOYD BREMEN                LUNCH;  COMMERCIAL   \n",
      "4  12467  NaN  NORDDEUTSCHER LLOYD BREMEN               DINNER;  COMMERCIAL   \n",
      "\n",
      "                                place         physical_description occasion  \\\n",
      "0                     HOT SPRINGS, AR              CARD; 4.75X7.5;  EASTER;   \n",
      "1                    MILWAUKEE, [WI];   CARD; ILLUS; COL; 7.0X9.0;  EASTER;   \n",
      "2  DAMPFER KAISER WILHELM DER GROSSE;    CARD; ILLU; COL; 5.5X8.0;      NaN   \n",
      "3  DAMPFER KAISER WILHELM DER GROSSE;    CARD; ILLU; COL; 5.5X8.0;      NaN   \n",
      "4  DAMPFER KAISER WILHELM DER GROSSE;  FOLDER; ILLU; COL; 5.5X7.5;      NaN   \n",
      "\n",
      "                                               notes call_number  keywords  \\\n",
      "0                                                NaN   1900-2822       NaN   \n",
      "1  WEDGEWOOD BLUE CARD; WHITE EMBOSSED GREEK KEY ...   1900-2825       NaN   \n",
      "2  MENU IN GERMAN AND ENGLISH; ILLUS, STEAMSHIP A...   1900-2827       NaN   \n",
      "3  MENU IN GERMAN AND ENGLISH; ILLUS, HARBOR SCEN...   1900-2828       NaN   \n",
      "4  MENU IN GERMAN AND ENGLISH; ILLUS, HARBOR SCEN...   1900-2829       NaN   \n",
      "\n",
      "   language       date                    location  location_type currency  \\\n",
      "0       NaN  4/15/1900               Hotel Eastman            NaN      NaN   \n",
      "1       NaN  4/15/1900            Republican House            NaN      NaN   \n",
      "2       NaN  4/16/1900  Norddeutscher Lloyd Bremen            NaN      NaN   \n",
      "3       NaN  4/16/1900  Norddeutscher Lloyd Bremen            NaN      NaN   \n",
      "4       NaN  4/16/1900  Norddeutscher Lloyd Bremen            NaN      NaN   \n",
      "\n",
      "  currency_symbol    status  page_count  dish_count  \n",
      "0             NaN  complete           2          67  \n",
      "1             NaN  complete           2          34  \n",
      "2             NaN  complete           2          84  \n",
      "3             NaN  complete           2          63  \n",
      "4             NaN  complete           4          33  \n"
     ]
    }
   ],
   "source": [
    "print(df.head())"
   ]
  },
  {
   "cell_type": "code",
   "execution_count": 5,
   "id": "d3026c9a",
   "metadata": {},
   "outputs": [
    {
     "name": "stdout",
     "output_type": "stream",
     "text": [
      "Index(['id', 'name', 'sponsor', 'event', 'venue', 'place',\n",
      "       'physical_description', 'occasion', 'notes', 'call_number', 'keywords',\n",
      "       'language', 'date', 'location', 'location_type', 'currency',\n",
      "       'currency_symbol', 'status', 'page_count', 'dish_count'],\n",
      "      dtype='object')\n"
     ]
    }
   ],
   "source": [
    "print(df.columns)"
   ]
  },
  {
   "cell_type": "code",
   "execution_count": 6,
   "id": "33051d95",
   "metadata": {},
   "outputs": [],
   "source": [
    "dropped_columns=['notes', 'call_number', 'currency', 'currency_symbol', 'physical_description', 'status']\n",
    "df.drop(dropped_columns, inplace=True, axis=1)"
   ]
  },
  {
   "cell_type": "code",
   "execution_count": 7,
   "id": "1caaa6f4",
   "metadata": {},
   "outputs": [
    {
     "name": "stdout",
     "output_type": "stream",
     "text": [
      "(17546, 14)\n"
     ]
    }
   ],
   "source": [
    "print(df.shape)"
   ]
  },
  {
   "cell_type": "code",
   "execution_count": 8,
   "id": "a520782f",
   "metadata": {},
   "outputs": [
    {
     "name": "stdout",
     "output_type": "stream",
     "text": [
      "          id name        sponsor      event       venue            place  \\\n",
      "0      12463  NaN  HOTEL EASTMAN  BREAKFAST  COMMERCIAL  HOT SPRINGS, AR   \n",
      "17545  12463  NaN  HOTEL EASTMAN  BREAKFAST  COMMERCIAL  HOT SPRINGS, AR   \n",
      "\n",
      "      occasion  keywords  language       date       location  location_type  \\\n",
      "0      EASTER;       NaN       NaN  4/15/1900  Hotel Eastman            NaN   \n",
      "17545  EASTER;       NaN       NaN  4/15/1900  Hotel Eastman            NaN   \n",
      "\n",
      "       page_count  dish_count  \n",
      "0               2          67  \n",
      "17545           2          67  \n"
     ]
    }
   ],
   "source": [
    "print(df[df.duplicated(keep=False)])"
   ]
  },
  {
   "cell_type": "code",
   "execution_count": 9,
   "id": "0efa1643",
   "metadata": {},
   "outputs": [],
   "source": [
    "df.drop_duplicates(inplace=True)"
   ]
  },
  {
   "cell_type": "code",
   "execution_count": 10,
   "id": "4fafb3f3",
   "metadata": {},
   "outputs": [
    {
     "data": {
      "text/plain": [
       "(17545, 14)"
      ]
     },
     "execution_count": 10,
     "metadata": {},
     "output_type": "execute_result"
    }
   ],
   "source": [
    "df.shape"
   ]
  },
  {
   "cell_type": "code",
   "execution_count": 11,
   "id": "0c6e5b87",
   "metadata": {},
   "outputs": [
    {
     "name": "stdout",
     "output_type": "stream",
     "text": [
      "id                   0\n",
      "name             14348\n",
      "sponsor           1561\n",
      "event             9391\n",
      "venue             9426\n",
      "place             9422\n",
      "occasion         13754\n",
      "keywords         17545\n",
      "language         17545\n",
      "date               586\n",
      "location             0\n",
      "location_type    17545\n",
      "page_count           0\n",
      "dish_count           0\n",
      "dtype: int64\n"
     ]
    }
   ],
   "source": [
    "print(df.isnull().sum())"
   ]
  },
  {
   "cell_type": "code",
   "execution_count": 13,
   "id": "d1b07ea8",
   "metadata": {},
   "outputs": [],
   "source": [
    "menu = df.dropna(thresh=df.shape[0]*0.25, axis=1)"
   ]
  },
  {
   "cell_type": "code",
   "execution_count": 14,
   "id": "ec3306df",
   "metadata": {},
   "outputs": [
    {
     "name": "stdout",
     "output_type": "stream",
     "text": [
      "(17545, 9)\n"
     ]
    }
   ],
   "source": [
    "print(menu.shape)"
   ]
  },
  {
   "cell_type": "code",
   "execution_count": 15,
   "id": "e6d84bd3",
   "metadata": {},
   "outputs": [
    {
     "name": "stdout",
     "output_type": "stream",
     "text": [
      "Index(['id', 'sponsor', 'event', 'venue', 'place', 'date', 'location',\n",
      "       'page_count', 'dish_count'],\n",
      "      dtype='object')\n"
     ]
    }
   ],
   "source": [
    "print(menu.columns)"
   ]
  },
  {
   "cell_type": "code",
   "execution_count": 16,
   "id": "84727d36",
   "metadata": {},
   "outputs": [
    {
     "name": "stdout",
     "output_type": "stream",
     "text": [
      "          id                                            sponsor  \\\n",
      "0      12463                                      HOTEL EASTMAN   \n",
      "1      12464                                   REPUBLICAN HOUSE   \n",
      "2      12465                         NORDDEUTSCHER LLOYD BREMEN   \n",
      "3      12466                         NORDDEUTSCHER LLOYD BREMEN   \n",
      "4      12467                         NORDDEUTSCHER LLOYD BREMEN   \n",
      "...      ...                                                ...   \n",
      "10212  27695  CONFRERIE DE LA CHAINE DES ROTISSEURS, NEW ORL...   \n",
      "10213  27696  CONFRERIE DE LA CHAINE DES ROTISSEURS, GEORGIA...   \n",
      "10214  27697                                  FRANKFURTER STUBB   \n",
      "10215  27698                             HOTEL EUROPAISCHER HOF   \n",
      "10216  27699  CONFRERIE DE LA CHAINE DES ROTISSEURS, OKLAHOM...   \n",
      "\n",
      "                                      event                 venue  \\\n",
      "0                                 BREAKFAST            COMMERCIAL   \n",
      "1                                  [DINNER]            COMMERCIAL   \n",
      "2                      FRUHSTUCK/BREAKFAST;            COMMERCIAL   \n",
      "3                                    LUNCH;            COMMERCIAL   \n",
      "4                                   DINNER;            COMMERCIAL   \n",
      "...                                     ...                   ...   \n",
      "10212                                DINNER  OTHER (PRIVATE CLUB)   \n",
      "10213                                DINNER  OTHER (PRIVATE CLUB)   \n",
      "10214                            DAILY MENU            HOTEL; FOR   \n",
      "10215                                DINNER            HOTEL; FOR   \n",
      "10216  INAUGURATION OF THE OKLAHOME CHAPTER  OTHER (PRIVATE CLUB)   \n",
      "\n",
      "                                                   place       date  \\\n",
      "0                                        HOT SPRINGS, AR  4/15/1900   \n",
      "1                                       MILWAUKEE, [WI];  4/15/1900   \n",
      "2                     DAMPFER KAISER WILHELM DER GROSSE;  4/16/1900   \n",
      "3                     DAMPFER KAISER WILHELM DER GROSSE;  4/16/1900   \n",
      "4                     DAMPFER KAISER WILHELM DER GROSSE;  4/16/1900   \n",
      "...                                                  ...        ...   \n",
      "10212                     PLIMSOLL CLUB, NEW ORLEANS, LA  5/13/1968   \n",
      "10213        PIEDMONT DRIVING  CLUB,  [ATLANTA?] GEORGIA  5/18/1968   \n",
      "10214       HOTEL FRANKFURTER, FRANFURT AM MAIN, GERMANY   6/3/1968   \n",
      "10215                                HEIDELBERG, GERMANY  6/26/1968   \n",
      "10216  OKLAHOMA CITY GOLF AND COUNTRY CLUB, OKLAHOMA ...   7/1/1968   \n",
      "\n",
      "                                                location  page_count  \\\n",
      "0                                          Hotel Eastman           2   \n",
      "1                                       Republican House           2   \n",
      "2                             Norddeutscher Lloyd Bremen           2   \n",
      "3                             Norddeutscher Lloyd Bremen           2   \n",
      "4                             Norddeutscher Lloyd Bremen           4   \n",
      "...                                                  ...         ...   \n",
      "10212  Confrerie De La Chaine Des Rotisseurs, New Orl...           5   \n",
      "10213              Confrerie De La Chaine Des Rotisseurs           3   \n",
      "10214              Confrerie De La Chaine Des Rotisseurs           3   \n",
      "10215  Confrerie De La Chaine Des Rotisseurs, New Orl...           1   \n",
      "10216              Confrerie De La Chaine Des Rotisseurs           4   \n",
      "\n",
      "       dish_count  \n",
      "0              67  \n",
      "1              34  \n",
      "2              84  \n",
      "3              63  \n",
      "4              33  \n",
      "...           ...  \n",
      "10212          37  \n",
      "10213          22  \n",
      "10214          34  \n",
      "10215          31  \n",
      "10216          24  \n",
      "\n",
      "[7236 rows x 9 columns]\n"
     ]
    }
   ],
   "source": [
    "dropped_na = menu.dropna()\n",
    "print(dropped_na)"
   ]
  },
  {
   "cell_type": "code",
   "execution_count": 20,
   "id": "6be6b71c",
   "metadata": {},
   "outputs": [],
   "source": [
    "#pd.to_datetime(dropped_na['date'], dayfirst = False, yearfirst = False)"
   ]
  },
  {
   "cell_type": "code",
   "execution_count": 18,
   "id": "cf75cbe5",
   "metadata": {},
   "outputs": [],
   "source": [
    "replaced_dates = dropped_na.replace('1888-01-23', '12-31-2200')"
   ]
  },
  {
   "cell_type": "code",
   "execution_count": 21,
   "id": "7ca7a1e7",
   "metadata": {},
   "outputs": [],
   "source": [
    "replaced_dates.to_csv(\"NYPL_NormalMenus.csv\")"
   ]
  },
  {
   "cell_type": "code",
   "execution_count": null,
   "id": "460336aa",
   "metadata": {},
   "outputs": [],
   "source": []
  }
 ],
 "metadata": {
  "kernelspec": {
   "display_name": "Python 3 (ipykernel)",
   "language": "python",
   "name": "python3"
  },
  "language_info": {
   "codemirror_mode": {
    "name": "ipython",
    "version": 3
   },
   "file_extension": ".py",
   "mimetype": "text/x-python",
   "name": "python",
   "nbconvert_exporter": "python",
   "pygments_lexer": "ipython3",
   "version": "3.11.4"
  }
 },
 "nbformat": 4,
 "nbformat_minor": 5
}
