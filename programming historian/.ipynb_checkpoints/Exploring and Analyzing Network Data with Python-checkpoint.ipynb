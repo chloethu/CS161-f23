{
 "cells": [
  {
   "cell_type": "code",
   "execution_count": 3,
   "id": "6dff47dc",
   "metadata": {},
   "outputs": [],
   "source": [
    "import csv"
   ]
  },
  {
   "cell_type": "code",
   "execution_count": 4,
   "id": "412a27aa",
   "metadata": {},
   "outputs": [],
   "source": [
    "from operator import itemgetter"
   ]
  },
  {
   "cell_type": "code",
   "execution_count": 5,
   "id": "d5c4f211",
   "metadata": {},
   "outputs": [],
   "source": [
    "import networkx as nx"
   ]
  },
  {
   "cell_type": "code",
   "execution_count": 6,
   "id": "cd297c76",
   "metadata": {},
   "outputs": [],
   "source": [
    "from networkx.algorithms import community #This part of networkx, for community detection, needs to be imported separately."
   ]
  },
  {
   "cell_type": "code",
   "execution_count": 7,
   "id": "3c5981e9",
   "metadata": {},
   "outputs": [],
   "source": [
    "with open('quakers_nodelist.csv', 'r') as nodecsv: #Open the file\n",
    "    nodereader = csv.reader(nodecsv) # read the csv\n",
    "    #Retrieve the data\n",
    "    nodes = [n for n in nodereader][1:]\n",
    "    \n",
    "node_names = [n[0] for n in nodes] # get a list of only node names\n",
    "\n",
    "with open('quakers_edgelist.csv', 'r') as edgecsv: # open the file\n",
    "    edgereader = csv.reader(edgecsv) # read the csv\n",
    "    edges =[tuple(e) for e in edgereader][1:] # retrieve the data"
   ]
  },
  {
   "cell_type": "code",
   "execution_count": 8,
   "id": "4cd14925",
   "metadata": {},
   "outputs": [
    {
     "name": "stdout",
     "output_type": "stream",
     "text": [
      "119\n"
     ]
    }
   ],
   "source": [
    "print(len(node_names))"
   ]
  },
  {
   "cell_type": "code",
   "execution_count": 9,
   "id": "15499587",
   "metadata": {},
   "outputs": [
    {
     "name": "stdout",
     "output_type": "stream",
     "text": [
      "174\n"
     ]
    }
   ],
   "source": [
    "print(len(edges))"
   ]
  },
  {
   "cell_type": "code",
   "execution_count": 10,
   "id": "a23bd03d",
   "metadata": {},
   "outputs": [],
   "source": [
    "G = nx.Graph()"
   ]
  },
  {
   "cell_type": "code",
   "execution_count": 11,
   "id": "e2903511",
   "metadata": {},
   "outputs": [],
   "source": [
    "G.add_nodes_from(node_names)\n",
    "G.add_edges_from(edges)"
   ]
  },
  {
   "cell_type": "code",
   "execution_count": 12,
   "id": "8cb567b5",
   "metadata": {},
   "outputs": [
    {
     "name": "stdout",
     "output_type": "stream",
     "text": [
      "Graph with 119 nodes and 174 edges\n"
     ]
    }
   ],
   "source": [
    "print(G)"
   ]
  },
  {
   "cell_type": "code",
   "execution_count": 13,
   "id": "aa17f888",
   "metadata": {},
   "outputs": [],
   "source": [
    "hist_sig_dict = {}\n",
    "gender_dict = {}\n",
    "birth_dict = {}\n",
    "death_dict = {}\n",
    "id_dict = {}"
   ]
  },
  {
   "cell_type": "code",
   "execution_count": 14,
   "id": "183ecc0f",
   "metadata": {},
   "outputs": [],
   "source": [
    "for node in nodes:\n",
    "    hist_sig_dict[node[0]] = node[1]\n",
    "    gender_dict[node[0]] = node[2]\n",
    "    birth_dict[node[0]] = node[3]\n",
    "    death_dict[node[0]] = node[4]\n",
    "    id_dict[node[0]] = node[5]"
   ]
  },
  {
   "cell_type": "code",
   "execution_count": 15,
   "id": "30691abf",
   "metadata": {},
   "outputs": [],
   "source": [
    "nx.set_node_attributes(G, hist_sig_dict, 'historical_significance')\n",
    "nx.set_node_attributes(G, gender_dict, 'gender')\n",
    "nx.set_node_attributes(G, birth_dict, 'birth_year')\n",
    "nx.set_node_attributes(G, death_dict, 'death_year')\n",
    "nx.set_node_attributes(G, id_dict, 'sdfb_id')"
   ]
  },
  {
   "cell_type": "code",
   "execution_count": 16,
   "id": "c9a4db38",
   "metadata": {},
   "outputs": [
    {
     "name": "stdout",
     "output_type": "stream",
     "text": [
      "Joseph Wyeth 1663\n",
      "Alexander Skene of Newtyle 1621\n",
      "James Logan 1674\n",
      "Dorcas Erbery 1656\n",
      "Lilias Skene 1626\n",
      "William Mucklow 1630\n",
      "Thomas Salthouse 1630\n",
      "William Dewsbury 1621\n",
      "John Audland 1630\n",
      "Richard Claridge 1649\n",
      "William Bradford 1663\n",
      "Fettiplace Bellers 1687\n",
      "John Bellers 1654\n",
      "Isabel Yeamans 1637\n",
      "George Fox the younger 1551\n",
      "George Fox 1624\n",
      "John Stubbs 1618\n",
      "Anne Camm 1627\n",
      "John Camm 1605\n",
      "Thomas Camm 1640\n",
      "Katharine Evans 1618\n",
      "Lydia Lancaster 1683\n",
      "Samuel Clarridge 1631\n",
      "Thomas Lower 1633\n",
      "Gervase Benson 1569\n",
      "Stephen Crisp 1628\n",
      "James Claypoole 1634\n",
      "Thomas Holme 1626\n",
      "John Freame 1665\n",
      "John Swinton 1620\n",
      "William Mead 1627\n",
      "Henry Pickworth 1673\n",
      "John Crook 1616\n",
      "Gilbert Latey 1626\n",
      "Ellis Hookes 1635\n",
      "Joseph Besse 1683\n",
      "James Nayler 1618\n",
      "Elizabeth Hooten 1562\n",
      "George Whitehead 1637\n",
      "John Whitehead 1630\n",
      "William Crouch 1628\n",
      "Benjamin Furly 1636\n",
      "Silvanus Bevan 1691\n",
      "Robert Rich 1607\n",
      "John Whiting 1656\n",
      "Christopher Taylor 1614\n",
      "Thomas Lawson 1630\n",
      "Richard Farnworth 1630\n",
      "William Coddington 1601\n",
      "Thomas Taylor 1617\n",
      "Richard Vickris 1590\n",
      "Robert Barclay 1648\n",
      "Jane Sowle 1631\n",
      "Tace Sowle 1666\n",
      "Leonard Fell 1624\n",
      "Margaret Fell 1614\n",
      "George Bishop 1558\n",
      "Elizabeth Leavens 1555\n",
      "Thomas Curtis 1602\n",
      "Alice Curwen 1619\n",
      "Alexander Parker 1628\n",
      "John Wilkinson 1652\n",
      "Thomas Aldam 1616\n",
      "David Barclay of Ury 1610\n",
      "David Barclay 1682\n",
      "Sir Charles Wager 1666\n",
      "George Keith 1638\n",
      "James Parnel 1636\n",
      "Peter Collinson 1694\n",
      "Franciscus Mercurius van Helmont 1614\n",
      "William Caton 1636\n",
      "Francis Howgill 1618\n",
      "Richard Hubberthorne 1628\n",
      "William Ames 1552\n",
      "William Rogers 1601\n",
      "Isaac Norris 1671\n",
      "Anthony Sharp 1643\n",
      "Mary Fisher 1623\n",
      "Anne Conway Viscountess Conway and Killultagh 1631\n",
      "Samuel Fisher 1604\n",
      "Francis Bugg 1640\n",
      "Sarah Gibbons 1634\n",
      "William Tomlinson 1650\n",
      "Humphrey Norton 1655\n",
      "William Gibson 1628\n",
      "Gideon Wanton 1693\n",
      "John Wanton 1672\n",
      "Grace Chamber 1676\n",
      "Mary Prince 1569\n",
      "John Bartram 1699\n",
      "Edward Haistwell 1658\n",
      "John ap John 1625\n",
      "John Rous 1585\n",
      "Anthony Pearson 1627\n",
      "Solomon Eccles 1617\n",
      "John Burnyeat 1631\n",
      "Edward Burrough 1633\n",
      "Rebecca Travers 1609\n",
      "William Edmundson 1627\n",
      "Sarah Cheevers 1608\n",
      "Edward Pyott 1560\n",
      "Daniel Quare 1648\n",
      "John Penington 1655\n",
      "Mary Penington 1623\n",
      "Charles Marshall 1637\n",
      "Humphrey Woolrich 1633\n",
      "William Penn 1644\n",
      "Mary Pennyman 1630\n",
      "Dorothy Waugh 1636\n",
      "David Lloyd 1656\n",
      "Lewis Morris 1671\n",
      "Martha Simmonds 1624\n",
      "John Story 1571\n",
      "Thomas Story 1670\n",
      "Thomas Ellwood 1639\n",
      "William Simpson 1627\n",
      "Samuel Bownas 1677\n",
      "John Perrot 1555\n",
      "Hannah Stranger 1656\n"
     ]
    }
   ],
   "source": [
    "for n in G.nodes():\n",
    "    print(n, G.nodes[n]['birth_year'])"
   ]
  },
  {
   "cell_type": "code",
   "execution_count": 17,
   "id": "bebcce24",
   "metadata": {},
   "outputs": [
    {
     "name": "stdout",
     "output_type": "stream",
     "text": [
      "Network density: 0.02478279447372169\n"
     ]
    }
   ],
   "source": [
    "density = nx.density(G)\n",
    "print('Network density:', density)"
   ]
  },
  {
   "cell_type": "code",
   "execution_count": 18,
   "id": "7fba6ec8",
   "metadata": {},
   "outputs": [
    {
     "name": "stdout",
     "output_type": "stream",
     "text": [
      "Shortest path between Fell and Whitehead: ['Margaret Fell', 'George Fox', 'George Whitehead']\n"
     ]
    }
   ],
   "source": [
    "fell_whitehead_path = nx.shortest_path(G, source=\"Margaret Fell\", target='George Whitehead')\n",
    "print(\"Shortest path between Fell and Whitehead:\", fell_whitehead_path)"
   ]
  },
  {
   "cell_type": "code",
   "execution_count": 19,
   "id": "044da89e",
   "metadata": {},
   "outputs": [
    {
     "name": "stdout",
     "output_type": "stream",
     "text": [
      "Length of that path: 2\n"
     ]
    }
   ],
   "source": [
    "print('Length of that path:', len(fell_whitehead_path)-1)"
   ]
  },
  {
   "cell_type": "code",
   "execution_count": 20,
   "id": "50552243",
   "metadata": {},
   "outputs": [
    {
     "name": "stdout",
     "output_type": "stream",
     "text": [
      "False\n"
     ]
    }
   ],
   "source": [
    "# If your Graph has more than one component, this will return False:\n",
    "print(nx.is_connected(G))"
   ]
  },
  {
   "cell_type": "code",
   "execution_count": 21,
   "id": "fa12efab",
   "metadata": {},
   "outputs": [],
   "source": [
    "# Next, use nx.connected_components to get the list of components,\n",
    "# then use the max() command to find the largest one:\n",
    "components = nx.connected_components(G)\n",
    "largest_component = max(components, key=len)"
   ]
  },
  {
   "cell_type": "code",
   "execution_count": 22,
   "id": "197123d8",
   "metadata": {},
   "outputs": [
    {
     "name": "stdout",
     "output_type": "stream",
     "text": [
      "Network diameter of largest component: 8\n"
     ]
    }
   ],
   "source": [
    "# Create a \"subgraph\" of just the largest component\n",
    "# Then calculate the diameter of the subgraph, just like you did with density.\n",
    "#\n",
    "\n",
    "subgraph = G.subgraph(largest_component)\n",
    "diameter = nx.diameter(subgraph)\n",
    "print(\"Network diameter of largest component:\", diameter)"
   ]
  },
  {
   "cell_type": "code",
   "execution_count": 23,
   "id": "41aa9e6f",
   "metadata": {},
   "outputs": [
    {
     "name": "stdout",
     "output_type": "stream",
     "text": [
      "Traidic closure: 0.16937799043062202\n"
     ]
    }
   ],
   "source": [
    "triadic_closure = nx.transitivity(G)\n",
    "print('Traidic closure:', triadic_closure)"
   ]
  },
  {
   "cell_type": "code",
   "execution_count": 24,
   "id": "bce7cf45",
   "metadata": {},
   "outputs": [],
   "source": [
    "degree_dict = dict(G.degree(G.nodes()))\n",
    "nx.set_node_attributes(G, degree_dict, 'degree')"
   ]
  },
  {
   "cell_type": "code",
   "execution_count": 25,
   "id": "f9412a05",
   "metadata": {},
   "outputs": [
    {
     "name": "stdout",
     "output_type": "stream",
     "text": [
      "{'historical_significance': 'Quaker leader and founder of Pennsylvania', 'gender': 'male', 'birth_year': '1644', 'death_year': '1718', 'sdfb_id': '10009531', 'degree': 18}\n"
     ]
    }
   ],
   "source": [
    "print(G.nodes['William Penn'])"
   ]
  },
  {
   "cell_type": "code",
   "execution_count": 26,
   "id": "d558991b",
   "metadata": {},
   "outputs": [],
   "source": [
    "sorted_degree = sorted(degree_dict.items(), key=itemgetter(1), reverse=True)"
   ]
  },
  {
   "cell_type": "code",
   "execution_count": 27,
   "id": "ca9441cf",
   "metadata": {},
   "outputs": [
    {
     "name": "stdout",
     "output_type": "stream",
     "text": [
      "Top 20 nodes by degree:\n",
      "('George Fox', 22)\n",
      "('William Penn', 18)\n",
      "('James Nayler', 16)\n",
      "('George Whitehead', 13)\n",
      "('Margaret Fell', 13)\n",
      "('Benjamin Furly', 10)\n",
      "('Edward Burrough', 9)\n",
      "('George Keith', 8)\n",
      "('Thomas Ellwood', 8)\n",
      "('Francis Howgill', 7)\n",
      "('John Perrot', 7)\n",
      "('John Audland', 6)\n",
      "('Richard Farnworth', 6)\n",
      "('Alexander Parker', 6)\n",
      "('John Story', 6)\n",
      "('John Stubbs', 5)\n",
      "('Thomas Curtis', 5)\n",
      "('John Wilkinson', 5)\n",
      "('William Caton', 5)\n",
      "('Anthony Pearson', 5)\n"
     ]
    }
   ],
   "source": [
    "print(\"Top 20 nodes by degree:\")\n",
    "for d in sorted_degree[:20]:\n",
    "    print(d)    "
   ]
  },
  {
   "cell_type": "code",
   "execution_count": 31,
   "id": "8bb998ad",
   "metadata": {},
   "outputs": [],
   "source": [
    "import numpy"
   ]
  },
  {
   "cell_type": "code",
   "execution_count": 35,
   "id": "f6903f54",
   "metadata": {
    "scrolled": false
   },
   "outputs": [],
   "source": [
    "# unable to run betweenness centrality due to weird error\n",
    "eigenvector_dict = nx.eigenvector_centrality(G)"
   ]
  },
  {
   "cell_type": "code",
   "execution_count": 37,
   "id": "5540853e",
   "metadata": {},
   "outputs": [],
   "source": [
    "nx.set_node_attributes(G, eigenvector_dict, 'eigenvector')"
   ]
  },
  {
   "cell_type": "code",
   "execution_count": 38,
   "id": "d97f7957",
   "metadata": {},
   "outputs": [
    {
     "name": "stdout",
     "output_type": "stream",
     "text": [
      "Top 20 nodes by eigenvector centrality:\n",
      "('George Fox', 0.4491750710859924)\n",
      "('James Nayler', 0.3352974100447867)\n",
      "('William Penn', 0.27032201153998675)\n",
      "('Margaret Fell', 0.253170949905681)\n",
      "('George Whitehead', 0.2497455334914196)\n",
      "('Edward Burrough', 0.23147427604862303)\n",
      "('Francis Howgill', 0.19095393782681047)\n",
      "('Benjamin Furly', 0.1878520634691651)\n",
      "('John Perrot', 0.18496928077956107)\n",
      "('George Keith', 0.1838469086791535)\n",
      "('Thomas Ellwood', 0.17608142535843857)\n",
      "('Richard Farnworth', 0.15368535029296415)\n",
      "('John Crook', 0.1327158126880779)\n",
      "('Rebecca Travers', 0.1184804064465093)\n",
      "('Alexander Parker', 0.11587808682088323)\n",
      "('Anthony Pearson', 0.11120476725256785)\n",
      "('William Dewsbury', 0.11057869321157118)\n",
      "('John Stubbs', 0.10693500692141822)\n",
      "('John Audland', 0.09830889719333748)\n",
      "('Thomas Salthouse', 0.0954862854413877)\n"
     ]
    }
   ],
   "source": [
    "sorted_eigenvector = sorted(eigenvector_dict.items(), key=itemgetter(1), reverse=True)\n",
    "\n",
    "print(\"Top 20 nodes by eigenvector centrality:\")\n",
    "for b in sorted_eigenvector[:20]:\n",
    "    print(b)"
   ]
  },
  {
   "cell_type": "code",
   "execution_count": 39,
   "id": "24d0834c",
   "metadata": {},
   "outputs": [
    {
     "name": "stdout",
     "output_type": "stream",
     "text": [
      "Name: George Fox | Eigenvector Centrality: 0.4491750710859924 | Degree: 22\n",
      "Name: James Nayler | Eigenvector Centrality: 0.3352974100447867 | Degree: 16\n",
      "Name: William Penn | Eigenvector Centrality: 0.27032201153998675 | Degree: 18\n",
      "Name: Margaret Fell | Eigenvector Centrality: 0.253170949905681 | Degree: 13\n",
      "Name: George Whitehead | Eigenvector Centrality: 0.2497455334914196 | Degree: 13\n",
      "Name: Edward Burrough | Eigenvector Centrality: 0.23147427604862303 | Degree: 9\n",
      "Name: Francis Howgill | Eigenvector Centrality: 0.19095393782681047 | Degree: 7\n",
      "Name: Benjamin Furly | Eigenvector Centrality: 0.1878520634691651 | Degree: 10\n",
      "Name: John Perrot | Eigenvector Centrality: 0.18496928077956107 | Degree: 7\n",
      "Name: George Keith | Eigenvector Centrality: 0.1838469086791535 | Degree: 8\n",
      "Name: Thomas Ellwood | Eigenvector Centrality: 0.17608142535843857 | Degree: 8\n",
      "Name: Richard Farnworth | Eigenvector Centrality: 0.15368535029296415 | Degree: 6\n",
      "Name: John Crook | Eigenvector Centrality: 0.1327158126880779 | Degree: 4\n",
      "Name: Rebecca Travers | Eigenvector Centrality: 0.1184804064465093 | Degree: 4\n",
      "Name: Alexander Parker | Eigenvector Centrality: 0.11587808682088323 | Degree: 6\n",
      "Name: Anthony Pearson | Eigenvector Centrality: 0.11120476725256785 | Degree: 5\n",
      "Name: William Dewsbury | Eigenvector Centrality: 0.11057869321157118 | Degree: 3\n",
      "Name: John Stubbs | Eigenvector Centrality: 0.10693500692141822 | Degree: 5\n",
      "Name: John Audland | Eigenvector Centrality: 0.09830889719333748 | Degree: 6\n",
      "Name: Thomas Salthouse | Eigenvector Centrality: 0.0954862854413877 | Degree: 2\n"
     ]
    }
   ],
   "source": [
    "#First get the top 20 nodes by eigenvector as a list\n",
    "top_eigenvector = sorted_eigenvector[:20]\n",
    "\n",
    "#Then find and print their degree\n",
    "for tb in top_eigenvector: # Loop through top_betweenness\n",
    "    degree = degree_dict[tb[0]] # Use degree_dict to access a node's degree, see footnote 2\n",
    "    print(\"Name:\", tb[0], \"| Eigenvector Centrality:\", tb[1], \"| Degree:\", degree)"
   ]
  },
  {
   "cell_type": "code",
   "execution_count": 40,
   "id": "3e08d540",
   "metadata": {},
   "outputs": [],
   "source": [
    "communities = community.greedy_modularity_communities(G)"
   ]
  },
  {
   "cell_type": "code",
   "execution_count": 41,
   "id": "e9694362",
   "metadata": {},
   "outputs": [],
   "source": [
    "modularity_dict = {}\n",
    "for i, c in enumerate(communities):\n",
    "    for name in c:\n",
    "        modularity_dict[name] = i"
   ]
  },
  {
   "cell_type": "code",
   "execution_count": 43,
   "id": "addad256",
   "metadata": {},
   "outputs": [],
   "source": [
    "nx.set_node_attributes(G, modularity_dict, 'modularity')"
   ]
  },
  {
   "cell_type": "code",
   "execution_count": 44,
   "id": "9fdb6a7d",
   "metadata": {},
   "outputs": [
    {
     "name": "stdout",
     "output_type": "stream",
     "text": [
      "Modularity Class 0 Sorted by Eigenvector Centrality:\n",
      "Name: James Nayler | Eigenvector Centrality: 0.3352974100447867\n",
      "Name: Margaret Fell | Eigenvector Centrality: 0.253170949905681\n",
      "Name: Francis Howgill | Eigenvector Centrality: 0.19095393782681047\n",
      "Name: Richard Farnworth | Eigenvector Centrality: 0.15368535029296415\n",
      "Name: Anthony Pearson | Eigenvector Centrality: 0.11120476725256785\n"
     ]
    }
   ],
   "source": [
    "# First get a list of just the nodes in that class\n",
    "class0 = [n for n in G.nodes() if G.nodes[n]['modularity'] == 0]\n",
    "\n",
    "# Then create a dictionary of the eigenvector centralities of those nodes\n",
    "class0_eigenvector = {n:G.nodes[n]['eigenvector'] for n in class0}\n",
    "\n",
    "# Then sort that dictionary and print the first 5 results\n",
    "class0_sorted_by_eigenvector = sorted(class0_eigenvector.items(), key=itemgetter(1), reverse=True)\n",
    "\n",
    "print(\"Modularity Class 0 Sorted by Eigenvector Centrality:\")\n",
    "for node in class0_sorted_by_eigenvector[:5]:\n",
    "    print(\"Name:\", node[0], \"| Eigenvector Centrality:\", node[1])"
   ]
  },
  {
   "cell_type": "code",
   "execution_count": 45,
   "id": "e026c736",
   "metadata": {},
   "outputs": [
    {
     "name": "stdout",
     "output_type": "stream",
     "text": [
      "Class 0: ['Thomas Lower', 'Thomas Aldam', 'Francis Howgill', 'George Fox the younger', 'Margaret Fell', 'William Tomlinson', 'Dorcas Erbery', 'Anthony Pearson', 'Elizabeth Leavens', 'Gervase Benson', 'Robert Rich', 'James Nayler', 'William Gibson', 'Thomas Holme', 'Richard Farnworth', 'Martha Simmonds', 'Hannah Stranger']\n",
      "Class 1: ['Isaac Norris', 'George Keith', 'Richard Claridge', 'James Logan', 'Joseph Besse', 'William Penn', 'Jane Sowle', 'Edward Haistwell', 'David Lloyd', 'Tace Sowle', 'Isabel Yeamans', 'Anne Conway Viscountess Conway and Killultagh', 'John Bartram', 'Samuel Bownas', 'William Bradford', 'Peter Collinson', 'Thomas Story']\n",
      "Class 2: ['Ellis Hookes', 'John Perrot', 'Thomas Salthouse', 'William Coddington', 'William Crouch', 'Mary Prince', 'Mary Fisher', 'John Crook', 'William Mucklow', 'William Dewsbury', 'Elizabeth Hooten', 'George Fox', 'Edward Burrough', 'Leonard Fell', 'William Mead']\n",
      "Class 3: ['George Whitehead', 'Daniel Quare', 'Silvanus Bevan', 'Henry Pickworth', 'Richard Hubberthorne', 'Lewis Morris', 'John Whitehead', 'Rebecca Travers', 'Thomas Lawson', 'Gilbert Latey', 'Sir Charles Wager', 'Alexander Parker', 'Francis Bugg', 'Alice Curwen']\n",
      "Class 4: ['Samuel Clarridge', 'Mary Penington', 'John Penington', 'John ap John', 'William Simpson', 'Thomas Ellwood', 'Joseph Wyeth', 'John Burnyeat', 'William Rogers', 'James Claypoole', 'Anthony Sharp', 'William Edmundson', 'Thomas Curtis']\n",
      "Class 5: ['Franciscus Mercurius van Helmont', 'William Ames', 'Robert Barclay', 'Samuel Fisher', 'John Stubbs', 'Stephen Crisp', 'John Swinton', 'David Barclay of Ury', 'Benjamin Furly', 'William Caton', 'James Parnel']\n",
      "Class 6: ['John Audland', 'John Wilkinson', 'Charles Marshall', 'John Story', 'Thomas Camm', 'Edward Pyott', 'Anne Camm', 'Solomon Eccles', 'John Camm']\n",
      "Class 7: ['Thomas Taylor', 'Christopher Taylor', 'John Whiting']\n"
     ]
    }
   ],
   "source": [
    "for i, c in enumerate(communities): # Loop through the list of communities\n",
    "    if len(c) > 2: # Filter out modularity classes with 2 or fewer nodes\n",
    "        print('Class '+str(i)+':', list(c)) # Print out the classes and their members"
   ]
  },
  {
   "cell_type": "code",
   "execution_count": 55,
   "id": "fb653ad2",
   "metadata": {
    "scrolled": true
   },
   "outputs": [],
   "source": [
    "nx.write_gexf(G, 'quaker_network.gexf')"
   ]
  },
  {
   "cell_type": "code",
   "execution_count": 48,
   "id": "70140196",
   "metadata": {},
   "outputs": [],
   "source": [
    "import numpy as np"
   ]
  },
  {
   "cell_type": "code",
   "execution_count": 52,
   "id": "b4575b31",
   "metadata": {},
   "outputs": [],
   "source": [
    "# fixing errors sigh\n",
    "np.float64 = float\n",
    "np.float32 = float\n",
    "np.float16 = float\n",
    "np.float_ = float"
   ]
  },
  {
   "cell_type": "code",
   "execution_count": 54,
   "id": "8380f8dd",
   "metadata": {},
   "outputs": [],
   "source": [
    "np.int_ = int\n",
    "np.int8 = int\n",
    "np.int16 = int\n",
    "np.int32 = int\n",
    "np.int64 = int\n",
    "np.uint8 = int\n",
    "np.uint16 = int\n",
    "np.uint32 = int\n",
    "np.uint64 = int\n",
    "np.intc = int\n",
    "np.intp = int"
   ]
  },
  {
   "cell_type": "code",
   "execution_count": null,
   "id": "86a9ef06",
   "metadata": {},
   "outputs": [],
   "source": []
  }
 ],
 "metadata": {
  "kernelspec": {
   "display_name": "Python 3 (ipykernel)",
   "language": "python",
   "name": "python3"
  },
  "language_info": {
   "codemirror_mode": {
    "name": "ipython",
    "version": 3
   },
   "file_extension": ".py",
   "mimetype": "text/x-python",
   "name": "python",
   "nbconvert_exporter": "python",
   "pygments_lexer": "ipython3",
   "version": "3.11.4"
  }
 },
 "nbformat": 4,
 "nbformat_minor": 5
}
