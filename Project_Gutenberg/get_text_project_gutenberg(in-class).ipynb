{
 "cells": [
  {
   "cell_type": "markdown",
   "metadata": {},
   "source": [
    "# Get text from Project Gutenberg"
   ]
  },
  {
   "cell_type": "markdown",
   "metadata": {},
   "source": [
    "[Project Gutenberg](https://www.gutenberg.org/) is an excellent source of text data from books which are out of copyright. Project Gutenberg posts plain text files of ~70,000 different texts. In the following blocks of code we will walk through a process of scrapping, organizing, and cleaning up Most of [Charles Dickens's](https://en.wikipedia.org/wiki/Charles_Dickens) novels."
   ]
  },
  {
   "cell_type": "markdown",
   "metadata": {},
   "source": [
    "## Set up"
   ]
  },
  {
   "cell_type": "code",
   "execution_count": 20,
   "metadata": {},
   "outputs": [],
   "source": [
    "# imports\n",
    "import requests\n",
    "import pandas as pd\n",
    "import spacy"
   ]
  },
  {
   "cell_type": "code",
   "execution_count": 21,
   "metadata": {},
   "outputs": [
    {
     "data": {
      "text/plain": [
       "['ner', 'parser']"
      ]
     },
     "execution_count": 21,
     "metadata": {},
     "output_type": "execute_result"
    }
   ],
   "source": [
    "# set up nlp pipline\n",
    "nlp = spacy.load(\"en_core_web_sm\")\n",
    "nlp.disable_pipes('ner', 'parser')"
   ]
  },
  {
   "cell_type": "markdown",
   "metadata": {},
   "source": [
    "### Example: Tale of Two Cities\n",
    "\n",
    "We will start by searching for the text we want in [Project Gutenberg](https://www.gutenberg.org/). In this first example, we will search for _A Tale of Two Cities_. From this search result we can get a url to the plain text file."
   ]
  },
  {
   "cell_type": "code",
   "execution_count": 22,
   "metadata": {},
   "outputs": [],
   "source": [
    "# use requests library to load text\n",
    "url = 'https://www.gutenberg.org/cache/epub/98/pg98.txt'\n",
    "response = requests.get(url)\n",
    "text = response.text"
   ]
  },
  {
   "cell_type": "code",
   "execution_count": 23,
   "metadata": {},
   "outputs": [
    {
     "data": {
      "text/plain": [
       "'\\ufeffThe Project Gutenberg eBook of A Tale of Two Cities\\r\\n    \\r\\nThis ebook is for the use of anyone anywhere in the United States and\\r\\nmost other parts of the world at no cost and with almost no restrictions\\r\\nwhatsoever. You may copy it, give it away or '"
      ]
     },
     "execution_count": 23,
     "metadata": {},
     "output_type": "execute_result"
    }
   ],
   "source": [
    "text[:250]"
   ]
  },
  {
   "cell_type": "markdown",
   "metadata": {},
   "source": [
    "### Isolate the text we are interested in\n",
    "\n",
    "If you look closely at the text, you will notice that there is a lot of front matter and back matter that is superfluous to the novel. We are not interested in that material, so we need to find a way to cut it.\n",
    "\n",
    "We can do this by finding the index to the starting text and then the index to the ending text. We can use the start and end index numbers to isolate the text we are interested in."
   ]
  },
  {
   "cell_type": "code",
   "execution_count": 24,
   "metadata": {
    "scrolled": true
   },
   "outputs": [
    {
     "data": {
      "text/plain": [
       "2731"
      ]
     },
     "execution_count": 24,
     "metadata": {},
     "output_type": "execute_result"
    }
   ],
   "source": [
    "# find start index\n",
    "text.find('It was the best of times, it was the worst of times, it was the age of')"
   ]
  },
  {
   "cell_type": "code",
   "execution_count": 25,
   "metadata": {
    "scrolled": true
   },
   "outputs": [
    {
     "data": {
      "text/plain": [
       "'I'"
      ]
     },
     "execution_count": 25,
     "metadata": {},
     "output_type": "execute_result"
    }
   ],
   "source": [
    "text[2731]"
   ]
  },
  {
   "cell_type": "code",
   "execution_count": 26,
   "metadata": {},
   "outputs": [
    {
     "data": {
      "text/plain": [
       "774307"
      ]
     },
     "execution_count": 26,
     "metadata": {},
     "output_type": "execute_result"
    }
   ],
   "source": [
    "# find end index\n",
    "text.find('*** END OF THE PROJECT GUTENBERG EBOOK A TALE OF TWO CITIES ***')"
   ]
  },
  {
   "cell_type": "code",
   "execution_count": 27,
   "metadata": {},
   "outputs": [],
   "source": [
    "# set start and end variables\n",
    "start = 2731\n",
    "end = 774307-1"
   ]
  },
  {
   "cell_type": "code",
   "execution_count": 28,
   "metadata": {},
   "outputs": [],
   "source": [
    "# trim text\n",
    "tale = text[start:end]"
   ]
  },
  {
   "cell_type": "markdown",
   "metadata": {},
   "source": [
    "### Split text into paragraphs for easier processing\n",
    "\n",
    "We now have a very long text string containing the entire text of _A Tale of Two Cities_. For ease of processing, we will cut the text up into paragraphs (you could also do chapters if you wanted). Project Gutenberg uses a sequence of returns and new lines to separate the paragraphs. In the raw text this sequence looks like this `\\r\\n\\r\\n`. We can use this sequence of paragraphs to split the text into paragraphs."
   ]
  },
  {
   "cell_type": "code",
   "execution_count": 29,
   "metadata": {},
   "outputs": [],
   "source": [
    "# split into paragraphs\n",
    "tale_paras = tale.split('\\r\\n\\r\\n')"
   ]
  },
  {
   "cell_type": "code",
   "execution_count": null,
   "metadata": {
    "scrolled": true
   },
   "outputs": [],
   "source": []
  },
  {
   "cell_type": "markdown",
   "metadata": {},
   "source": [
    "### Organize paragraphs into a Dataframe for processing and storage\n",
    "\n",
    "As we have seen, a Pandas DataFrame is a handy way to organize data for processing and storage. Here, we will create a DataFrame with columns for author, title, and text where each row represents a paragraph. Of course, in this example, the author and title will be the same for each row."
   ]
  },
  {
   "cell_type": "code",
   "execution_count": 30,
   "metadata": {},
   "outputs": [],
   "source": [
    "# creating empty lists for author and title will be handy for building our dataframe\n",
    "author = []\n",
    "title = []"
   ]
  },
  {
   "cell_type": "code",
   "execution_count": 31,
   "metadata": {},
   "outputs": [],
   "source": [
    "# this little for-loop will poplate the lists we just created\n",
    "for para in tale_paras:\n",
    "    author.append('Dickens')\n",
    "    title.append('Tale')"
   ]
  },
  {
   "cell_type": "code",
   "execution_count": 32,
   "metadata": {},
   "outputs": [
    {
     "data": {
      "text/plain": [
       "True"
      ]
     },
     "execution_count": 32,
     "metadata": {},
     "output_type": "execute_result"
    }
   ],
   "source": [
    "len(author) == len(tale_paras)"
   ]
  },
  {
   "cell_type": "markdown",
   "metadata": {},
   "source": [
    "We now have three lists of equal length: author, title, paras. We can us the `zip` function to construct the lists together and then into a DataFrame."
   ]
  },
  {
   "cell_type": "code",
   "execution_count": 33,
   "metadata": {},
   "outputs": [],
   "source": [
    "tale_df = pd.DataFrame(list(zip(author, title, tale_paras)), columns=['author', 'title', 'text'])"
   ]
  },
  {
   "cell_type": "code",
   "execution_count": 34,
   "metadata": {
    "scrolled": true
   },
   "outputs": [
    {
     "data": {
      "text/html": [
       "<div>\n",
       "<style scoped>\n",
       "    .dataframe tbody tr th:only-of-type {\n",
       "        vertical-align: middle;\n",
       "    }\n",
       "\n",
       "    .dataframe tbody tr th {\n",
       "        vertical-align: top;\n",
       "    }\n",
       "\n",
       "    .dataframe thead th {\n",
       "        text-align: right;\n",
       "    }\n",
       "</style>\n",
       "<table border=\"1\" class=\"dataframe\">\n",
       "  <thead>\n",
       "    <tr style=\"text-align: right;\">\n",
       "      <th></th>\n",
       "      <th>author</th>\n",
       "      <th>title</th>\n",
       "      <th>text</th>\n",
       "    </tr>\n",
       "  </thead>\n",
       "  <tbody>\n",
       "    <tr>\n",
       "      <th>0</th>\n",
       "      <td>Dickens</td>\n",
       "      <td>Tale</td>\n",
       "      <td>It was the best of times, it was the worst of ...</td>\n",
       "    </tr>\n",
       "    <tr>\n",
       "      <th>1</th>\n",
       "      <td>Dickens</td>\n",
       "      <td>Tale</td>\n",
       "      <td>There were a king with a large jaw and a queen...</td>\n",
       "    </tr>\n",
       "    <tr>\n",
       "      <th>2</th>\n",
       "      <td>Dickens</td>\n",
       "      <td>Tale</td>\n",
       "      <td>It was the year of Our Lord one thousand seven...</td>\n",
       "    </tr>\n",
       "    <tr>\n",
       "      <th>3</th>\n",
       "      <td>Dickens</td>\n",
       "      <td>Tale</td>\n",
       "      <td>France, less favoured on the whole as to matte...</td>\n",
       "    </tr>\n",
       "    <tr>\n",
       "      <th>4</th>\n",
       "      <td>Dickens</td>\n",
       "      <td>Tale</td>\n",
       "      <td>In England, there was scarcely an amount of or...</td>\n",
       "    </tr>\n",
       "  </tbody>\n",
       "</table>\n",
       "</div>"
      ],
      "text/plain": [
       "    author title                                               text\n",
       "0  Dickens  Tale  It was the best of times, it was the worst of ...\n",
       "1  Dickens  Tale  There were a king with a large jaw and a queen...\n",
       "2  Dickens  Tale  It was the year of Our Lord one thousand seven...\n",
       "3  Dickens  Tale  France, less favoured on the whole as to matte...\n",
       "4  Dickens  Tale  In England, there was scarcely an amount of or..."
      ]
     },
     "execution_count": 34,
     "metadata": {},
     "output_type": "execute_result"
    }
   ],
   "source": [
    "# Sanity check\n",
    "tale_df.head()"
   ]
  },
  {
   "cell_type": "markdown",
   "metadata": {},
   "source": [
    "### Lemmatize text\n",
    "Now that we have our text divided by paragraphs and stored in a DataFrame, let's apply some nlp to extract the lemmas. We will then place the lemmas into a new column in our DataDrame."
   ]
  },
  {
   "cell_type": "code",
   "execution_count": 35,
   "metadata": {},
   "outputs": [],
   "source": [
    "# extract lemmas\n",
    "def process_text(text):\n",
    "    \"\"\"Remove new line characters and lemmatize text. Returns string of lemmas\"\"\"\n",
    "    text = text.replace('\\n', ' ')\n",
    "    doc = nlp(text)\n",
    "    tokens = [token for token in doc]\n",
    "    no_stops = [token for token in tokens if not token.is_stop]\n",
    "    no_punct = [token for token in no_stops if token.is_alpha]\n",
    "    lemmas = [token.lemma_ for token in no_punct]\n",
    "    lemmas_lower = [lemma.lower() for lemma in lemmas]\n",
    "    lemmas_string = ' '.join(lemmas_lower)\n",
    "    return lemmas_string"
   ]
  },
  {
   "cell_type": "code",
   "execution_count": 36,
   "metadata": {},
   "outputs": [],
   "source": [
    "# apply process_text to text column\n",
    "tale_df['lemmas'] = tale_df['text'].apply(process_text)"
   ]
  },
  {
   "cell_type": "code",
   "execution_count": 37,
   "metadata": {},
   "outputs": [
    {
     "data": {
      "text/html": [
       "<div>\n",
       "<style scoped>\n",
       "    .dataframe tbody tr th:only-of-type {\n",
       "        vertical-align: middle;\n",
       "    }\n",
       "\n",
       "    .dataframe tbody tr th {\n",
       "        vertical-align: top;\n",
       "    }\n",
       "\n",
       "    .dataframe thead th {\n",
       "        text-align: right;\n",
       "    }\n",
       "</style>\n",
       "<table border=\"1\" class=\"dataframe\">\n",
       "  <thead>\n",
       "    <tr style=\"text-align: right;\">\n",
       "      <th></th>\n",
       "      <th>author</th>\n",
       "      <th>title</th>\n",
       "      <th>text</th>\n",
       "      <th>lemmas</th>\n",
       "    </tr>\n",
       "  </thead>\n",
       "  <tbody>\n",
       "    <tr>\n",
       "      <th>0</th>\n",
       "      <td>Dickens</td>\n",
       "      <td>Tale</td>\n",
       "      <td>It was the best of times, it was the worst of ...</td>\n",
       "      <td>good time bad time age wisdom age foolishness ...</td>\n",
       "    </tr>\n",
       "    <tr>\n",
       "      <th>1</th>\n",
       "      <td>Dickens</td>\n",
       "      <td>Tale</td>\n",
       "      <td>There were a king with a large jaw and a queen...</td>\n",
       "      <td>king large jaw queen plain face throne england...</td>\n",
       "    </tr>\n",
       "    <tr>\n",
       "      <th>2</th>\n",
       "      <td>Dickens</td>\n",
       "      <td>Tale</td>\n",
       "      <td>It was the year of Our Lord one thousand seven...</td>\n",
       "      <td>year lord thousand seven seventy spiritual rev...</td>\n",
       "    </tr>\n",
       "    <tr>\n",
       "      <th>3</th>\n",
       "      <td>Dickens</td>\n",
       "      <td>Tale</td>\n",
       "      <td>France, less favoured on the whole as to matte...</td>\n",
       "      <td>france favour matter spiritual sister shield t...</td>\n",
       "    </tr>\n",
       "    <tr>\n",
       "      <th>4</th>\n",
       "      <td>Dickens</td>\n",
       "      <td>Tale</td>\n",
       "      <td>In England, there was scarcely an amount of or...</td>\n",
       "      <td>england scarcely order protection justify nati...</td>\n",
       "    </tr>\n",
       "  </tbody>\n",
       "</table>\n",
       "</div>"
      ],
      "text/plain": [
       "    author title                                               text  \\\n",
       "0  Dickens  Tale  It was the best of times, it was the worst of ...   \n",
       "1  Dickens  Tale  There were a king with a large jaw and a queen...   \n",
       "2  Dickens  Tale  It was the year of Our Lord one thousand seven...   \n",
       "3  Dickens  Tale  France, less favoured on the whole as to matte...   \n",
       "4  Dickens  Tale  In England, there was scarcely an amount of or...   \n",
       "\n",
       "                                              lemmas  \n",
       "0  good time bad time age wisdom age foolishness ...  \n",
       "1  king large jaw queen plain face throne england...  \n",
       "2  year lord thousand seven seventy spiritual rev...  \n",
       "3  france favour matter spiritual sister shield t...  \n",
       "4  england scarcely order protection justify nati...  "
      ]
     },
     "execution_count": 37,
     "metadata": {},
     "output_type": "execute_result"
    }
   ],
   "source": [
    "# sanity check\n",
    "tale_df.head()"
   ]
  },
  {
   "cell_type": "markdown",
   "metadata": {},
   "source": [
    "### Making our code more efficient with functions.\n",
    "\n",
    "The code above worked well, but if we want to get more texts, it will be useful to make our code more efficient by using functions."
   ]
  },
  {
   "cell_type": "code",
   "execution_count": 38,
   "metadata": {},
   "outputs": [],
   "source": [
    "# make a function for all the above\n",
    "def get_text(url):\n",
    "    response = requests.get(url)\n",
    "    text = response.text\n",
    "    return text"
   ]
  },
  {
   "cell_type": "code",
   "execution_count": 39,
   "metadata": {},
   "outputs": [],
   "source": [
    "def divide_paras(text, start, end, para_break):\n",
    "    text = text[start:end]\n",
    "    paras = text.split(para_break)\n",
    "    return paras"
   ]
  },
  {
   "cell_type": "code",
   "execution_count": 40,
   "metadata": {},
   "outputs": [],
   "source": [
    "def make_df(author, title, paras):\n",
    "    df = pd.DataFrame(paras, columns = ['text'])\n",
    "    df.insert(0, 'author', author)\n",
    "    df.insert(1, 'title', title)\n",
    "    return df"
   ]
  },
  {
   "cell_type": "markdown",
   "metadata": {},
   "source": [
    "Now that we have written our functions, we can get our next text: _Great Expectations_."
   ]
  },
  {
   "cell_type": "code",
   "execution_count": 41,
   "metadata": {},
   "outputs": [],
   "source": [
    "# get text\n",
    "text = get_text('https://www.gutenberg.org/cache/epub/1400/pg1400.txt')"
   ]
  },
  {
   "cell_type": "code",
   "execution_count": 42,
   "metadata": {
    "scrolled": true
   },
   "outputs": [
    {
     "data": {
      "text/plain": [
       "'\\ufeffThe Project Gutenberg eBook of Great Expectations\\r\\n    \\r\\nThis ebook is for the use of anyone anywhere in the United States and\\r\\nmost other parts of the world at no cost and with almost no restrictions\\r\\nwhatsoever. You may copy it, give it away or re'"
      ]
     },
     "execution_count": 42,
     "metadata": {},
     "output_type": "execute_result"
    }
   ],
   "source": [
    "text[:250]"
   ]
  },
  {
   "cell_type": "markdown",
   "metadata": {},
   "source": [
    "Now that we have our text, we need to cut out the beginning and ending material we are not interested in. HOWEVER, we are going to run into an error with _Great Expectations_."
   ]
  },
  {
   "cell_type": "code",
   "execution_count": 43,
   "metadata": {},
   "outputs": [],
   "source": [
    "# set start index\n",
    "start = text.find('My father’s family name being Pirrip,')"
   ]
  },
  {
   "cell_type": "code",
   "execution_count": 44,
   "metadata": {},
   "outputs": [
    {
     "data": {
      "text/plain": [
       "1874"
      ]
     },
     "execution_count": 44,
     "metadata": {},
     "output_type": "execute_result"
    }
   ],
   "source": [
    "# sanity check\n",
    "start"
   ]
  },
  {
   "cell_type": "markdown",
   "metadata": {},
   "source": [
    "### Error!\n",
    "\n",
    "The `-1` index means that we were not able to find that substring of characters in the text. Something is wrong with the encoding. We can investigate the text if we write it to a file."
   ]
  },
  {
   "cell_type": "code",
   "execution_count": 45,
   "metadata": {},
   "outputs": [],
   "source": [
    "with open('great_expectations.txt', encoding='utf8', mode='w') as f:\n",
    "    f.write(text)"
   ]
  },
  {
   "cell_type": "markdown",
   "metadata": {},
   "source": [
    "If you look cloely at the text file, you will see that the line \"My father’s family name being Pirrip\" is actually \"My fatherâs family name being Pirrip...\" There are some funny characters in this text!"
   ]
  },
  {
   "cell_type": "code",
   "execution_count": 46,
   "metadata": {},
   "outputs": [],
   "source": [
    "# set start index (again)\n"
   ]
  },
  {
   "cell_type": "code",
   "execution_count": 47,
   "metadata": {},
   "outputs": [],
   "source": [
    "#sanity check:\n"
   ]
  },
  {
   "cell_type": "code",
   "execution_count": 48,
   "metadata": {},
   "outputs": [],
   "source": [
    "# set end index\n",
    "end = text.find('*** END OF THE PROJECT GUTENBERG EBOOK GREAT EXPECTATIONS ***')"
   ]
  },
  {
   "cell_type": "code",
   "execution_count": 49,
   "metadata": {},
   "outputs": [
    {
     "data": {
      "text/plain": [
       "1015861"
      ]
     },
     "execution_count": 49,
     "metadata": {},
     "output_type": "execute_result"
    }
   ],
   "source": [
    "#sanity check\n",
    "end"
   ]
  },
  {
   "cell_type": "code",
   "execution_count": 50,
   "metadata": {},
   "outputs": [],
   "source": [
    "# set paragraph break\n",
    "para_break = '\\r\\n\\r\\n'"
   ]
  },
  {
   "cell_type": "code",
   "execution_count": 51,
   "metadata": {
    "scrolled": true
   },
   "outputs": [],
   "source": [
    "# divide text into paragraphs\n",
    "expectations_paras = divide_paras(text=text, start=start, end=end, para_break=para_break)"
   ]
  },
  {
   "cell_type": "code",
   "execution_count": 52,
   "metadata": {},
   "outputs": [],
   "source": [
    "# make DataFrame\n",
    "expectations_df = make_df(author='Dickens', title='Great Expectations', paras=expectations_paras)"
   ]
  },
  {
   "cell_type": "code",
   "execution_count": 53,
   "metadata": {},
   "outputs": [
    {
     "data": {
      "text/html": [
       "<div>\n",
       "<style scoped>\n",
       "    .dataframe tbody tr th:only-of-type {\n",
       "        vertical-align: middle;\n",
       "    }\n",
       "\n",
       "    .dataframe tbody tr th {\n",
       "        vertical-align: top;\n",
       "    }\n",
       "\n",
       "    .dataframe thead th {\n",
       "        text-align: right;\n",
       "    }\n",
       "</style>\n",
       "<table border=\"1\" class=\"dataframe\">\n",
       "  <thead>\n",
       "    <tr style=\"text-align: right;\">\n",
       "      <th></th>\n",
       "      <th>author</th>\n",
       "      <th>title</th>\n",
       "      <th>text</th>\n",
       "    </tr>\n",
       "  </thead>\n",
       "  <tbody>\n",
       "    <tr>\n",
       "      <th>0</th>\n",
       "      <td>Dickens</td>\n",
       "      <td>Great Expectations</td>\n",
       "      <td>My father’s family name being Pirrip, and my C...</td>\n",
       "    </tr>\n",
       "    <tr>\n",
       "      <th>1</th>\n",
       "      <td>Dickens</td>\n",
       "      <td>Great Expectations</td>\n",
       "      <td>I give Pirrip as my father’s family name, on t...</td>\n",
       "    </tr>\n",
       "    <tr>\n",
       "      <th>2</th>\n",
       "      <td>Dickens</td>\n",
       "      <td>Great Expectations</td>\n",
       "      <td>Ours was the marsh country, down by the river,...</td>\n",
       "    </tr>\n",
       "    <tr>\n",
       "      <th>3</th>\n",
       "      <td>Dickens</td>\n",
       "      <td>Great Expectations</td>\n",
       "      <td>“Hold your noise!” cried a terrible voice, as ...</td>\n",
       "    </tr>\n",
       "    <tr>\n",
       "      <th>4</th>\n",
       "      <td>Dickens</td>\n",
       "      <td>Great Expectations</td>\n",
       "      <td>A fearful man, all in coarse grey, with a grea...</td>\n",
       "    </tr>\n",
       "  </tbody>\n",
       "</table>\n",
       "</div>"
      ],
      "text/plain": [
       "    author               title  \\\n",
       "0  Dickens  Great Expectations   \n",
       "1  Dickens  Great Expectations   \n",
       "2  Dickens  Great Expectations   \n",
       "3  Dickens  Great Expectations   \n",
       "4  Dickens  Great Expectations   \n",
       "\n",
       "                                                text  \n",
       "0  My father’s family name being Pirrip, and my C...  \n",
       "1  I give Pirrip as my father’s family name, on t...  \n",
       "2  Ours was the marsh country, down by the river,...  \n",
       "3  “Hold your noise!” cried a terrible voice, as ...  \n",
       "4  A fearful man, all in coarse grey, with a grea...  "
      ]
     },
     "execution_count": 53,
     "metadata": {},
     "output_type": "execute_result"
    }
   ],
   "source": [
    "# sanity check\n",
    "expectations_df.head()"
   ]
  },
  {
   "cell_type": "code",
   "execution_count": 54,
   "metadata": {},
   "outputs": [],
   "source": [
    "# extract lemmas\n",
    "expectations_df['lemmas'] = expectations_df['text'].apply(process_text)"
   ]
  },
  {
   "cell_type": "code",
   "execution_count": 55,
   "metadata": {},
   "outputs": [
    {
     "data": {
      "text/html": [
       "<div>\n",
       "<style scoped>\n",
       "    .dataframe tbody tr th:only-of-type {\n",
       "        vertical-align: middle;\n",
       "    }\n",
       "\n",
       "    .dataframe tbody tr th {\n",
       "        vertical-align: top;\n",
       "    }\n",
       "\n",
       "    .dataframe thead th {\n",
       "        text-align: right;\n",
       "    }\n",
       "</style>\n",
       "<table border=\"1\" class=\"dataframe\">\n",
       "  <thead>\n",
       "    <tr style=\"text-align: right;\">\n",
       "      <th></th>\n",
       "      <th>author</th>\n",
       "      <th>title</th>\n",
       "      <th>text</th>\n",
       "      <th>lemmas</th>\n",
       "    </tr>\n",
       "  </thead>\n",
       "  <tbody>\n",
       "    <tr>\n",
       "      <th>0</th>\n",
       "      <td>Dickens</td>\n",
       "      <td>Great Expectations</td>\n",
       "      <td>My father’s family name being Pirrip, and my C...</td>\n",
       "      <td>father family pirrip christian philip infant t...</td>\n",
       "    </tr>\n",
       "    <tr>\n",
       "      <th>1</th>\n",
       "      <td>Dickens</td>\n",
       "      <td>Great Expectations</td>\n",
       "      <td>I give Pirrip as my father’s family name, on t...</td>\n",
       "      <td>pirrip father family authority tombstone joe g...</td>\n",
       "    </tr>\n",
       "    <tr>\n",
       "      <th>2</th>\n",
       "      <td>Dickens</td>\n",
       "      <td>Great Expectations</td>\n",
       "      <td>Ours was the marsh country, down by the river,...</td>\n",
       "      <td>marsh country river river wound mile sea vivid...</td>\n",
       "    </tr>\n",
       "    <tr>\n",
       "      <th>3</th>\n",
       "      <td>Dickens</td>\n",
       "      <td>Great Expectations</td>\n",
       "      <td>“Hold your noise!” cried a terrible voice, as ...</td>\n",
       "      <td>hold noise cry terrible voice man start grave ...</td>\n",
       "    </tr>\n",
       "    <tr>\n",
       "      <th>4</th>\n",
       "      <td>Dickens</td>\n",
       "      <td>Great Expectations</td>\n",
       "      <td>A fearful man, all in coarse grey, with a grea...</td>\n",
       "      <td>fearful man coarse grey great iron leg man hat...</td>\n",
       "    </tr>\n",
       "  </tbody>\n",
       "</table>\n",
       "</div>"
      ],
      "text/plain": [
       "    author               title  \\\n",
       "0  Dickens  Great Expectations   \n",
       "1  Dickens  Great Expectations   \n",
       "2  Dickens  Great Expectations   \n",
       "3  Dickens  Great Expectations   \n",
       "4  Dickens  Great Expectations   \n",
       "\n",
       "                                                text  \\\n",
       "0  My father’s family name being Pirrip, and my C...   \n",
       "1  I give Pirrip as my father’s family name, on t...   \n",
       "2  Ours was the marsh country, down by the river,...   \n",
       "3  “Hold your noise!” cried a terrible voice, as ...   \n",
       "4  A fearful man, all in coarse grey, with a grea...   \n",
       "\n",
       "                                              lemmas  \n",
       "0  father family pirrip christian philip infant t...  \n",
       "1  pirrip father family authority tombstone joe g...  \n",
       "2  marsh country river river wound mile sea vivid...  \n",
       "3  hold noise cry terrible voice man start grave ...  \n",
       "4  fearful man coarse grey great iron leg man hat...  "
      ]
     },
     "execution_count": 55,
     "metadata": {},
     "output_type": "execute_result"
    }
   ],
   "source": [
    "expectations_df.head()"
   ]
  },
  {
   "cell_type": "markdown",
   "metadata": {},
   "source": [
    "### On your own: Christmas Carol\n",
    "\n",
    "Based on the code above, can you create a dataset from _A Christmas Carol_?\n",
    "\n",
    "Here is a url to get you started: `https://www.gutenberg.org/cache/epub/46/pg46.txt`"
   ]
  },
  {
   "cell_type": "code",
   "execution_count": 56,
   "metadata": {},
   "outputs": [],
   "source": [
    "# get text\n",
    "text = get_text('https://www.gutenberg.org/cache/epub/46/pg46.txt')"
   ]
  },
  {
   "cell_type": "code",
   "execution_count": 57,
   "metadata": {},
   "outputs": [
    {
     "data": {
      "text/plain": [
       "'\\ufeffThe Project Gutenberg eBook of A Christmas Carol in Prose; Being a Ghost Story of Christmas\\r\\n    \\r\\nThis ebook is for the use of anyone anywhere in the United States and\\r\\nmost other parts of the world at no cost and with almost no restrictions\\r\\nwhats'"
      ]
     },
     "execution_count": 57,
     "metadata": {},
     "output_type": "execute_result"
    }
   ],
   "source": [
    "text[:250]"
   ]
  },
  {
   "cell_type": "code",
   "execution_count": 58,
   "metadata": {},
   "outputs": [
    {
     "data": {
      "text/plain": [
       "1607"
      ]
     },
     "execution_count": 58,
     "metadata": {},
     "output_type": "execute_result"
    }
   ],
   "source": [
    "# set start index\n",
    "start = text.find('MARLEY was dead: to begin with.')\n",
    "start"
   ]
  },
  {
   "cell_type": "code",
   "execution_count": 59,
   "metadata": {
    "scrolled": false
   },
   "outputs": [
    {
     "data": {
      "text/plain": [
       "163207"
      ]
     },
     "execution_count": 59,
     "metadata": {},
     "output_type": "execute_result"
    }
   ],
   "source": [
    "# set end index\n",
    "end = text.find(' *** END OF THE PROJECT GUTENBERG EBOOK A CHRISTMAS CAROL IN PROSE; BEING A GHOST STORY OF CHRISTMAS ***')\n",
    "end"
   ]
  },
  {
   "cell_type": "code",
   "execution_count": 60,
   "metadata": {},
   "outputs": [],
   "source": [
    "# set paragraph break\n",
    "para_break = '\\r\\n\\r\\n'"
   ]
  },
  {
   "cell_type": "code",
   "execution_count": 61,
   "metadata": {},
   "outputs": [],
   "source": [
    "# divide text into paragraphs\n",
    "carol_paras = divide_paras(text=text, start=start, end=end, para_break=para_break)"
   ]
  },
  {
   "cell_type": "code",
   "execution_count": 62,
   "metadata": {},
   "outputs": [],
   "source": [
    "# make DataFrame\n",
    "carol_df = make_df(author='Dickens', title='A Christmas Carol', paras=carol_paras)"
   ]
  },
  {
   "cell_type": "code",
   "execution_count": 63,
   "metadata": {},
   "outputs": [
    {
     "data": {
      "text/html": [
       "<div>\n",
       "<style scoped>\n",
       "    .dataframe tbody tr th:only-of-type {\n",
       "        vertical-align: middle;\n",
       "    }\n",
       "\n",
       "    .dataframe tbody tr th {\n",
       "        vertical-align: top;\n",
       "    }\n",
       "\n",
       "    .dataframe thead th {\n",
       "        text-align: right;\n",
       "    }\n",
       "</style>\n",
       "<table border=\"1\" class=\"dataframe\">\n",
       "  <thead>\n",
       "    <tr style=\"text-align: right;\">\n",
       "      <th></th>\n",
       "      <th>author</th>\n",
       "      <th>title</th>\n",
       "      <th>text</th>\n",
       "    </tr>\n",
       "  </thead>\n",
       "  <tbody>\n",
       "    <tr>\n",
       "      <th>0</th>\n",
       "      <td>Dickens</td>\n",
       "      <td>A Christmas Carol</td>\n",
       "      <td>MARLEY was dead: to begin with. There is no do...</td>\n",
       "    </tr>\n",
       "    <tr>\n",
       "      <th>1</th>\n",
       "      <td>Dickens</td>\n",
       "      <td>A Christmas Carol</td>\n",
       "      <td>Mind! I don't mean to say that I know, of my\\r...</td>\n",
       "    </tr>\n",
       "    <tr>\n",
       "      <th>2</th>\n",
       "      <td>Dickens</td>\n",
       "      <td>A Christmas Carol</td>\n",
       "      <td>Scrooge knew he was dead? Of course he did.\\r\\...</td>\n",
       "    </tr>\n",
       "    <tr>\n",
       "      <th>3</th>\n",
       "      <td>Dickens</td>\n",
       "      <td>A Christmas Carol</td>\n",
       "      <td>The mention of Marley's funeral brings me back...</td>\n",
       "    </tr>\n",
       "    <tr>\n",
       "      <th>4</th>\n",
       "      <td>Dickens</td>\n",
       "      <td>A Christmas Carol</td>\n",
       "      <td>Scrooge never painted out Old Marley's name.\\r...</td>\n",
       "    </tr>\n",
       "  </tbody>\n",
       "</table>\n",
       "</div>"
      ],
      "text/plain": [
       "    author              title  \\\n",
       "0  Dickens  A Christmas Carol   \n",
       "1  Dickens  A Christmas Carol   \n",
       "2  Dickens  A Christmas Carol   \n",
       "3  Dickens  A Christmas Carol   \n",
       "4  Dickens  A Christmas Carol   \n",
       "\n",
       "                                                text  \n",
       "0  MARLEY was dead: to begin with. There is no do...  \n",
       "1  Mind! I don't mean to say that I know, of my\\r...  \n",
       "2  Scrooge knew he was dead? Of course he did.\\r\\...  \n",
       "3  The mention of Marley's funeral brings me back...  \n",
       "4  Scrooge never painted out Old Marley's name.\\r...  "
      ]
     },
     "execution_count": 63,
     "metadata": {},
     "output_type": "execute_result"
    }
   ],
   "source": [
    "carol_df.head()"
   ]
  },
  {
   "cell_type": "code",
   "execution_count": 64,
   "metadata": {},
   "outputs": [],
   "source": [
    "# extract lemmas\n",
    "carol_df['lemmas'] = carol_df['text'].apply(process_text)"
   ]
  },
  {
   "cell_type": "code",
   "execution_count": 65,
   "metadata": {},
   "outputs": [
    {
     "data": {
      "text/html": [
       "<div>\n",
       "<style scoped>\n",
       "    .dataframe tbody tr th:only-of-type {\n",
       "        vertical-align: middle;\n",
       "    }\n",
       "\n",
       "    .dataframe tbody tr th {\n",
       "        vertical-align: top;\n",
       "    }\n",
       "\n",
       "    .dataframe thead th {\n",
       "        text-align: right;\n",
       "    }\n",
       "</style>\n",
       "<table border=\"1\" class=\"dataframe\">\n",
       "  <thead>\n",
       "    <tr style=\"text-align: right;\">\n",
       "      <th></th>\n",
       "      <th>author</th>\n",
       "      <th>title</th>\n",
       "      <th>text</th>\n",
       "      <th>lemmas</th>\n",
       "    </tr>\n",
       "  </thead>\n",
       "  <tbody>\n",
       "    <tr>\n",
       "      <th>0</th>\n",
       "      <td>Dickens</td>\n",
       "      <td>A Christmas Carol</td>\n",
       "      <td>MARLEY was dead: to begin with. There is no do...</td>\n",
       "      <td>marley dead begin doubt register burial sign c...</td>\n",
       "    </tr>\n",
       "    <tr>\n",
       "      <th>1</th>\n",
       "      <td>Dickens</td>\n",
       "      <td>A Christmas Carol</td>\n",
       "      <td>Mind! I don't mean to say that I know, of my\\r...</td>\n",
       "      <td>mind mean know knowledge particularly dead doo...</td>\n",
       "    </tr>\n",
       "    <tr>\n",
       "      <th>2</th>\n",
       "      <td>Dickens</td>\n",
       "      <td>A Christmas Carol</td>\n",
       "      <td>Scrooge knew he was dead? Of course he did.\\r\\...</td>\n",
       "      <td>scrooge know dead course scrooge partner know ...</td>\n",
       "    </tr>\n",
       "    <tr>\n",
       "      <th>3</th>\n",
       "      <td>Dickens</td>\n",
       "      <td>A Christmas Carol</td>\n",
       "      <td>The mention of Marley's funeral brings me back...</td>\n",
       "      <td>mention marley funeral bring point start doubt...</td>\n",
       "    </tr>\n",
       "    <tr>\n",
       "      <th>4</th>\n",
       "      <td>Dickens</td>\n",
       "      <td>A Christmas Carol</td>\n",
       "      <td>Scrooge never painted out Old Marley's name.\\r...</td>\n",
       "      <td>scrooge paint old marley stand year warehouse ...</td>\n",
       "    </tr>\n",
       "  </tbody>\n",
       "</table>\n",
       "</div>"
      ],
      "text/plain": [
       "    author              title  \\\n",
       "0  Dickens  A Christmas Carol   \n",
       "1  Dickens  A Christmas Carol   \n",
       "2  Dickens  A Christmas Carol   \n",
       "3  Dickens  A Christmas Carol   \n",
       "4  Dickens  A Christmas Carol   \n",
       "\n",
       "                                                text  \\\n",
       "0  MARLEY was dead: to begin with. There is no do...   \n",
       "1  Mind! I don't mean to say that I know, of my\\r...   \n",
       "2  Scrooge knew he was dead? Of course he did.\\r\\...   \n",
       "3  The mention of Marley's funeral brings me back...   \n",
       "4  Scrooge never painted out Old Marley's name.\\r...   \n",
       "\n",
       "                                              lemmas  \n",
       "0  marley dead begin doubt register burial sign c...  \n",
       "1  mind mean know knowledge particularly dead doo...  \n",
       "2  scrooge know dead course scrooge partner know ...  \n",
       "3  mention marley funeral bring point start doubt...  \n",
       "4  scrooge paint old marley stand year warehouse ...  "
      ]
     },
     "execution_count": 65,
     "metadata": {},
     "output_type": "execute_result"
    }
   ],
   "source": [
    "carol_df.head()"
   ]
  },
  {
   "cell_type": "markdown",
   "metadata": {},
   "source": [
    "## Combine DataFrames"
   ]
  },
  {
   "cell_type": "code",
   "execution_count": 66,
   "metadata": {},
   "outputs": [],
   "source": [
    "# combine DataFrames\n",
    "final_df = pd.concat([tale_df, expectations_df, carol_df], axis=0)"
   ]
  },
  {
   "cell_type": "code",
   "execution_count": 67,
   "metadata": {},
   "outputs": [
    {
     "data": {
      "text/html": [
       "<div>\n",
       "<style scoped>\n",
       "    .dataframe tbody tr th:only-of-type {\n",
       "        vertical-align: middle;\n",
       "    }\n",
       "\n",
       "    .dataframe tbody tr th {\n",
       "        vertical-align: top;\n",
       "    }\n",
       "\n",
       "    .dataframe thead th {\n",
       "        text-align: right;\n",
       "    }\n",
       "</style>\n",
       "<table border=\"1\" class=\"dataframe\">\n",
       "  <thead>\n",
       "    <tr style=\"text-align: right;\">\n",
       "      <th></th>\n",
       "      <th>author</th>\n",
       "      <th>title</th>\n",
       "      <th>text</th>\n",
       "      <th>lemmas</th>\n",
       "    </tr>\n",
       "  </thead>\n",
       "  <tbody>\n",
       "    <tr>\n",
       "      <th>3482</th>\n",
       "      <td>Dickens</td>\n",
       "      <td>Great Expectations</td>\n",
       "      <td>The sudden exclusion of the night, and the sub...</td>\n",
       "      <td>sudden exclusion night substitution black dark...</td>\n",
       "    </tr>\n",
       "    <tr>\n",
       "      <th>590</th>\n",
       "      <td>Dickens</td>\n",
       "      <td>A Christmas Carol</td>\n",
       "      <td>\"And so have I,\" cried Peter. \"Often.\"</td>\n",
       "      <td>cry peter</td>\n",
       "    </tr>\n",
       "    <tr>\n",
       "      <th>692</th>\n",
       "      <td>Dickens</td>\n",
       "      <td>Great Expectations</td>\n",
       "      <td>I heard the mice too, rattling behind the pane...</td>\n",
       "      <td>hear mouse rattle panel occurrence important i...</td>\n",
       "    </tr>\n",
       "    <tr>\n",
       "      <th>169</th>\n",
       "      <td>Dickens</td>\n",
       "      <td>Great Expectations</td>\n",
       "      <td>My sister, having so much to do, was going to ...</td>\n",
       "      <td>sister have go church vicariously joe go worki...</td>\n",
       "    </tr>\n",
       "    <tr>\n",
       "      <th>1946</th>\n",
       "      <td>Dickens</td>\n",
       "      <td>Tale</td>\n",
       "      <td>Through gloomy vaults where the light of day h...</td>\n",
       "      <td>gloomy vault light day shine past hideous door...</td>\n",
       "    </tr>\n",
       "    <tr>\n",
       "      <th>2644</th>\n",
       "      <td>Dickens</td>\n",
       "      <td>Tale</td>\n",
       "      <td>“What’s that to you? Ecod!” growled Mr. Crunch...</td>\n",
       "      <td>ecod growl cruncher get old grudge shameful im...</td>\n",
       "    </tr>\n",
       "    <tr>\n",
       "      <th>2039</th>\n",
       "      <td>Dickens</td>\n",
       "      <td>Tale</td>\n",
       "      <td>“About.”</td>\n",
       "      <td></td>\n",
       "    </tr>\n",
       "    <tr>\n",
       "      <th>1794</th>\n",
       "      <td>Dickens</td>\n",
       "      <td>Great Expectations</td>\n",
       "      <td>“What do you say to coffee?”</td>\n",
       "      <td>coffee</td>\n",
       "    </tr>\n",
       "    <tr>\n",
       "      <th>1457</th>\n",
       "      <td>Dickens</td>\n",
       "      <td>Great Expectations</td>\n",
       "      <td>“Mr. Jaggers is your guardian, I understand?” ...</td>\n",
       "      <td>jaggers guardian understand go</td>\n",
       "    </tr>\n",
       "    <tr>\n",
       "      <th>1226</th>\n",
       "      <td>Dickens</td>\n",
       "      <td>Tale</td>\n",
       "      <td>“You don’t get on with your account of your ma...</td>\n",
       "      <td>account matrimonial intention answer carton ca...</td>\n",
       "    </tr>\n",
       "    <tr>\n",
       "      <th>2933</th>\n",
       "      <td>Dickens</td>\n",
       "      <td>Tale</td>\n",
       "      <td>He carried her lightly to the door, and laid h...</td>\n",
       "      <td>carry lightly door lay tenderly coach father o...</td>\n",
       "    </tr>\n",
       "    <tr>\n",
       "      <th>3</th>\n",
       "      <td>Dickens</td>\n",
       "      <td>Great Expectations</td>\n",
       "      <td>“Hold your noise!” cried a terrible voice, as ...</td>\n",
       "      <td>hold noise cry terrible voice man start grave ...</td>\n",
       "    </tr>\n",
       "    <tr>\n",
       "      <th>531</th>\n",
       "      <td>Dickens</td>\n",
       "      <td>A Christmas Carol</td>\n",
       "      <td>But the gallantry of her friends would not all...</td>\n",
       "      <td>gallantry friend allow man fade black mount br...</td>\n",
       "    </tr>\n",
       "    <tr>\n",
       "      <th>1003</th>\n",
       "      <td>Dickens</td>\n",
       "      <td>Great Expectations</td>\n",
       "      <td>Biddy looked at me for an instant, and went on...</td>\n",
       "      <td>biddy look instant go sewing teacher say sew</td>\n",
       "    </tr>\n",
       "    <tr>\n",
       "      <th>3510</th>\n",
       "      <td>Dickens</td>\n",
       "      <td>Great Expectations</td>\n",
       "      <td>My mind, with inconceivable rapidity followed ...</td>\n",
       "      <td>mind inconceivable rapidity follow consequence...</td>\n",
       "    </tr>\n",
       "    <tr>\n",
       "      <th>969</th>\n",
       "      <td>Dickens</td>\n",
       "      <td>Tale</td>\n",
       "      <td>To this distressful emblem of a great distress...</td>\n",
       "      <td>distressful emblem great distress long grow ba...</td>\n",
       "    </tr>\n",
       "    <tr>\n",
       "      <th>868</th>\n",
       "      <td>Dickens</td>\n",
       "      <td>Great Expectations</td>\n",
       "      <td>Once, it had seemed to me that when I should a...</td>\n",
       "      <td>roll shirt sleeve forge joe prentice distingui...</td>\n",
       "    </tr>\n",
       "    <tr>\n",
       "      <th>979</th>\n",
       "      <td>Dickens</td>\n",
       "      <td>Tale</td>\n",
       "      <td>“Monseigneur, there are so many little heaps o...</td>\n",
       "      <td>monseigneur little heap poor grass</td>\n",
       "    </tr>\n",
       "    <tr>\n",
       "      <th>1410</th>\n",
       "      <td>Dickens</td>\n",
       "      <td>Great Expectations</td>\n",
       "      <td>We entered this haven through a wicket-gate, a...</td>\n",
       "      <td>enter haven wicket gate disgorge introductory ...</td>\n",
       "    </tr>\n",
       "    <tr>\n",
       "      <th>917</th>\n",
       "      <td>Dickens</td>\n",
       "      <td>Tale</td>\n",
       "      <td>“Pick up that, philosopher and vendor of wine,...</td>\n",
       "      <td>pick philosopher vendor wine say marquis throw...</td>\n",
       "    </tr>\n",
       "    <tr>\n",
       "      <th>1731</th>\n",
       "      <td>Dickens</td>\n",
       "      <td>Great Expectations</td>\n",
       "      <td>“There’s power here,” said Mr. Jaggers, coolly...</td>\n",
       "      <td>power say jaggers coolly trace sinew forefinge...</td>\n",
       "    </tr>\n",
       "    <tr>\n",
       "      <th>344</th>\n",
       "      <td>Dickens</td>\n",
       "      <td>A Christmas Carol</td>\n",
       "      <td>Scrooge did as he was told, and held it fast.</td>\n",
       "      <td>scrooge tell hold fast</td>\n",
       "    </tr>\n",
       "    <tr>\n",
       "      <th>3701</th>\n",
       "      <td>Dickens</td>\n",
       "      <td>Great Expectations</td>\n",
       "      <td>Wemmick came down to the door with me, and I a...</td>\n",
       "      <td>wemmick come door shake hand wish joy</td>\n",
       "    </tr>\n",
       "    <tr>\n",
       "      <th>791</th>\n",
       "      <td>Dickens</td>\n",
       "      <td>Great Expectations</td>\n",
       "      <td>“There, there! I know nothing about times. Let...</td>\n",
       "      <td>know time let come soon come</td>\n",
       "    </tr>\n",
       "    <tr>\n",
       "      <th>683</th>\n",
       "      <td>Dickens</td>\n",
       "      <td>Great Expectations</td>\n",
       "      <td>“Yes, ma’am. To-day is—”</td>\n",
       "      <td>yes day</td>\n",
       "    </tr>\n",
       "    <tr>\n",
       "      <th>1571</th>\n",
       "      <td>Dickens</td>\n",
       "      <td>Great Expectations</td>\n",
       "      <td>“How dare you tell me so?” retorted Mrs. Pocke...</td>\n",
       "      <td>dare tell retort pocket sit chair moment</td>\n",
       "    </tr>\n",
       "    <tr>\n",
       "      <th>2629</th>\n",
       "      <td>Dickens</td>\n",
       "      <td>Tale</td>\n",
       "      <td>“Provincial,” said the spy.</td>\n",
       "      <td>provincial say spy</td>\n",
       "    </tr>\n",
       "    <tr>\n",
       "      <th>943</th>\n",
       "      <td>Dickens</td>\n",
       "      <td>Great Expectations</td>\n",
       "      <td>“Well?” said she, fixing her eyes upon me. “I ...</td>\n",
       "      <td>say fix eye hope want</td>\n",
       "    </tr>\n",
       "    <tr>\n",
       "      <th>2566</th>\n",
       "      <td>Dickens</td>\n",
       "      <td>Great Expectations</td>\n",
       "      <td>He sat down on a chair that stood before the f...</td>\n",
       "      <td>sit chair stand fire cover forehead large brow...</td>\n",
       "    </tr>\n",
       "    <tr>\n",
       "      <th>575</th>\n",
       "      <td>Dickens</td>\n",
       "      <td>Tale</td>\n",
       "      <td>“Is there any particular and special reason fo...</td>\n",
       "      <td>particular special reason unable</td>\n",
       "    </tr>\n",
       "    <tr>\n",
       "      <th>3273</th>\n",
       "      <td>Dickens</td>\n",
       "      <td>Tale</td>\n",
       "      <td>“If those eyes of yours were bed-winches,” ret...</td>\n",
       "      <td>eye bed winch return miss pross english poster...</td>\n",
       "    </tr>\n",
       "    <tr>\n",
       "      <th>853</th>\n",
       "      <td>Dickens</td>\n",
       "      <td>Tale</td>\n",
       "      <td>He had suddenly started up, with his hand to h...</td>\n",
       "      <td>suddenly start hand head manner look terrify</td>\n",
       "    </tr>\n",
       "    <tr>\n",
       "      <th>3660</th>\n",
       "      <td>Dickens</td>\n",
       "      <td>Great Expectations</td>\n",
       "      <td>There was something charmingly cordial and eng...</td>\n",
       "      <td>charmingly cordial engage manner say handel gr...</td>\n",
       "    </tr>\n",
       "    <tr>\n",
       "      <th>1711</th>\n",
       "      <td>Dickens</td>\n",
       "      <td>Tale</td>\n",
       "      <td>“And so,” said Mr. Lorry, who could not suffic...</td>\n",
       "      <td>say lorry sufficiently admire bride move round...</td>\n",
       "    </tr>\n",
       "    <tr>\n",
       "      <th>532</th>\n",
       "      <td>Dickens</td>\n",
       "      <td>Great Expectations</td>\n",
       "      <td>“In Miss Havisham’s room.” They stared again. ...</td>\n",
       "      <td>miss havisham room stare horse add saving clau...</td>\n",
       "    </tr>\n",
       "    <tr>\n",
       "      <th>3436</th>\n",
       "      <td>Dickens</td>\n",
       "      <td>Great Expectations</td>\n",
       "      <td>“No doubt.”</td>\n",
       "      <td>doubt</td>\n",
       "    </tr>\n",
       "    <tr>\n",
       "      <th>652</th>\n",
       "      <td>Dickens</td>\n",
       "      <td>A Christmas Carol</td>\n",
       "      <td>He was checked in his transports by the church...</td>\n",
       "      <td>check transport church ring lusty peal hear cl...</td>\n",
       "    </tr>\n",
       "    <tr>\n",
       "      <th>158</th>\n",
       "      <td>Dickens</td>\n",
       "      <td>A Christmas Carol</td>\n",
       "      <td>Scrooge's countenance fell almost as low as th...</td>\n",
       "      <td>scrooge countenance fall low ghost</td>\n",
       "    </tr>\n",
       "    <tr>\n",
       "      <th>2303</th>\n",
       "      <td>Dickens</td>\n",
       "      <td>Great Expectations</td>\n",
       "      <td>“Are you quite sure, then, that you WILL come ...</td>\n",
       "      <td>sure come ask biddy stop narrow garden walk lo...</td>\n",
       "    </tr>\n",
       "    <tr>\n",
       "      <th>3305</th>\n",
       "      <td>Dickens</td>\n",
       "      <td>Tale</td>\n",
       "      <td>“I can hear,” said Miss Pross, seeing that he ...</td>\n",
       "      <td>hear say miss pross see speak o good man great...</td>\n",
       "    </tr>\n",
       "    <tr>\n",
       "      <th>50</th>\n",
       "      <td>Dickens</td>\n",
       "      <td>A Christmas Carol</td>\n",
       "      <td>\"Plenty of prisons,\" said the gentleman, layin...</td>\n",
       "      <td>plenty prison say gentleman lay pen</td>\n",
       "    </tr>\n",
       "    <tr>\n",
       "      <th>366</th>\n",
       "      <td>Dickens</td>\n",
       "      <td>Tale</td>\n",
       "      <td>“If, when I tell you, dearest dear, that your ...</td>\n",
       "      <td>tell dear dear agony come england peace rest c...</td>\n",
       "    </tr>\n",
       "    <tr>\n",
       "      <th>38</th>\n",
       "      <td>Dickens</td>\n",
       "      <td>Great Expectations</td>\n",
       "      <td>“Say Lord strike you dead if you don’t!” said ...</td>\n",
       "      <td>lord strike dead say man</td>\n",
       "    </tr>\n",
       "    <tr>\n",
       "      <th>633</th>\n",
       "      <td>Dickens</td>\n",
       "      <td>Tale</td>\n",
       "      <td>It clearly being incumbent on some one to say,...</td>\n",
       "      <td>clearly incumbent well lorry say disinterested...</td>\n",
       "    </tr>\n",
       "    <tr>\n",
       "      <th>211</th>\n",
       "      <td>Dickens</td>\n",
       "      <td>Great Expectations</td>\n",
       "      <td>“You must taste,” said my sister, addressing t...</td>\n",
       "      <td>taste say sister address guest good taste fini...</td>\n",
       "    </tr>\n",
       "    <tr>\n",
       "      <th>1332</th>\n",
       "      <td>Dickens</td>\n",
       "      <td>Tale</td>\n",
       "      <td>“Say of you, Miss Manette, and although I know...</td>\n",
       "      <td>miss manette know well mystery wretched heart ...</td>\n",
       "    </tr>\n",
       "    <tr>\n",
       "      <th>1189</th>\n",
       "      <td>Dickens</td>\n",
       "      <td>Great Expectations</td>\n",
       "      <td>“Mr. and Mrs. Hubble might like to see you in ...</td>\n",
       "      <td>hubble like new gen teel figure pip say joe in...</td>\n",
       "    </tr>\n",
       "    <tr>\n",
       "      <th>595</th>\n",
       "      <td>Dickens</td>\n",
       "      <td>A Christmas Carol</td>\n",
       "      <td>\"Sunday! You went to-day, then, Robert?\" said ...</td>\n",
       "      <td>sunday go day robert say wife</td>\n",
       "    </tr>\n",
       "    <tr>\n",
       "      <th>1516</th>\n",
       "      <td>Dickens</td>\n",
       "      <td>Great Expectations</td>\n",
       "      <td>Somehow, that pursuit seemed more in keeping w...</td>\n",
       "      <td>pursuit keep barnard inn say tone conviction ah h</td>\n",
       "    </tr>\n",
       "    <tr>\n",
       "      <th>2582</th>\n",
       "      <td>Dickens</td>\n",
       "      <td>Tale</td>\n",
       "      <td>“Come, come, Mr. Barsad!” exclaimed Sydney. “D...</td>\n",
       "      <td>come come barsad exclaim sydney ungrateful gre...</td>\n",
       "    </tr>\n",
       "  </tbody>\n",
       "</table>\n",
       "</div>"
      ],
      "text/plain": [
       "       author               title  \\\n",
       "3482  Dickens  Great Expectations   \n",
       "590   Dickens   A Christmas Carol   \n",
       "692   Dickens  Great Expectations   \n",
       "169   Dickens  Great Expectations   \n",
       "1946  Dickens                Tale   \n",
       "2644  Dickens                Tale   \n",
       "2039  Dickens                Tale   \n",
       "1794  Dickens  Great Expectations   \n",
       "1457  Dickens  Great Expectations   \n",
       "1226  Dickens                Tale   \n",
       "2933  Dickens                Tale   \n",
       "3     Dickens  Great Expectations   \n",
       "531   Dickens   A Christmas Carol   \n",
       "1003  Dickens  Great Expectations   \n",
       "3510  Dickens  Great Expectations   \n",
       "969   Dickens                Tale   \n",
       "868   Dickens  Great Expectations   \n",
       "979   Dickens                Tale   \n",
       "1410  Dickens  Great Expectations   \n",
       "917   Dickens                Tale   \n",
       "1731  Dickens  Great Expectations   \n",
       "344   Dickens   A Christmas Carol   \n",
       "3701  Dickens  Great Expectations   \n",
       "791   Dickens  Great Expectations   \n",
       "683   Dickens  Great Expectations   \n",
       "1571  Dickens  Great Expectations   \n",
       "2629  Dickens                Tale   \n",
       "943   Dickens  Great Expectations   \n",
       "2566  Dickens  Great Expectations   \n",
       "575   Dickens                Tale   \n",
       "3273  Dickens                Tale   \n",
       "853   Dickens                Tale   \n",
       "3660  Dickens  Great Expectations   \n",
       "1711  Dickens                Tale   \n",
       "532   Dickens  Great Expectations   \n",
       "3436  Dickens  Great Expectations   \n",
       "652   Dickens   A Christmas Carol   \n",
       "158   Dickens   A Christmas Carol   \n",
       "2303  Dickens  Great Expectations   \n",
       "3305  Dickens                Tale   \n",
       "50    Dickens   A Christmas Carol   \n",
       "366   Dickens                Tale   \n",
       "38    Dickens  Great Expectations   \n",
       "633   Dickens                Tale   \n",
       "211   Dickens  Great Expectations   \n",
       "1332  Dickens                Tale   \n",
       "1189  Dickens  Great Expectations   \n",
       "595   Dickens   A Christmas Carol   \n",
       "1516  Dickens  Great Expectations   \n",
       "2582  Dickens                Tale   \n",
       "\n",
       "                                                   text  \\\n",
       "3482  The sudden exclusion of the night, and the sub...   \n",
       "590              \"And so have I,\" cried Peter. \"Often.\"   \n",
       "692   I heard the mice too, rattling behind the pane...   \n",
       "169   My sister, having so much to do, was going to ...   \n",
       "1946  Through gloomy vaults where the light of day h...   \n",
       "2644  “What’s that to you? Ecod!” growled Mr. Crunch...   \n",
       "2039                                           “About.”   \n",
       "1794                       “What do you say to coffee?”   \n",
       "1457  “Mr. Jaggers is your guardian, I understand?” ...   \n",
       "1226  “You don’t get on with your account of your ma...   \n",
       "2933  He carried her lightly to the door, and laid h...   \n",
       "3     “Hold your noise!” cried a terrible voice, as ...   \n",
       "531   But the gallantry of her friends would not all...   \n",
       "1003  Biddy looked at me for an instant, and went on...   \n",
       "3510  My mind, with inconceivable rapidity followed ...   \n",
       "969   To this distressful emblem of a great distress...   \n",
       "868   Once, it had seemed to me that when I should a...   \n",
       "979   “Monseigneur, there are so many little heaps o...   \n",
       "1410  We entered this haven through a wicket-gate, a...   \n",
       "917   “Pick up that, philosopher and vendor of wine,...   \n",
       "1731  “There’s power here,” said Mr. Jaggers, coolly...   \n",
       "344       Scrooge did as he was told, and held it fast.   \n",
       "3701  Wemmick came down to the door with me, and I a...   \n",
       "791   “There, there! I know nothing about times. Let...   \n",
       "683                            “Yes, ma’am. To-day is—”   \n",
       "1571  “How dare you tell me so?” retorted Mrs. Pocke...   \n",
       "2629                        “Provincial,” said the spy.   \n",
       "943   “Well?” said she, fixing her eyes upon me. “I ...   \n",
       "2566  He sat down on a chair that stood before the f...   \n",
       "575   “Is there any particular and special reason fo...   \n",
       "3273  “If those eyes of yours were bed-winches,” ret...   \n",
       "853   He had suddenly started up, with his hand to h...   \n",
       "3660  There was something charmingly cordial and eng...   \n",
       "1711  “And so,” said Mr. Lorry, who could not suffic...   \n",
       "532   “In Miss Havisham’s room.” They stared again. ...   \n",
       "3436                                        “No doubt.”   \n",
       "652   He was checked in his transports by the church...   \n",
       "158   Scrooge's countenance fell almost as low as th...   \n",
       "2303  “Are you quite sure, then, that you WILL come ...   \n",
       "3305  “I can hear,” said Miss Pross, seeing that he ...   \n",
       "50    \"Plenty of prisons,\" said the gentleman, layin...   \n",
       "366   “If, when I tell you, dearest dear, that your ...   \n",
       "38    “Say Lord strike you dead if you don’t!” said ...   \n",
       "633   It clearly being incumbent on some one to say,...   \n",
       "211   “You must taste,” said my sister, addressing t...   \n",
       "1332  “Say of you, Miss Manette, and although I know...   \n",
       "1189  “Mr. and Mrs. Hubble might like to see you in ...   \n",
       "595   \"Sunday! You went to-day, then, Robert?\" said ...   \n",
       "1516  Somehow, that pursuit seemed more in keeping w...   \n",
       "2582  “Come, come, Mr. Barsad!” exclaimed Sydney. “D...   \n",
       "\n",
       "                                                 lemmas  \n",
       "3482  sudden exclusion night substitution black dark...  \n",
       "590                                           cry peter  \n",
       "692   hear mouse rattle panel occurrence important i...  \n",
       "169   sister have go church vicariously joe go worki...  \n",
       "1946  gloomy vault light day shine past hideous door...  \n",
       "2644  ecod growl cruncher get old grudge shameful im...  \n",
       "2039                                                     \n",
       "1794                                             coffee  \n",
       "1457                     jaggers guardian understand go  \n",
       "1226  account matrimonial intention answer carton ca...  \n",
       "2933  carry lightly door lay tenderly coach father o...  \n",
       "3     hold noise cry terrible voice man start grave ...  \n",
       "531   gallantry friend allow man fade black mount br...  \n",
       "1003       biddy look instant go sewing teacher say sew  \n",
       "3510  mind inconceivable rapidity follow consequence...  \n",
       "969   distressful emblem great distress long grow ba...  \n",
       "868   roll shirt sleeve forge joe prentice distingui...  \n",
       "979                  monseigneur little heap poor grass  \n",
       "1410  enter haven wicket gate disgorge introductory ...  \n",
       "917   pick philosopher vendor wine say marquis throw...  \n",
       "1731  power say jaggers coolly trace sinew forefinge...  \n",
       "344                              scrooge tell hold fast  \n",
       "3701              wemmick come door shake hand wish joy  \n",
       "791                        know time let come soon come  \n",
       "683                                             yes day  \n",
       "1571           dare tell retort pocket sit chair moment  \n",
       "2629                                 provincial say spy  \n",
       "943                               say fix eye hope want  \n",
       "2566  sit chair stand fire cover forehead large brow...  \n",
       "575                    particular special reason unable  \n",
       "3273  eye bed winch return miss pross english poster...  \n",
       "853        suddenly start hand head manner look terrify  \n",
       "3660  charmingly cordial engage manner say handel gr...  \n",
       "1711  say lorry sufficiently admire bride move round...  \n",
       "532   miss havisham room stare horse add saving clau...  \n",
       "3436                                              doubt  \n",
       "652   check transport church ring lusty peal hear cl...  \n",
       "158                  scrooge countenance fall low ghost  \n",
       "2303  sure come ask biddy stop narrow garden walk lo...  \n",
       "3305  hear say miss pross see speak o good man great...  \n",
       "50                  plenty prison say gentleman lay pen  \n",
       "366   tell dear dear agony come england peace rest c...  \n",
       "38                             lord strike dead say man  \n",
       "633   clearly incumbent well lorry say disinterested...  \n",
       "211   taste say sister address guest good taste fini...  \n",
       "1332  miss manette know well mystery wretched heart ...  \n",
       "1189  hubble like new gen teel figure pip say joe in...  \n",
       "595                       sunday go day robert say wife  \n",
       "1516  pursuit keep barnard inn say tone conviction ah h  \n",
       "2582  come come barsad exclaim sydney ungrateful gre...  "
      ]
     },
     "execution_count": 67,
     "metadata": {},
     "output_type": "execute_result"
    }
   ],
   "source": [
    "# sanity check\n",
    "final_df.sample(50)"
   ]
  },
  {
   "cell_type": "markdown",
   "metadata": {},
   "source": [
    "## Filter DataFrame\n",
    "Some of our rows likely just contain something like `CHAPTER III`. We can remove these \"junk rows\" out by creating a filter that filters out everything with fewer than 25 characters."
   ]
  },
  {
   "cell_type": "code",
   "execution_count": 68,
   "metadata": {},
   "outputs": [],
   "source": [
    "# filter out strings shorter than 25 characters\n",
    "length_filter = final_df['lemmas'].str.len() > 25"
   ]
  },
  {
   "cell_type": "code",
   "execution_count": 69,
   "metadata": {},
   "outputs": [],
   "source": [
    "filter_df = final_df[length_filter]"
   ]
  },
  {
   "cell_type": "code",
   "execution_count": 70,
   "metadata": {},
   "outputs": [
    {
     "data": {
      "text/html": [
       "<div>\n",
       "<style scoped>\n",
       "    .dataframe tbody tr th:only-of-type {\n",
       "        vertical-align: middle;\n",
       "    }\n",
       "\n",
       "    .dataframe tbody tr th {\n",
       "        vertical-align: top;\n",
       "    }\n",
       "\n",
       "    .dataframe thead th {\n",
       "        text-align: right;\n",
       "    }\n",
       "</style>\n",
       "<table border=\"1\" class=\"dataframe\">\n",
       "  <thead>\n",
       "    <tr style=\"text-align: right;\">\n",
       "      <th></th>\n",
       "      <th>author</th>\n",
       "      <th>title</th>\n",
       "      <th>text</th>\n",
       "      <th>lemmas</th>\n",
       "    </tr>\n",
       "  </thead>\n",
       "  <tbody>\n",
       "    <tr>\n",
       "      <th>0</th>\n",
       "      <td>Dickens</td>\n",
       "      <td>Tale</td>\n",
       "      <td>It was the best of times, it was the worst of ...</td>\n",
       "      <td>good time bad time age wisdom age foolishness ...</td>\n",
       "    </tr>\n",
       "    <tr>\n",
       "      <th>1</th>\n",
       "      <td>Dickens</td>\n",
       "      <td>Tale</td>\n",
       "      <td>There were a king with a large jaw and a queen...</td>\n",
       "      <td>king large jaw queen plain face throne england...</td>\n",
       "    </tr>\n",
       "    <tr>\n",
       "      <th>2</th>\n",
       "      <td>Dickens</td>\n",
       "      <td>Tale</td>\n",
       "      <td>It was the year of Our Lord one thousand seven...</td>\n",
       "      <td>year lord thousand seven seventy spiritual rev...</td>\n",
       "    </tr>\n",
       "    <tr>\n",
       "      <th>3</th>\n",
       "      <td>Dickens</td>\n",
       "      <td>Tale</td>\n",
       "      <td>France, less favoured on the whole as to matte...</td>\n",
       "      <td>france favour matter spiritual sister shield t...</td>\n",
       "    </tr>\n",
       "    <tr>\n",
       "      <th>4</th>\n",
       "      <td>Dickens</td>\n",
       "      <td>Tale</td>\n",
       "      <td>In England, there was scarcely an amount of or...</td>\n",
       "      <td>england scarcely order protection justify nati...</td>\n",
       "    </tr>\n",
       "  </tbody>\n",
       "</table>\n",
       "</div>"
      ],
      "text/plain": [
       "    author title                                               text  \\\n",
       "0  Dickens  Tale  It was the best of times, it was the worst of ...   \n",
       "1  Dickens  Tale  There were a king with a large jaw and a queen...   \n",
       "2  Dickens  Tale  It was the year of Our Lord one thousand seven...   \n",
       "3  Dickens  Tale  France, less favoured on the whole as to matte...   \n",
       "4  Dickens  Tale  In England, there was scarcely an amount of or...   \n",
       "\n",
       "                                              lemmas  \n",
       "0  good time bad time age wisdom age foolishness ...  \n",
       "1  king large jaw queen plain face throne england...  \n",
       "2  year lord thousand seven seventy spiritual rev...  \n",
       "3  france favour matter spiritual sister shield t...  \n",
       "4  england scarcely order protection justify nati...  "
      ]
     },
     "execution_count": 70,
     "metadata": {},
     "output_type": "execute_result"
    }
   ],
   "source": [
    "filter_df.head()"
   ]
  },
  {
   "cell_type": "code",
   "execution_count": 71,
   "metadata": {},
   "outputs": [],
   "source": [
    "# remove \\n and \\r characters from the text\n",
    "def remove_new_lines(text):\n",
    "    text = text.replace('\\n', ' ')\n",
    "    text = text.replace('\\r', ' ')\n",
    "    return text"
   ]
  },
  {
   "cell_type": "code",
   "execution_count": 72,
   "metadata": {},
   "outputs": [
    {
     "name": "stderr",
     "output_type": "stream",
     "text": [
      "/var/folders/6s/v8ym91350ng6zdbnkk6mv62m0000gn/T/ipykernel_1651/872223428.py:2: SettingWithCopyWarning: \n",
      "A value is trying to be set on a copy of a slice from a DataFrame.\n",
      "Try using .loc[row_indexer,col_indexer] = value instead\n",
      "\n",
      "See the caveats in the documentation: https://pandas.pydata.org/pandas-docs/stable/user_guide/indexing.html#returning-a-view-versus-a-copy\n",
      "  filter_df['text'] = filter_df['text'].apply(remove_new_lines)\n"
     ]
    }
   ],
   "source": [
    "# apply above function, you can ignore the warning.\n",
    "filter_df['text'] = filter_df['text'].apply(remove_new_lines)"
   ]
  },
  {
   "cell_type": "code",
   "execution_count": 73,
   "metadata": {},
   "outputs": [],
   "source": [
    "# save our work\n",
    "filter_df.to_csv('dickens_novels.csv', index=False)"
   ]
  }
 ],
 "metadata": {
  "kernelspec": {
   "display_name": "Python 3 (ipykernel)",
   "language": "python",
   "name": "python3"
  },
  "language_info": {
   "codemirror_mode": {
    "name": "ipython",
    "version": 3
   },
   "file_extension": ".py",
   "mimetype": "text/x-python",
   "name": "python",
   "nbconvert_exporter": "python",
   "pygments_lexer": "ipython3",
   "version": "3.11.4"
  }
 },
 "nbformat": 4,
 "nbformat_minor": 4
}
